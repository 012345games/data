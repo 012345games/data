{
 "cells": [
  {
   "cell_type": "code",
   "execution_count": 1,
   "id": "af1edc1c",
   "metadata": {
    "ExecuteTime": {
     "end_time": "2022-06-03T01:36:50.636038Z",
     "start_time": "2022-06-03T01:36:49.150081Z"
    }
   },
   "outputs": [],
   "source": [
    "from transformers import pipeline\n",
    "from transformers import AutoTokenizer, AutoModelForSequenceClassification\n",
    "import torch\n",
    "import torch.nn.functional as F"
   ]
  },
  {
   "cell_type": "code",
   "execution_count": 5,
   "id": "c3e6cf37",
   "metadata": {
    "ExecuteTime": {
     "end_time": "2022-06-03T01:41:37.569237Z",
     "start_time": "2022-06-03T01:41:21.761306Z"
    },
    "scrolled": false
   },
   "outputs": [
    {
     "name": "stdout",
     "output_type": "stream",
     "text": [
      "www.jogalo.com_privacypolicy\n",
      "\n",
      "Privacy Policy Search Privacy Policy for Jogalo.comAll of your personal information collected will be used to help make your visit to our site as productive and enjoyable as possible. The guarantee of the confidentiality of the personal data of the users of our site is important for Jogolo.com. All personal information relating to members, subscribers, customers or visitors using Jogolo.com will be handled in accordance with the Personal Data Protection Act of October 26, 1998 (Law 67/98). The personal information collected may include your name, email, telephone and/or mobile number, date of birth and/or others. The use of gambling.com presupposes the acceptance of this Privacy Agreement. The play.com team reserves the right to change this agreement without prior notice. Therefore, we recommend that you consult our privacy policy regularly so that you are always up to date. AdvertisementsLike other websites, we collect and use information contained in advertisements. The information contained in the advertisements includes your IP (Internet Protocol) address, your ISP (Internet Service Provider, such as Uol, Terra, or other), the browser you used when visiting our website (such as Internet Explorer or Firefox), the time of your visit and what pages you visited within our website. DoubleClick Dart Cookie Google, as a third party vendor, uses cookies to serve ads on our website; With the DART cookie, Google can display advertisements based on visits the reader has made to other websites on the Internet; Users can disable the DART cookie by visiting the Google Ads and Content Network Privacy Policy. Cookies and Web BeaconsWe use cookies to store information, such as your personal preferences when you visit our website. This may include a simple popup, or a link to various services we provide, such as forums. In addition, we also use third-party advertising on our website to support maintenance costs. Some of these advertisers may use technologies such as cookies and/or web beacons when they advertise on our website, which will make these advertisers (such as Google through Google AdSense) also receive your personal information, such as your IP, your ISP, your browser, etc. This function is generally used for geotargeting or displaying targeted advertising to a type of user (such as showing restaurant advertising to a user who visits cooking sites regularly, for example). You have the power to turn off your cookies, in your browser options, or by making changes to Anti-Virus program tools, such as Norton Internet Security. However, this may change the way you interact with our website, or other websites. This may or may not affect your ability to log in to programs, sites or forums on our and other networks. Links to Third-Party Sites Jogolo.com has links to other sites, which, in our view, may contain useful information/tools for our visitors. Our privacy policy does not apply to third-party websites, so if you visit another website from ours, you should read its privacy policy. We are not responsible for the privacy policy or content on these same sites. © RIGHTS RESERVED 2006 - 2022\n",
      "\n",
      "[{'summary_text': \"The SEC's Office of Cyber Intelligence and the Office of the Director of the Market Abuse Unit\"}]\n",
      "\n"
     ]
    }
   ],
   "source": [
    "import glob\n",
    "import pandas as pd\n",
    "from transformers import pipeline\n",
    "from transformers import AutoTokenizer, AutoModelForSequenceClassification\n",
    "import torch\n",
    "import torch.nn.functional as F\n",
    "import os\n",
    "\n",
    "#https://huggingface.co/nsi319/legal-led-base-16384\n",
    "model_name  = 'nsi319/legal-led-base-16384'\n",
    "\n",
    "# for files in glob.glob('./mp_policies_clean/*'):\n",
    "#     print(files)\n",
    "\n",
    "\n",
    "D = []\n",
    "for file in os.listdir(\"./mp_policies_clean/\"):\n",
    "    try:\n",
    "        with open(os.path.join(\"./mp_policies_clean/\", file), 'r') as f:\n",
    "            print(file)\n",
    "            print()\n",
    "            text = f.read()\n",
    "            print(text)\n",
    "            print()\n",
    "            classifier = pipeline('summarization',model = model_name)\n",
    "            result = classifier(text)\n",
    "            print(result)\n",
    "            print()\n",
    "            d = {'mp':file, 'ST': result[0]['summary_text']}\n",
    "            D.append(d)\n",
    "    except:\n",
    "        print(\"in error: \", file)\n",
    "    break\n",
    "pd.DataFrame(D).to_csv('summerized_text_of_368pp.csv',index= False)"
   ]
  },
  {
   "cell_type": "code",
   "execution_count": null,
   "id": "afc43eb1",
   "metadata": {},
   "outputs": [],
   "source": [
    "# from transformers import pipeline\n",
    "# from transformers import AutoTokenizer, AutoModelForSequenceClassification\n",
    "# import torch\n",
    "# import torch.nn.functional as F\n",
    "\n",
    "# #https://huggingface.co/nsi319/legal-led-base-16384\n",
    "# model_name  = 'nsi319/legal-led-base-16384'\n",
    "# classifier = pipeline('summarization',model = model_name)\n",
    "# results = classifier()\n",
    "\n",
    "# for result in results:\n",
    "#     print(result)"
   ]
  }
 ],
 "metadata": {
  "kernelspec": {
   "display_name": "Python 3",
   "language": "python",
   "name": "python3"
  },
  "language_info": {
   "codemirror_mode": {
    "name": "ipython",
    "version": 3
   },
   "file_extension": ".py",
   "mimetype": "text/x-python",
   "name": "python",
   "nbconvert_exporter": "python",
   "pygments_lexer": "ipython3",
   "version": "3.8.10"
  }
 },
 "nbformat": 4,
 "nbformat_minor": 5
}
