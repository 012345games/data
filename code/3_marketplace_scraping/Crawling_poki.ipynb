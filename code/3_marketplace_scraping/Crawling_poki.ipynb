{
 "cells": [
  {
   "cell_type": "code",
   "execution_count": 2,
   "metadata": {},
   "outputs": [],
   "source": [
    "import pandas as pd\n",
    "import os\n",
    "\n",
    "import requests\n",
    "import re\n",
    "import time\n",
    "import numpy as np\n",
    "import subprocess\n",
    "import random"
   ]
  },
  {
   "cell_type": "code",
   "execution_count": 46,
   "metadata": {},
   "outputs": [
    {
     "name": "stdout",
     "output_type": "stream",
     "text": [
      "[Errno 2] No such file or directory: './../outguard/instrumentation/'\n",
      "/home/gioacchino/Desktop/iogames/outguard/instrumentation\n"
     ]
    }
   ],
   "source": [
    "%cd ./../outguard/instrumentation/"
   ]
  },
  {
   "cell_type": "markdown",
   "metadata": {},
   "source": [
    "### poki.com game crawler"
   ]
  },
  {
   "cell_type": "code",
   "execution_count": null,
   "metadata": {},
   "outputs": [
    {
     "name": "stdout",
     "output_type": "stream",
     "text": [
      "\n",
      "\n",
      "scraping poki.com/en/g/pork-chopper\n",
      "Processing website:  poki.com/en/g/pork-chopper\n",
      "Processing dom file\n",
      "/home/gioacchino/Desktop/iogames/static_analysis/PATH_DOM_GAMEPLATFORMS/poki.com__en__g__pork-chopper-1595470202118.flatteneddom\n",
      "\n",
      "\n",
      "scraping poki.com/en/g/solitaire-golf\n",
      "Processing website:  poki.com/en/g/solitaire-golf\n",
      "Processing dom file\n",
      "/home/gioacchino/Desktop/iogames/static_analysis/PATH_DOM_GAMEPLATFORMS/poki.com__en__g__solitaire-golf-1595470223330.flatteneddom\n",
      "\n",
      "\n",
      "scraping poki.com/en/g/hex-frvr\n",
      "Processing website:  poki.com/en/g/hex-frvr\n",
      "Processing dom file\n",
      "/home/gioacchino/Desktop/iogames/static_analysis/PATH_DOM_GAMEPLATFORMS/poki.com__en__g__hex-frvr-1595470244554.flatteneddom\n",
      "\n",
      "\n",
      "scraping poki.com/en/g/mystical-birdlink\n",
      "Processing website:  poki.com/en/g/mystical-birdlink\n",
      "Processing dom file\n",
      "/home/gioacchino/Desktop/iogames/static_analysis/PATH_DOM_GAMEPLATFORMS/poki.com__en__g__mystical-birdlink-1595470265777.flatteneddom\n",
      "cannot annotate game info poki.com/en/g/mystical-birdlink\n",
      "\n",
      "\n",
      "scraping poki.com/en/g/1010-deluxe\n",
      "Processing website:  poki.com/en/g/1010-deluxe\n"
     ]
    }
   ],
   "source": [
    "LOG = \"/home/gioacchino/Desktop/iogames/static_analysis/poki_games2.txt\"\n",
    "INFO =  \"/home/gioacchino/Desktop/iogames/static_analysis/poki_game_info2.txt\"\n",
    "\n",
    "with open(LOG,'a') as fout:\n",
    "    fout.write(\"Game_name\" + '\\t' + \"Game_url\" + '\\n')\n",
    "\n",
    "\n",
    "CHROME = ['google-chrome',\n",
    "          '--remote-debugging-port=9222', \n",
    "          '--incognito', \n",
    "          '--allow-running-insecure-content', \n",
    "          '--headless'] \n",
    "\n",
    "\n",
    "\n",
    "def run_crawler(url):\n",
    "    #remove all dom files\n",
    "    os.system(\"rm /home/gioacchino/Desktop/iogames/static_analysis/PATH_DOM_GAMEPLATFORMS/*\")\n",
    "    \n",
    "    if \"://\" in url:\n",
    "        url = url.split(\"://\")[1]\n",
    "    if url[-1] == '/':\n",
    "        url = url[:-1]\n",
    "    \n",
    "    print(\"Processing website: \", url)\n",
    "    \n",
    "    #run chrome\n",
    "    p = subprocess.Popen(CHROME)\n",
    "    \n",
    "    #wait a bit\n",
    "    time.sleep(5)\n",
    "    \n",
    "    #run node-js script for full profiling (homepage only)\n",
    "    cmd = ['node', 'run_dom_collection.js', url]\n",
    "    try:\n",
    "        subprocess.run(cmd, timeout=60) #1min\n",
    "    except subprocess.TimeoutExpired:\n",
    "        print('run_dom_collection.js process ran too long')\n",
    "        return [],None\n",
    "#     os.system(\"node run_dom_collection.js \" + url)\n",
    "    \n",
    "    #wait a little bit\n",
    "    time.sleep(1)\n",
    "    \n",
    "    #close chrome\n",
    "    p.terminate()\n",
    "    \n",
    "    print(\"Processing dom file\")\n",
    "    #process dom\n",
    "    files = os.listdir(\"/home/gioacchino/Desktop/iogames/static_analysis/PATH_DOM_GAMEPLATFORMS/\")\n",
    "    if files!=[]:\n",
    "        dom_file = \"/home/gioacchino/Desktop/iogames/static_analysis/PATH_DOM_GAMEPLATFORMS/\" + files[0]\n",
    "    else:\n",
    "        print(\"no DOM\")\n",
    "        return\n",
    "    print(dom_file)\n",
    "    \n",
    "    game_info = None\n",
    "    try:\n",
    "        game_info = extract_poki_game_info(dom_file, url)\n",
    "    except:\n",
    "        print(\"cannot annotate game info\", url)\n",
    "    \n",
    "    return extract_games_from_dom(dom_file), game_info\n",
    "\n",
    "\n",
    "\n",
    "#crawling logic here -- \"breadth search first\" / random\n",
    "\n",
    "#init\n",
    "url = \"poki.com\" #default\n",
    "pokigames_urls = set()\n",
    "\n",
    "visited_urls = set()\n",
    "#load alrady visited (from previous crawls)\n",
    "for line in open(\"/home/gioacchino/Desktop/iogames/static_analysis/poki_game_info2.txt\"):\n",
    "    visited_urls.add(line.split(\"'url': '\")[1].split(\"'\")[0])\n",
    "if visited_urls!=set():\n",
    "    url = random.sample(visited_urls, 1)[0]\n",
    "    \n",
    "#start searching\n",
    "while True:\n",
    "    print(\"\\n\\nscraping\", url)\n",
    "    \n",
    "    crawled_games, info = run_crawler(url)\n",
    "    #annotate info on visited game\n",
    "    if info!=None:\n",
    "        with open(INFO,'a') as fout:\n",
    "            fout.write(str(info)+'\\n')\n",
    "\n",
    "    if crawled_games!=[]:\n",
    "        #add games to set\n",
    "        pokigames_urls.update([g[\"game_url\"] for g in crawled_games])\n",
    "        #log to file\n",
    "        with open(LOG,'a') as fout:\n",
    "            for x in crawled_games:\n",
    "                fout.write(x['game'] + '\\t' + x['game_url'] + '\\n')\n",
    "        #add game to visited\n",
    "        visited_urls.add(url)\n",
    "    else:\n",
    "        print(\"No result from\", url)\n",
    "    \n",
    "    #pick random url and restart\n",
    "    if pokigames_urls - visited_urls != set():\n",
    "        url = random.sample(pokigames_urls - visited_urls, 1)[0]\n",
    "    else:\n",
    "        #saturated\n",
    "        print(\"crawler is saturated\")\n",
    "        #pick a random visited one and restart\n",
    "        url = random.sample(visited_urls, 1)[0]\n",
    "#         break"
   ]
  },
  {
   "cell_type": "code",
   "execution_count": 140,
   "metadata": {},
   "outputs": [
    {
     "data": {
      "text/plain": [
       "True"
      ]
     },
     "execution_count": 140,
     "metadata": {},
     "output_type": "execute_result"
    }
   ],
   "source": [
    "(pokigames_urls - visited_urls) == set()"
   ]
  },
  {
   "cell_type": "code",
   "execution_count": 133,
   "metadata": {},
   "outputs": [
    {
     "data": {
      "text/plain": [
       "{'poki.com/en/g/basket-ball',\n",
       " 'poki.com/en/g/electric-highway',\n",
       " 'poki.com/en/g/la-rex',\n",
       " 'poki.com/en/g/lumber-jack-story',\n",
       " 'poki.com/en/g/warscrap-io',\n",
       " 'poki.comhttps:/poki.com/en/g/doctor-hero',\n",
       " 'poki.comhttps:/poki.com/en/g/screw-factory',\n",
       " 'poki.com“https:/poki.com/en/g/12-minibattles”',\n",
       " 'poki.com“https:/poki.com/en/g/minimissions”'}"
      ]
     },
     "execution_count": 133,
     "metadata": {},
     "output_type": "execute_result"
    }
   ],
   "source": [
    "pokigames_urls - visited_urls"
   ]
  },
  {
   "cell_type": "code",
   "execution_count": 105,
   "metadata": {},
   "outputs": [
    {
     "name": "stdout",
     "output_type": "stream",
     "text": [
      "Processing website:  poki.com/en/g/basket-ball\n",
      "Processing dom file\n",
      "no DOM\n"
     ]
    }
   ],
   "source": [
    "run_crawler(\"poki.com/en/g/basket-ball\")"
   ]
  },
  {
   "cell_type": "code",
   "execution_count": 110,
   "metadata": {},
   "outputs": [
    {
     "name": "stdout",
     "output_type": "stream",
     "text": [
      "pizza\n"
     ]
    }
   ],
   "source": [
    "import subprocess\n",
    "cmd = ['echo', 'gio']\n",
    "try:\n",
    "    subprocess.run(cmd, timeout=5)\n",
    "except subprocess.TimeoutExpired:\n",
    "    print('process rexan too long')\n",
    "    \n",
    "print(\"pizza\")"
   ]
  },
  {
   "cell_type": "markdown",
   "metadata": {},
   "source": [
    "### Library"
   ]
  },
  {
   "cell_type": "code",
   "execution_count": 127,
   "metadata": {},
   "outputs": [],
   "source": [
    "import json\n",
    "\n",
    "def nodes_from_tree(tree, parent, r=[]):\n",
    "    to_include = {x: parent[x] for x in parent if x!=\"children\"}\n",
    "    r = [to_include]\n",
    "    if \"children\" in parent:\n",
    "        for child in parent['children']:\n",
    "            r.extend(nodes_from_tree(tree, child, r))\n",
    "    return r\n",
    "\n",
    "#try to extract game name, dev, likes, dislikes\n",
    "def extract_poki_game_info(devtools_dom, url):\n",
    "    with open(devtools_dom) as fin:\n",
    "        jsondata = json.load(fin)\n",
    "    res = []  \n",
    "    flattendom = nodes_from_tree(jsondata, jsondata['root'])\n",
    "    \n",
    "    for node in flattendom:\n",
    "        if \"nodeType\" not in node or \"nodeName\" not in node or \"localName\" not in node:\n",
    "            continue\n",
    "        if node[\"nodeType\"]==3 and node[\"nodeName\"]==\"#text\" and node[\"localName\"]==\"\":\n",
    "            res.append(node[\"nodeValue\"])\n",
    "    \n",
    "#     for x in res:\n",
    "#         print(x)\n",
    "    #use anchor text \"by \"  \n",
    "    anchor = res.index(\"by \")\n",
    "    author = res[anchor+1]\n",
    "    likes = res[anchor+2]\n",
    "    dislikes = res[anchor+3]\n",
    "    #use anchor text \"games\" \n",
    "    anchor = res.index(\"games\")\n",
    "    category = res[anchor+1]\n",
    "    name = res[anchor+2]\n",
    "    stars = res[anchor+4]\n",
    "    votes = res[anchor+5]\n",
    "    description = res[anchor+7]\n",
    "    \n",
    "    google_play = \"not_found\"\n",
    "    apple_store = \"not_found\"\n",
    "    \n",
    "    #get google-play, apple link (if any)\n",
    "    for node in flattendom:\n",
    "        if \"attributes\" in node and \"href\" in node[\"attributes\"]:\n",
    "            for att in node[\"attributes\"]:\n",
    "                if \"play.google\" in att:\n",
    "                    google_play = att\n",
    "                if \"apps.apple.com\" in att:\n",
    "                    apple_store = att\n",
    "                    \n",
    "    \n",
    "    return {'game': name, 'url':url, 'author':author, 'category':category, \n",
    "            'votes':votes, 'likes':likes, 'dislikes':dislikes, \n",
    "            'stars':stars, 'description':description, \n",
    "            'google_play':google_play, 'apple_store':apple_store}\n",
    "    \n",
    "    \n",
    "def extract_games_from_dom(devtools_dom):\n",
    "    with open(devtools_dom) as fin:\n",
    "        jsondata = json.load(fin)\n",
    "\n",
    "    flattendom = nodes_from_tree(jsondata, jsondata['root'])\n",
    "    games = []\n",
    "\n",
    "    for node in flattendom:\n",
    "        game = False\n",
    "        if \"attributes\" in node:\n",
    "            for x in node['attributes']:\n",
    "                if \"/en/g/\" in x:\n",
    "                    game = True\n",
    "                    break\n",
    "        if game == True:\n",
    "            #collect game url\n",
    "            if \"http://\" in x or \"https://\" in x:\n",
    "                game_url = x.split(\"://\")[1]\n",
    "            else:\n",
    "                game_url = \"poki.com\" + x\n",
    "            #collect game name:\n",
    "            game_name = game_url.split(\"/\")[-1].replace(\"-\", \" \")\n",
    "            games.append({\"game\":game_name, \"game_url\":game_url})\n",
    "    return games\n",
    "\n",
    "# extract_games_from_dom(\"/home/gioacchino/Desktop/iogames/static_analysis/PATH_DOM_GAMEPLATFORMS/poki.com-1594858908882.flatteneddom\")\n"
   ]
  },
  {
   "cell_type": "markdown",
   "metadata": {},
   "source": [
    "### Check how many games we have"
   ]
  },
  {
   "cell_type": "code",
   "execution_count": 4,
   "metadata": {},
   "outputs": [
    {
     "data": {
      "text/html": [
       "<div>\n",
       "<style scoped>\n",
       "    .dataframe tbody tr th:only-of-type {\n",
       "        vertical-align: middle;\n",
       "    }\n",
       "\n",
       "    .dataframe tbody tr th {\n",
       "        vertical-align: top;\n",
       "    }\n",
       "\n",
       "    .dataframe thead th {\n",
       "        text-align: right;\n",
       "    }\n",
       "</style>\n",
       "<table border=\"1\" class=\"dataframe\">\n",
       "  <thead>\n",
       "    <tr style=\"text-align: right;\">\n",
       "      <th></th>\n",
       "      <th>game</th>\n",
       "      <th>url</th>\n",
       "      <th>author</th>\n",
       "      <th>category</th>\n",
       "      <th>votes</th>\n",
       "      <th>likes</th>\n",
       "      <th>dislikes</th>\n",
       "      <th>stars</th>\n",
       "      <th>description</th>\n",
       "      <th>google_play</th>\n",
       "      <th>apple_store</th>\n",
       "    </tr>\n",
       "  </thead>\n",
       "  <tbody>\n",
       "    <tr>\n",
       "      <th>0</th>\n",
       "      <td>Stickman Hook</td>\n",
       "      <td>poki.com/en/g/stickman-hook</td>\n",
       "      <td>Madbox</td>\n",
       "      <td>Skill Games</td>\n",
       "      <td>1,262,280</td>\n",
       "      <td>1.1M</td>\n",
       "      <td>169.2K</td>\n",
       "      <td>4.5</td>\n",
       "      <td>Stickman Hook is a skill game where you play a...</td>\n",
       "      <td>https://play.google.com/store/apps/details?id=...</td>\n",
       "      <td>not_found</td>\n",
       "    </tr>\n",
       "    <tr>\n",
       "      <th>1</th>\n",
       "      <td>ZOOM-BE 3</td>\n",
       "      <td>poki.com/en/g/zoom-be-3</td>\n",
       "      <td>Flazm</td>\n",
       "      <td>2 Player Games</td>\n",
       "      <td>29,691</td>\n",
       "      <td>26.5K</td>\n",
       "      <td>3.2K</td>\n",
       "      <td>4.6</td>\n",
       "      <td>ZOOM-BE 3 is the latest sequel to the cooperat...</td>\n",
       "      <td>not_found</td>\n",
       "      <td>not_found</td>\n",
       "    </tr>\n",
       "    <tr>\n",
       "      <th>2</th>\n",
       "      <td>ZOOM-BE</td>\n",
       "      <td>poki.com/en/g/zoom-be</td>\n",
       "      <td>Flazm</td>\n",
       "      <td>2 Player Games</td>\n",
       "      <td>145,010</td>\n",
       "      <td>126.3K</td>\n",
       "      <td>18.7K</td>\n",
       "      <td>4.5</td>\n",
       "      <td>ZOOM-BE is a cooperative game where you help t...</td>\n",
       "      <td>not_found</td>\n",
       "      <td>not_found</td>\n",
       "    </tr>\n",
       "    <tr>\n",
       "      <th>3</th>\n",
       "      <td>Stickman Fighter: Epic Battle</td>\n",
       "      <td>poki.com/en/g/stickman-fighter-epic-battle</td>\n",
       "      <td>Playtouch</td>\n",
       "      <td>Stickman Games</td>\n",
       "      <td>292,223</td>\n",
       "      <td>248.3K</td>\n",
       "      <td>44.0K</td>\n",
       "      <td>4.4</td>\n",
       "      <td>Stickman Fighter: Epic Battle is an epic stick...</td>\n",
       "      <td>not_found</td>\n",
       "      <td>not_found</td>\n",
       "    </tr>\n",
       "    <tr>\n",
       "      <th>4</th>\n",
       "      <td>Stickman Fighter: Epic Battle 2</td>\n",
       "      <td>poki.com/en/g/stickman-fighter-epic-battle-2</td>\n",
       "      <td>Playtouch</td>\n",
       "      <td>Stickman Games</td>\n",
       "      <td>100,307</td>\n",
       "      <td>88.4K</td>\n",
       "      <td>11.9K</td>\n",
       "      <td>4.5</td>\n",
       "      <td>Stickman Fighter: Epic Battle 2 is a stickman ...</td>\n",
       "      <td>not_found</td>\n",
       "      <td>not_found</td>\n",
       "    </tr>\n",
       "    <tr>\n",
       "      <th>...</th>\n",
       "      <td>...</td>\n",
       "      <td>...</td>\n",
       "      <td>...</td>\n",
       "      <td>...</td>\n",
       "      <td>...</td>\n",
       "      <td>...</td>\n",
       "      <td>...</td>\n",
       "      <td>...</td>\n",
       "      <td>...</td>\n",
       "      <td>...</td>\n",
       "      <td>...</td>\n",
       "    </tr>\n",
       "    <tr>\n",
       "      <th>1557</th>\n",
       "      <td>Mini Royale 2</td>\n",
       "      <td>poki.com/en/g/miniroyale-2-io</td>\n",
       "      <td>Cem Demir</td>\n",
       "      <td>.io Games</td>\n",
       "      <td>126,278</td>\n",
       "      <td>111.7K</td>\n",
       "      <td>14.6K</td>\n",
       "      <td>4.5</td>\n",
       "      <td>Mini Royale 2 is a battle-royale game, created...</td>\n",
       "      <td>not_found</td>\n",
       "      <td>not_found</td>\n",
       "    </tr>\n",
       "    <tr>\n",
       "      <th>1558</th>\n",
       "      <td>Masked Forces</td>\n",
       "      <td>poki.com/en/g/masked-forces</td>\n",
       "      <td>FreezeNova</td>\n",
       "      <td>Action Games</td>\n",
       "      <td>37,549</td>\n",
       "      <td>32.3K</td>\n",
       "      <td>5.3K</td>\n",
       "      <td>4.4</td>\n",
       "      <td>Sneak behind enemy lines and try to survive! M...</td>\n",
       "      <td>not_found</td>\n",
       "      <td>not_found</td>\n",
       "    </tr>\n",
       "    <tr>\n",
       "      <th>1559</th>\n",
       "      <td>Basketball FRVR</td>\n",
       "      <td>poki.com/en/g/basketball-frvr</td>\n",
       "      <td>FRVR Games</td>\n",
       "      <td>Sports Games</td>\n",
       "      <td>38,253</td>\n",
       "      <td>32.2K</td>\n",
       "      <td>6.0K</td>\n",
       "      <td>4.4</td>\n",
       "      <td>Basketball FRVR is a basketball game created b...</td>\n",
       "      <td>https://play.google.com/store/apps/details?id=...</td>\n",
       "      <td>not_found</td>\n",
       "    </tr>\n",
       "    <tr>\n",
       "      <th>1560</th>\n",
       "      <td>Basket &amp; Ball</td>\n",
       "      <td>poki.com/en/g/basket-ball</td>\n",
       "      <td>Sun Temple</td>\n",
       "      <td>Sports Games</td>\n",
       "      <td>18,056</td>\n",
       "      <td>14.9K</td>\n",
       "      <td>3.2K</td>\n",
       "      <td>4.3</td>\n",
       "      <td>Basket &amp; Ball is a basketball game like no oth...</td>\n",
       "      <td>https://play.google.com/store/apps/details?id=...</td>\n",
       "      <td>not_found</td>\n",
       "    </tr>\n",
       "    <tr>\n",
       "      <th>1561</th>\n",
       "      <td>Basket &amp; Ball</td>\n",
       "      <td>poki.com/en/g/pet-party-columns</td>\n",
       "      <td>Sun Temple</td>\n",
       "      <td>Sports Games</td>\n",
       "      <td>18,056</td>\n",
       "      <td>14.9K</td>\n",
       "      <td>3.2K</td>\n",
       "      <td>4.3</td>\n",
       "      <td>Basket &amp; Ball is a basketball game like no oth...</td>\n",
       "      <td>https://play.google.com/store/apps/details?id=...</td>\n",
       "      <td>not_found</td>\n",
       "    </tr>\n",
       "  </tbody>\n",
       "</table>\n",
       "<p>1507 rows × 11 columns</p>\n",
       "</div>"
      ],
      "text/plain": [
       "                                 game  \\\n",
       "0                       Stickman Hook   \n",
       "1                           ZOOM-BE 3   \n",
       "2                             ZOOM-BE   \n",
       "3       Stickman Fighter: Epic Battle   \n",
       "4     Stickman Fighter: Epic Battle 2   \n",
       "...                               ...   \n",
       "1557                    Mini Royale 2   \n",
       "1558                    Masked Forces   \n",
       "1559                  Basketball FRVR   \n",
       "1560                    Basket & Ball   \n",
       "1561                    Basket & Ball   \n",
       "\n",
       "                                               url      author  \\\n",
       "0                      poki.com/en/g/stickman-hook      Madbox   \n",
       "1                          poki.com/en/g/zoom-be-3       Flazm   \n",
       "2                            poki.com/en/g/zoom-be       Flazm   \n",
       "3       poki.com/en/g/stickman-fighter-epic-battle   Playtouch   \n",
       "4     poki.com/en/g/stickman-fighter-epic-battle-2   Playtouch   \n",
       "...                                            ...         ...   \n",
       "1557                 poki.com/en/g/miniroyale-2-io   Cem Demir   \n",
       "1558                   poki.com/en/g/masked-forces  FreezeNova   \n",
       "1559                 poki.com/en/g/basketball-frvr  FRVR Games   \n",
       "1560                     poki.com/en/g/basket-ball  Sun Temple   \n",
       "1561               poki.com/en/g/pet-party-columns  Sun Temple   \n",
       "\n",
       "            category      votes   likes dislikes stars  \\\n",
       "0        Skill Games  1,262,280    1.1M   169.2K   4.5   \n",
       "1     2 Player Games     29,691   26.5K     3.2K   4.6   \n",
       "2     2 Player Games    145,010  126.3K    18.7K   4.5   \n",
       "3     Stickman Games    292,223  248.3K    44.0K   4.4   \n",
       "4     Stickman Games    100,307   88.4K    11.9K   4.5   \n",
       "...              ...        ...     ...      ...   ...   \n",
       "1557       .io Games    126,278  111.7K    14.6K   4.5   \n",
       "1558    Action Games     37,549   32.3K     5.3K   4.4   \n",
       "1559    Sports Games     38,253   32.2K     6.0K   4.4   \n",
       "1560    Sports Games     18,056   14.9K     3.2K   4.3   \n",
       "1561    Sports Games     18,056   14.9K     3.2K   4.3   \n",
       "\n",
       "                                            description  \\\n",
       "0     Stickman Hook is a skill game where you play a...   \n",
       "1     ZOOM-BE 3 is the latest sequel to the cooperat...   \n",
       "2     ZOOM-BE is a cooperative game where you help t...   \n",
       "3     Stickman Fighter: Epic Battle is an epic stick...   \n",
       "4     Stickman Fighter: Epic Battle 2 is a stickman ...   \n",
       "...                                                 ...   \n",
       "1557  Mini Royale 2 is a battle-royale game, created...   \n",
       "1558  Sneak behind enemy lines and try to survive! M...   \n",
       "1559  Basketball FRVR is a basketball game created b...   \n",
       "1560  Basket & Ball is a basketball game like no oth...   \n",
       "1561  Basket & Ball is a basketball game like no oth...   \n",
       "\n",
       "                                            google_play apple_store  \n",
       "0     https://play.google.com/store/apps/details?id=...   not_found  \n",
       "1                                             not_found   not_found  \n",
       "2                                             not_found   not_found  \n",
       "3                                             not_found   not_found  \n",
       "4                                             not_found   not_found  \n",
       "...                                                 ...         ...  \n",
       "1557                                          not_found   not_found  \n",
       "1558                                          not_found   not_found  \n",
       "1559  https://play.google.com/store/apps/details?id=...   not_found  \n",
       "1560  https://play.google.com/store/apps/details?id=...   not_found  \n",
       "1561  https://play.google.com/store/apps/details?id=...   not_found  \n",
       "\n",
       "[1507 rows x 11 columns]"
      ]
     },
     "execution_count": 4,
     "metadata": {},
     "output_type": "execute_result"
    }
   ],
   "source": [
    "import ast\n",
    "\n",
    "raw_data = []\n",
    "for line in open(\"./poki_game_info2.txt\"):\n",
    "    raw_data.append(ast.literal_eval(line))\n",
    "pd.DataFrame(raw_data).drop_duplicates()"
   ]
  },
  {
   "cell_type": "markdown",
   "metadata": {},
   "source": [
    "### Old / Junk"
   ]
  },
  {
   "cell_type": "code",
   "execution_count": 128,
   "metadata": {},
   "outputs": [],
   "source": [
    "results = extract_poki_game_info(\"/home/gioacchino/Desktop/iogames/static_analysis/PATH_DOM_GAMEPLATFORMS/poki.com__en__g__screw-factory-1595230788878.flatteneddom\", \"gg\")\n"
   ]
  },
  {
   "cell_type": "code",
   "execution_count": 129,
   "metadata": {},
   "outputs": [
    {
     "data": {
      "text/plain": [
       "{'apple_store': 'https://apps.apple.com/us/app/screw-factory/id1488302065',\n",
       " 'author': 'Fomo Games',\n",
       " 'category': 'Simulation Games',\n",
       " 'description': 'Screw Factory is a simulation game where you unleash your handyman or a handywoman. Use one of the tools inside your toolkit to assemble various objects and machines. There are loads of objects to choose from, such as toys, furniture, cars, electronics and many more! As you progress through the game, you will unlock upgrades, new tools and new objects. Be careful not to tighten the screws too hard, otherwise you will lose earnings. Can you assemble every object this addictive game has to offer?',\n",
       " 'dislikes': '2.7K',\n",
       " 'game': 'Screw Factory',\n",
       " 'google_play': 'https://play.google.com/store/apps/details?id=jp.bap.game.screwfactory&hl=en_US',\n",
       " 'likes': '17.8K',\n",
       " 'stars': '4.5',\n",
       " 'url': 'gg',\n",
       " 'votes': '20,527'}"
      ]
     },
     "execution_count": 129,
     "metadata": {},
     "output_type": "execute_result"
    }
   ],
   "source": [
    "results"
   ]
  },
  {
   "cell_type": "code",
   "execution_count": 78,
   "metadata": {},
   "outputs": [
    {
     "data": {
      "text/plain": [
       "['by ']"
      ]
     },
     "execution_count": 78,
     "metadata": {},
     "output_type": "execute_result"
    }
   ],
   "source": [
    "[x for x in results if x==\"by \"]"
   ]
  },
  {
   "cell_type": "code",
   "execution_count": 79,
   "metadata": {},
   "outputs": [
    {
     "data": {
      "text/plain": [
       "10"
      ]
     },
     "execution_count": 79,
     "metadata": {},
     "output_type": "execute_result"
    }
   ],
   "source": [
    "results.index(\"by \")"
   ]
  },
  {
   "cell_type": "code",
   "execution_count": 81,
   "metadata": {},
   "outputs": [
    {
     "data": {
      "text/plain": [
       "'Destruction Crew'"
      ]
     },
     "execution_count": 81,
     "metadata": {},
     "output_type": "execute_result"
    }
   ],
   "source": [
    "results[11]"
   ]
  },
  {
   "cell_type": "code",
   "execution_count": 91,
   "metadata": {},
   "outputs": [
    {
     "data": {
      "text/plain": [
       "'285.8K'"
      ]
     },
     "execution_count": 91,
     "metadata": {},
     "output_type": "execute_result"
    }
   ],
   "source": [
    "results[12]"
   ]
  },
  {
   "cell_type": "code",
   "execution_count": 92,
   "metadata": {},
   "outputs": [
    {
     "data": {
      "text/plain": [
       "'35.9K'"
      ]
     },
     "execution_count": 92,
     "metadata": {},
     "output_type": "execute_result"
    }
   ],
   "source": [
    "results[13]"
   ]
  },
  {
   "cell_type": "code",
   "execution_count": 82,
   "metadata": {},
   "outputs": [
    {
     "data": {
      "text/plain": [
       "24"
      ]
     },
     "execution_count": 82,
     "metadata": {},
     "output_type": "execute_result"
    }
   ],
   "source": [
    "results.index(\"games\")"
   ]
  },
  {
   "cell_type": "code",
   "execution_count": 83,
   "metadata": {},
   "outputs": [
    {
     "data": {
      "text/plain": [
       "'Car Games'"
      ]
     },
     "execution_count": 83,
     "metadata": {},
     "output_type": "execute_result"
    }
   ],
   "source": [
    "results[25]"
   ]
  },
  {
   "cell_type": "code",
   "execution_count": 84,
   "metadata": {},
   "outputs": [
    {
     "data": {
      "text/plain": [
       "'Rocket Soccer Derby'"
      ]
     },
     "execution_count": 84,
     "metadata": {},
     "output_type": "execute_result"
    }
   ],
   "source": [
    "results[26]"
   ]
  },
  {
   "cell_type": "code",
   "execution_count": 85,
   "metadata": {},
   "outputs": [
    {
     "data": {
      "text/plain": [
       "'Destruction Crew'"
      ]
     },
     "execution_count": 85,
     "metadata": {},
     "output_type": "execute_result"
    }
   ],
   "source": [
    "results[27]"
   ]
  },
  {
   "cell_type": "code",
   "execution_count": 86,
   "metadata": {},
   "outputs": [
    {
     "data": {
      "text/plain": [
       "'4.5'"
      ]
     },
     "execution_count": 86,
     "metadata": {},
     "output_type": "execute_result"
    }
   ],
   "source": [
    "results[28]"
   ]
  },
  {
   "cell_type": "code",
   "execution_count": 87,
   "metadata": {},
   "outputs": [
    {
     "data": {
      "text/plain": [
       "'321,636'"
      ]
     },
     "execution_count": 87,
     "metadata": {},
     "output_type": "execute_result"
    }
   ],
   "source": [
    "results[29]"
   ]
  },
  {
   "cell_type": "code",
   "execution_count": 88,
   "metadata": {},
   "outputs": [
    {
     "data": {
      "text/plain": [
       "'votes'"
      ]
     },
     "execution_count": 88,
     "metadata": {},
     "output_type": "execute_result"
    }
   ],
   "source": [
    "results[30]"
   ]
  },
  {
   "cell_type": "code",
   "execution_count": 89,
   "metadata": {},
   "outputs": [
    {
     "data": {
      "text/plain": [
       "\"Rocket Soccer Derby is a frantic mixture of a soccer game, a car game and a simulation game in all-in-one. You have to drive around a football pitch and try to score goals against your opponent. You can choose to play a quick game or you can choose to enter the Rocket League. By entering the Rocket League you are joing the competition and you can earn in-game money and cogs to upgrade your car! You start in the Beginners League, but once you've got the hang of it you can quickly promote to the Intermediate League and maybe you can even reach the Expert League. Give it all and win the league!\""
      ]
     },
     "execution_count": 89,
     "metadata": {},
     "output_type": "execute_result"
    }
   ],
   "source": [
    "results[31]"
   ]
  },
  {
   "cell_type": "code",
   "execution_count": 90,
   "metadata": {},
   "outputs": [
    {
     "data": {
      "text/plain": [
       "'How to play:'"
      ]
     },
     "execution_count": 90,
     "metadata": {},
     "output_type": "execute_result"
    }
   ],
   "source": [
    "results[32]"
   ]
  },
  {
   "cell_type": "code",
   "execution_count": 4,
   "metadata": {},
   "outputs": [
    {
     "data": {
      "text/html": [
       "<div>\n",
       "<style scoped>\n",
       "    .dataframe tbody tr th:only-of-type {\n",
       "        vertical-align: middle;\n",
       "    }\n",
       "\n",
       "    .dataframe tbody tr th {\n",
       "        vertical-align: top;\n",
       "    }\n",
       "\n",
       "    .dataframe thead th {\n",
       "        text-align: right;\n",
       "    }\n",
       "</style>\n",
       "<table border=\"1\" class=\"dataframe\">\n",
       "  <thead>\n",
       "    <tr style=\"text-align: right;\">\n",
       "      <th></th>\n",
       "      <th>game</th>\n",
       "      <th>url</th>\n",
       "      <th>author</th>\n",
       "      <th>category</th>\n",
       "      <th>votes</th>\n",
       "      <th>likes</th>\n",
       "      <th>dislikes</th>\n",
       "      <th>stars</th>\n",
       "      <th>description</th>\n",
       "      <th>google_play</th>\n",
       "      <th>apple_store</th>\n",
       "    </tr>\n",
       "  </thead>\n",
       "  <tbody>\n",
       "    <tr>\n",
       "      <th>0</th>\n",
       "      <td>Stickman Hook</td>\n",
       "      <td>poki.com/en/g/stickman-hook</td>\n",
       "      <td>Madbox</td>\n",
       "      <td>Skill Games</td>\n",
       "      <td>1,262,280</td>\n",
       "      <td>1.1M</td>\n",
       "      <td>169.2K</td>\n",
       "      <td>4.5</td>\n",
       "      <td>Stickman Hook is a skill game where you play a...</td>\n",
       "      <td>https://play.google.com/store/apps/details?id=...</td>\n",
       "      <td>not_found</td>\n",
       "    </tr>\n",
       "    <tr>\n",
       "      <th>1</th>\n",
       "      <td>ZOOM-BE 3</td>\n",
       "      <td>poki.com/en/g/zoom-be-3</td>\n",
       "      <td>Flazm</td>\n",
       "      <td>2 Player Games</td>\n",
       "      <td>29,691</td>\n",
       "      <td>26.5K</td>\n",
       "      <td>3.2K</td>\n",
       "      <td>4.6</td>\n",
       "      <td>ZOOM-BE 3 is the latest sequel to the cooperat...</td>\n",
       "      <td>not_found</td>\n",
       "      <td>not_found</td>\n",
       "    </tr>\n",
       "    <tr>\n",
       "      <th>2</th>\n",
       "      <td>ZOOM-BE</td>\n",
       "      <td>poki.com/en/g/zoom-be</td>\n",
       "      <td>Flazm</td>\n",
       "      <td>2 Player Games</td>\n",
       "      <td>145,010</td>\n",
       "      <td>126.3K</td>\n",
       "      <td>18.7K</td>\n",
       "      <td>4.5</td>\n",
       "      <td>ZOOM-BE is a cooperative game where you help t...</td>\n",
       "      <td>not_found</td>\n",
       "      <td>not_found</td>\n",
       "    </tr>\n",
       "    <tr>\n",
       "      <th>3</th>\n",
       "      <td>Stickman Fighter: Epic Battle</td>\n",
       "      <td>poki.com/en/g/stickman-fighter-epic-battle</td>\n",
       "      <td>Playtouch</td>\n",
       "      <td>Stickman Games</td>\n",
       "      <td>292,223</td>\n",
       "      <td>248.3K</td>\n",
       "      <td>44.0K</td>\n",
       "      <td>4.4</td>\n",
       "      <td>Stickman Fighter: Epic Battle is an epic stick...</td>\n",
       "      <td>not_found</td>\n",
       "      <td>not_found</td>\n",
       "    </tr>\n",
       "    <tr>\n",
       "      <th>4</th>\n",
       "      <td>Stickman Fighter: Epic Battle 2</td>\n",
       "      <td>poki.com/en/g/stickman-fighter-epic-battle-2</td>\n",
       "      <td>Playtouch</td>\n",
       "      <td>Stickman Games</td>\n",
       "      <td>100,307</td>\n",
       "      <td>88.4K</td>\n",
       "      <td>11.9K</td>\n",
       "      <td>4.5</td>\n",
       "      <td>Stickman Fighter: Epic Battle 2 is a stickman ...</td>\n",
       "      <td>not_found</td>\n",
       "      <td>not_found</td>\n",
       "    </tr>\n",
       "    <tr>\n",
       "      <th>...</th>\n",
       "      <td>...</td>\n",
       "      <td>...</td>\n",
       "      <td>...</td>\n",
       "      <td>...</td>\n",
       "      <td>...</td>\n",
       "      <td>...</td>\n",
       "      <td>...</td>\n",
       "      <td>...</td>\n",
       "      <td>...</td>\n",
       "      <td>...</td>\n",
       "      <td>...</td>\n",
       "    </tr>\n",
       "    <tr>\n",
       "      <th>1557</th>\n",
       "      <td>Mini Royale 2</td>\n",
       "      <td>poki.com/en/g/miniroyale-2-io</td>\n",
       "      <td>Cem Demir</td>\n",
       "      <td>.io Games</td>\n",
       "      <td>126,278</td>\n",
       "      <td>111.7K</td>\n",
       "      <td>14.6K</td>\n",
       "      <td>4.5</td>\n",
       "      <td>Mini Royale 2 is a battle-royale game, created...</td>\n",
       "      <td>not_found</td>\n",
       "      <td>not_found</td>\n",
       "    </tr>\n",
       "    <tr>\n",
       "      <th>1558</th>\n",
       "      <td>Masked Forces</td>\n",
       "      <td>poki.com/en/g/masked-forces</td>\n",
       "      <td>FreezeNova</td>\n",
       "      <td>Action Games</td>\n",
       "      <td>37,549</td>\n",
       "      <td>32.3K</td>\n",
       "      <td>5.3K</td>\n",
       "      <td>4.4</td>\n",
       "      <td>Sneak behind enemy lines and try to survive! M...</td>\n",
       "      <td>not_found</td>\n",
       "      <td>not_found</td>\n",
       "    </tr>\n",
       "    <tr>\n",
       "      <th>1559</th>\n",
       "      <td>Basketball FRVR</td>\n",
       "      <td>poki.com/en/g/basketball-frvr</td>\n",
       "      <td>FRVR Games</td>\n",
       "      <td>Sports Games</td>\n",
       "      <td>38,253</td>\n",
       "      <td>32.2K</td>\n",
       "      <td>6.0K</td>\n",
       "      <td>4.4</td>\n",
       "      <td>Basketball FRVR is a basketball game created b...</td>\n",
       "      <td>https://play.google.com/store/apps/details?id=...</td>\n",
       "      <td>not_found</td>\n",
       "    </tr>\n",
       "    <tr>\n",
       "      <th>1560</th>\n",
       "      <td>Basket &amp; Ball</td>\n",
       "      <td>poki.com/en/g/basket-ball</td>\n",
       "      <td>Sun Temple</td>\n",
       "      <td>Sports Games</td>\n",
       "      <td>18,056</td>\n",
       "      <td>14.9K</td>\n",
       "      <td>3.2K</td>\n",
       "      <td>4.3</td>\n",
       "      <td>Basket &amp; Ball is a basketball game like no oth...</td>\n",
       "      <td>https://play.google.com/store/apps/details?id=...</td>\n",
       "      <td>not_found</td>\n",
       "    </tr>\n",
       "    <tr>\n",
       "      <th>1561</th>\n",
       "      <td>Basket &amp; Ball</td>\n",
       "      <td>poki.com/en/g/pet-party-columns</td>\n",
       "      <td>Sun Temple</td>\n",
       "      <td>Sports Games</td>\n",
       "      <td>18,056</td>\n",
       "      <td>14.9K</td>\n",
       "      <td>3.2K</td>\n",
       "      <td>4.3</td>\n",
       "      <td>Basket &amp; Ball is a basketball game like no oth...</td>\n",
       "      <td>https://play.google.com/store/apps/details?id=...</td>\n",
       "      <td>not_found</td>\n",
       "    </tr>\n",
       "  </tbody>\n",
       "</table>\n",
       "<p>1507 rows × 11 columns</p>\n",
       "</div>"
      ],
      "text/plain": [
       "                                 game  \\\n",
       "0                       Stickman Hook   \n",
       "1                           ZOOM-BE 3   \n",
       "2                             ZOOM-BE   \n",
       "3       Stickman Fighter: Epic Battle   \n",
       "4     Stickman Fighter: Epic Battle 2   \n",
       "...                               ...   \n",
       "1557                    Mini Royale 2   \n",
       "1558                    Masked Forces   \n",
       "1559                  Basketball FRVR   \n",
       "1560                    Basket & Ball   \n",
       "1561                    Basket & Ball   \n",
       "\n",
       "                                               url      author  \\\n",
       "0                      poki.com/en/g/stickman-hook      Madbox   \n",
       "1                          poki.com/en/g/zoom-be-3       Flazm   \n",
       "2                            poki.com/en/g/zoom-be       Flazm   \n",
       "3       poki.com/en/g/stickman-fighter-epic-battle   Playtouch   \n",
       "4     poki.com/en/g/stickman-fighter-epic-battle-2   Playtouch   \n",
       "...                                            ...         ...   \n",
       "1557                 poki.com/en/g/miniroyale-2-io   Cem Demir   \n",
       "1558                   poki.com/en/g/masked-forces  FreezeNova   \n",
       "1559                 poki.com/en/g/basketball-frvr  FRVR Games   \n",
       "1560                     poki.com/en/g/basket-ball  Sun Temple   \n",
       "1561               poki.com/en/g/pet-party-columns  Sun Temple   \n",
       "\n",
       "            category      votes   likes dislikes stars  \\\n",
       "0        Skill Games  1,262,280    1.1M   169.2K   4.5   \n",
       "1     2 Player Games     29,691   26.5K     3.2K   4.6   \n",
       "2     2 Player Games    145,010  126.3K    18.7K   4.5   \n",
       "3     Stickman Games    292,223  248.3K    44.0K   4.4   \n",
       "4     Stickman Games    100,307   88.4K    11.9K   4.5   \n",
       "...              ...        ...     ...      ...   ...   \n",
       "1557       .io Games    126,278  111.7K    14.6K   4.5   \n",
       "1558    Action Games     37,549   32.3K     5.3K   4.4   \n",
       "1559    Sports Games     38,253   32.2K     6.0K   4.4   \n",
       "1560    Sports Games     18,056   14.9K     3.2K   4.3   \n",
       "1561    Sports Games     18,056   14.9K     3.2K   4.3   \n",
       "\n",
       "                                            description  \\\n",
       "0     Stickman Hook is a skill game where you play a...   \n",
       "1     ZOOM-BE 3 is the latest sequel to the cooperat...   \n",
       "2     ZOOM-BE is a cooperative game where you help t...   \n",
       "3     Stickman Fighter: Epic Battle is an epic stick...   \n",
       "4     Stickman Fighter: Epic Battle 2 is a stickman ...   \n",
       "...                                                 ...   \n",
       "1557  Mini Royale 2 is a battle-royale game, created...   \n",
       "1558  Sneak behind enemy lines and try to survive! M...   \n",
       "1559  Basketball FRVR is a basketball game created b...   \n",
       "1560  Basket & Ball is a basketball game like no oth...   \n",
       "1561  Basket & Ball is a basketball game like no oth...   \n",
       "\n",
       "                                            google_play apple_store  \n",
       "0     https://play.google.com/store/apps/details?id=...   not_found  \n",
       "1                                             not_found   not_found  \n",
       "2                                             not_found   not_found  \n",
       "3                                             not_found   not_found  \n",
       "4                                             not_found   not_found  \n",
       "...                                                 ...         ...  \n",
       "1557                                          not_found   not_found  \n",
       "1558                                          not_found   not_found  \n",
       "1559  https://play.google.com/store/apps/details?id=...   not_found  \n",
       "1560  https://play.google.com/store/apps/details?id=...   not_found  \n",
       "1561  https://play.google.com/store/apps/details?id=...   not_found  \n",
       "\n",
       "[1507 rows x 11 columns]"
      ]
     },
     "execution_count": 4,
     "metadata": {},
     "output_type": "execute_result"
    }
   ],
   "source": [
    "import ast\n",
    "\n",
    "raw_data = []\n",
    "for line in open(\"./poki_game_info2.csv\"):\n",
    "    raw_data.append(ast.literal_eval(line))\n",
    "pd.DataFrame(raw_data).drop_duplicates()"
   ]
  },
  {
   "cell_type": "code",
   "execution_count": 5,
   "metadata": {},
   "outputs": [
    {
     "data": {
      "text/html": [
       "<div>\n",
       "<style scoped>\n",
       "    .dataframe tbody tr th:only-of-type {\n",
       "        vertical-align: middle;\n",
       "    }\n",
       "\n",
       "    .dataframe tbody tr th {\n",
       "        vertical-align: top;\n",
       "    }\n",
       "\n",
       "    .dataframe thead th {\n",
       "        text-align: right;\n",
       "    }\n",
       "</style>\n",
       "<table border=\"1\" class=\"dataframe\">\n",
       "  <thead>\n",
       "    <tr style=\"text-align: right;\">\n",
       "      <th></th>\n",
       "      <th>Unnamed: 0</th>\n",
       "      <th>game</th>\n",
       "      <th>url</th>\n",
       "      <th>categories</th>\n",
       "      <th>tech</th>\n",
       "    </tr>\n",
       "  </thead>\n",
       "  <tbody>\n",
       "    <tr>\n",
       "      <th>0</th>\n",
       "      <td>0</td>\n",
       "      <td>1 Push</td>\n",
       "      <td>/0-1-push</td>\n",
       "      <td>['1Push', 'HTML5', 'Logic']</td>\n",
       "      <td>HTML5</td>\n",
       "    </tr>\n",
       "    <tr>\n",
       "      <th>1</th>\n",
       "      <td>1</td>\n",
       "      <td>2048</td>\n",
       "      <td>/0-2048</td>\n",
       "      <td>['2048', 'Number', 'Logic', 'Strategy', 'Home'...</td>\n",
       "      <td>HTML5</td>\n",
       "    </tr>\n",
       "    <tr>\n",
       "      <th>2</th>\n",
       "      <td>2</td>\n",
       "      <td>3 Pandas</td>\n",
       "      <td>/0-3-pandas</td>\n",
       "      <td>['3Pandas', 'Logic']</td>\n",
       "      <td>Flash</td>\n",
       "    </tr>\n",
       "    <tr>\n",
       "      <th>3</th>\n",
       "      <td>3</td>\n",
       "      <td>3 Pandas in Fantasy</td>\n",
       "      <td>/0-3-pandas-in-fantasy</td>\n",
       "      <td>['3PandasinFantasy', 'Logic']</td>\n",
       "      <td>Flash</td>\n",
       "    </tr>\n",
       "    <tr>\n",
       "      <th>4</th>\n",
       "      <td>4</td>\n",
       "      <td>31</td>\n",
       "      <td>/0-31</td>\n",
       "      <td>['31', 'Strategy', 'HTML5', 'Number', 'Classic']</td>\n",
       "      <td>HTML5</td>\n",
       "    </tr>\n",
       "    <tr>\n",
       "      <th>...</th>\n",
       "      <td>...</td>\n",
       "      <td>...</td>\n",
       "      <td>...</td>\n",
       "      <td>...</td>\n",
       "      <td>...</td>\n",
       "    </tr>\n",
       "    <tr>\n",
       "      <th>1323</th>\n",
       "      <td>1323</td>\n",
       "      <td>Xlox</td>\n",
       "      <td>/0-xlox</td>\n",
       "      <td>['Xlox', 'Logic', 'HTML5']</td>\n",
       "      <td>HTML5</td>\n",
       "    </tr>\n",
       "    <tr>\n",
       "      <th>1324</th>\n",
       "      <td>1324</td>\n",
       "      <td>Yellow</td>\n",
       "      <td>/0-yellow</td>\n",
       "      <td>['Yellow', 'Logic']</td>\n",
       "      <td>Flash</td>\n",
       "    </tr>\n",
       "    <tr>\n",
       "      <th>1325</th>\n",
       "      <td>1325</td>\n",
       "      <td>Zilch</td>\n",
       "      <td>/0-zilch</td>\n",
       "      <td>['Zilch', 'Strategy', 'Classic']</td>\n",
       "      <td>Flash</td>\n",
       "    </tr>\n",
       "    <tr>\n",
       "      <th>1326</th>\n",
       "      <td>1326</td>\n",
       "      <td>Zombie Launcher</td>\n",
       "      <td>/0-zombie-launcher</td>\n",
       "      <td>['ZombieLauncher', 'HTML5']</td>\n",
       "      <td>HTML5</td>\n",
       "    </tr>\n",
       "    <tr>\n",
       "      <th>1327</th>\n",
       "      <td>1327</td>\n",
       "      <td>Zoo Match</td>\n",
       "      <td>/0-zoo-match</td>\n",
       "      <td>['ZooMatch', 'Classic', 'HTML5', 'Memory']</td>\n",
       "      <td>HTML5</td>\n",
       "    </tr>\n",
       "  </tbody>\n",
       "</table>\n",
       "<p>1328 rows × 5 columns</p>\n",
       "</div>"
      ],
      "text/plain": [
       "      Unnamed: 0                 game                     url  \\\n",
       "0              0               1 Push               /0-1-push   \n",
       "1              1                 2048                 /0-2048   \n",
       "2              2             3 Pandas             /0-3-pandas   \n",
       "3              3  3 Pandas in Fantasy  /0-3-pandas-in-fantasy   \n",
       "4              4                   31                   /0-31   \n",
       "...          ...                  ...                     ...   \n",
       "1323        1323                 Xlox                 /0-xlox   \n",
       "1324        1324               Yellow               /0-yellow   \n",
       "1325        1325                Zilch                /0-zilch   \n",
       "1326        1326      Zombie Launcher      /0-zombie-launcher   \n",
       "1327        1327            Zoo Match            /0-zoo-match   \n",
       "\n",
       "                                             categories   tech  \n",
       "0                           ['1Push', 'HTML5', 'Logic']  HTML5  \n",
       "1     ['2048', 'Number', 'Logic', 'Strategy', 'Home'...  HTML5  \n",
       "2                                  ['3Pandas', 'Logic']  Flash  \n",
       "3                         ['3PandasinFantasy', 'Logic']  Flash  \n",
       "4      ['31', 'Strategy', 'HTML5', 'Number', 'Classic']  HTML5  \n",
       "...                                                 ...    ...  \n",
       "1323                         ['Xlox', 'Logic', 'HTML5']  HTML5  \n",
       "1324                                ['Yellow', 'Logic']  Flash  \n",
       "1325                   ['Zilch', 'Strategy', 'Classic']  Flash  \n",
       "1326                        ['ZombieLauncher', 'HTML5']  HTML5  \n",
       "1327         ['ZooMatch', 'Classic', 'HTML5', 'Memory']  HTML5  \n",
       "\n",
       "[1328 rows x 5 columns]"
      ]
     },
     "execution_count": 5,
     "metadata": {},
     "output_type": "execute_result"
    }
   ],
   "source": [
    "df = pd.read_csv(\"./coolmathgames_game_info.csv\", sep='\\t')"
   ]
  },
  {
   "cell_type": "code",
   "execution_count": null,
   "metadata": {},
   "outputs": [],
   "source": []
  }
 ],
 "metadata": {
  "kernelspec": {
   "display_name": "Python 3",
   "language": "python",
   "name": "python3"
  },
  "language_info": {
   "codemirror_mode": {
    "name": "ipython",
    "version": 3
   },
   "file_extension": ".py",
   "mimetype": "text/x-python",
   "name": "python",
   "nbconvert_exporter": "python",
   "pygments_lexer": "ipython3",
   "version": "3.6.9"
  }
 },
 "nbformat": 4,
 "nbformat_minor": 2
}
