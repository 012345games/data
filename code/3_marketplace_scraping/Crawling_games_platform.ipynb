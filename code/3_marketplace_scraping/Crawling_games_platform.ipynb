{
 "cells": [
  {
   "cell_type": "code",
   "execution_count": 45,
   "metadata": {},
   "outputs": [],
   "source": [
    "import pandas as pd\n",
    "import os\n",
    "\n",
    "import requests\n",
    "import re\n",
    "import time\n",
    "import numpy as np\n",
    "import subprocess\n",
    "import random"
   ]
  },
  {
   "cell_type": "code",
   "execution_count": 46,
   "metadata": {},
   "outputs": [
    {
     "name": "stdout",
     "output_type": "stream",
     "text": [
      "[Errno 2] No such file or directory: './../outguard/instrumentation/'\n",
      "/home/gioacchino/Desktop/iogames/outguard/instrumentation\n"
     ]
    }
   ],
   "source": [
    "%cd ./../outguard/instrumentation/"
   ]
  },
  {
   "cell_type": "markdown",
   "metadata": {},
   "source": [
    "### poki.com game crawler"
   ]
  },
  {
   "cell_type": "code",
   "execution_count": null,
   "metadata": {},
   "outputs": [
    {
     "name": "stdout",
     "output_type": "stream",
     "text": [
      "\n",
      "\n",
      "scraping poki.com/en/g/pork-chopper\n",
      "Processing website:  poki.com/en/g/pork-chopper\n",
      "Processing dom file\n",
      "/home/gioacchino/Desktop/iogames/static_analysis/PATH_DOM_GAMEPLATFORMS/poki.com__en__g__pork-chopper-1595470202118.flatteneddom\n",
      "\n",
      "\n",
      "scraping poki.com/en/g/solitaire-golf\n",
      "Processing website:  poki.com/en/g/solitaire-golf\n",
      "Processing dom file\n",
      "/home/gioacchino/Desktop/iogames/static_analysis/PATH_DOM_GAMEPLATFORMS/poki.com__en__g__solitaire-golf-1595470223330.flatteneddom\n",
      "\n",
      "\n",
      "scraping poki.com/en/g/hex-frvr\n",
      "Processing website:  poki.com/en/g/hex-frvr\n",
      "Processing dom file\n",
      "/home/gioacchino/Desktop/iogames/static_analysis/PATH_DOM_GAMEPLATFORMS/poki.com__en__g__hex-frvr-1595470244554.flatteneddom\n",
      "\n",
      "\n",
      "scraping poki.com/en/g/mystical-birdlink\n",
      "Processing website:  poki.com/en/g/mystical-birdlink\n",
      "Processing dom file\n",
      "/home/gioacchino/Desktop/iogames/static_analysis/PATH_DOM_GAMEPLATFORMS/poki.com__en__g__mystical-birdlink-1595470265777.flatteneddom\n",
      "cannot annotate game info poki.com/en/g/mystical-birdlink\n",
      "\n",
      "\n",
      "scraping poki.com/en/g/1010-deluxe\n",
      "Processing website:  poki.com/en/g/1010-deluxe\n"
     ]
    }
   ],
   "source": [
    "LOG = \"/home/gioacchino/Desktop/iogames/static_analysis/poki_games2.txt\"\n",
    "INFO =  \"/home/gioacchino/Desktop/iogames/static_analysis/poki_game_info2.txt\"\n",
    "\n",
    "with open(LOG,'a') as fout:\n",
    "    fout.write(\"Game_name\" + '\\t' + \"Game_url\" + '\\n')\n",
    "\n",
    "\n",
    "CHROME = ['google-chrome',\n",
    "          '--remote-debugging-port=9222', \n",
    "          '--incognito', \n",
    "          '--allow-running-insecure-content', \n",
    "          '--headless'] \n",
    "\n",
    "\n",
    "\n",
    "def run_crawler(url):\n",
    "    #remove all dom files\n",
    "    os.system(\"rm /home/gioacchino/Desktop/iogames/static_analysis/PATH_DOM_GAMEPLATFORMS/*\")\n",
    "    \n",
    "    if \"://\" in url:\n",
    "        url = url.split(\"://\")[1]\n",
    "    if url[-1] == '/':\n",
    "        url = url[:-1]\n",
    "    \n",
    "    print(\"Processing website: \", url)\n",
    "    \n",
    "    #run chrome\n",
    "    p = subprocess.Popen(CHROME)\n",
    "    \n",
    "    #wait a bit\n",
    "    time.sleep(5)\n",
    "    \n",
    "    #run node-js script for full profiling (homepage only)\n",
    "    cmd = ['node', 'run_dom_collection.js', url]\n",
    "    try:\n",
    "        subprocess.run(cmd, timeout=60) #1min\n",
    "    except subprocess.TimeoutExpired:\n",
    "        print('run_dom_collection.js process ran too long')\n",
    "        return [],None\n",
    "#     os.system(\"node run_dom_collection.js \" + url)\n",
    "    \n",
    "    #wait a little bit\n",
    "    time.sleep(1)\n",
    "    \n",
    "    #close chrome\n",
    "    p.terminate()\n",
    "    \n",
    "    print(\"Processing dom file\")\n",
    "    #process dom\n",
    "    files = os.listdir(\"/home/gioacchino/Desktop/iogames/static_analysis/PATH_DOM_GAMEPLATFORMS/\")\n",
    "    if files!=[]:\n",
    "        dom_file = \"/home/gioacchino/Desktop/iogames/static_analysis/PATH_DOM_GAMEPLATFORMS/\" + files[0]\n",
    "    else:\n",
    "        print(\"no DOM\")\n",
    "        return\n",
    "    print(dom_file)\n",
    "    \n",
    "    game_info = None\n",
    "    try:\n",
    "        game_info = extract_poki_game_info(dom_file, url)\n",
    "    except:\n",
    "        print(\"cannot annotate game info\", url)\n",
    "    \n",
    "    return extract_games_from_dom(dom_file), game_info\n",
    "\n",
    "\n",
    "\n",
    "#crawling logic here -- \"breadth search first\" / random\n",
    "\n",
    "#init\n",
    "url = \"poki.com\" #default\n",
    "pokigames_urls = set()\n",
    "\n",
    "visited_urls = set()\n",
    "#load alrady visited (from previous crawls)\n",
    "for line in open(\"/home/gioacchino/Desktop/iogames/static_analysis/poki_game_info2.txt\"):\n",
    "    visited_urls.add(line.split(\"'url': '\")[1].split(\"'\")[0])\n",
    "if visited_urls!=set():\n",
    "    url = random.sample(visited_urls, 1)[0]\n",
    "    \n",
    "#start searching\n",
    "while True:\n",
    "    print(\"\\n\\nscraping\", url)\n",
    "    \n",
    "    crawled_games, info = run_crawler(url)\n",
    "    #annotate info on visited game\n",
    "    if info!=None:\n",
    "        with open(INFO,'a') as fout:\n",
    "            fout.write(str(info)+'\\n')\n",
    "\n",
    "    if crawled_games!=[]:\n",
    "        #add games to set\n",
    "        pokigames_urls.update([g[\"game_url\"] for g in crawled_games])\n",
    "        #log to file\n",
    "        with open(LOG,'a') as fout:\n",
    "            for x in crawled_games:\n",
    "                fout.write(x['game'] + '\\t' + x['game_url'] + '\\n')\n",
    "        #add game to visited\n",
    "        visited_urls.add(url)\n",
    "    else:\n",
    "        print(\"No result from\", url)\n",
    "    \n",
    "    #pick random url and restart\n",
    "    if pokigames_urls - visited_urls != set():\n",
    "        url = random.sample(pokigames_urls - visited_urls, 1)[0]\n",
    "    else:\n",
    "        #saturated\n",
    "        print(\"crawler is saturated\")\n",
    "        #pick a random visited one and restart\n",
    "        url = random.sample(visited_urls, 1)[0]\n",
    "#         break"
   ]
  },
  {
   "cell_type": "code",
   "execution_count": 140,
   "metadata": {},
   "outputs": [
    {
     "data": {
      "text/plain": [
       "True"
      ]
     },
     "execution_count": 140,
     "metadata": {},
     "output_type": "execute_result"
    }
   ],
   "source": [
    "(pokigames_urls - visited_urls) == set()"
   ]
  },
  {
   "cell_type": "code",
   "execution_count": 133,
   "metadata": {},
   "outputs": [
    {
     "data": {
      "text/plain": [
       "{'poki.com/en/g/basket-ball',\n",
       " 'poki.com/en/g/electric-highway',\n",
       " 'poki.com/en/g/la-rex',\n",
       " 'poki.com/en/g/lumber-jack-story',\n",
       " 'poki.com/en/g/warscrap-io',\n",
       " 'poki.comhttps:/poki.com/en/g/doctor-hero',\n",
       " 'poki.comhttps:/poki.com/en/g/screw-factory',\n",
       " 'poki.com“https:/poki.com/en/g/12-minibattles”',\n",
       " 'poki.com“https:/poki.com/en/g/minimissions”'}"
      ]
     },
     "execution_count": 133,
     "metadata": {},
     "output_type": "execute_result"
    }
   ],
   "source": [
    "pokigames_urls - visited_urls"
   ]
  },
  {
   "cell_type": "code",
   "execution_count": 105,
   "metadata": {},
   "outputs": [
    {
     "name": "stdout",
     "output_type": "stream",
     "text": [
      "Processing website:  poki.com/en/g/basket-ball\n",
      "Processing dom file\n",
      "no DOM\n"
     ]
    }
   ],
   "source": [
    "run_crawler(\"poki.com/en/g/basket-ball\")"
   ]
  },
  {
   "cell_type": "code",
   "execution_count": 110,
   "metadata": {},
   "outputs": [
    {
     "name": "stdout",
     "output_type": "stream",
     "text": [
      "pizza\n"
     ]
    }
   ],
   "source": [
    "import subprocess\n",
    "cmd = ['echo', 'gio']\n",
    "try:\n",
    "    subprocess.run(cmd, timeout=5)\n",
    "except subprocess.TimeoutExpired:\n",
    "    print('process rexan too long')\n",
    "    \n",
    "print(\"pizza\")"
   ]
  },
  {
   "cell_type": "markdown",
   "metadata": {},
   "source": [
    "### Library"
   ]
  },
  {
   "cell_type": "code",
   "execution_count": 127,
   "metadata": {},
   "outputs": [],
   "source": [
    "import json\n",
    "\n",
    "def nodes_from_tree(tree, parent, r=[]):\n",
    "    to_include = {x: parent[x] for x in parent if x!=\"children\"}\n",
    "    r = [to_include]\n",
    "    if \"children\" in parent:\n",
    "        for child in parent['children']:\n",
    "            r.extend(nodes_from_tree(tree, child, r))\n",
    "    return r\n",
    "\n",
    "#try to extract game name, dev, likes, dislikes\n",
    "def extract_poki_game_info(devtools_dom, url):\n",
    "    with open(devtools_dom) as fin:\n",
    "        jsondata = json.load(fin)\n",
    "    res = []  \n",
    "    flattendom = nodes_from_tree(jsondata, jsondata['root'])\n",
    "    \n",
    "    for node in flattendom:\n",
    "        if \"nodeType\" not in node or \"nodeName\" not in node or \"localName\" not in node:\n",
    "            continue\n",
    "        if node[\"nodeType\"]==3 and node[\"nodeName\"]==\"#text\" and node[\"localName\"]==\"\":\n",
    "            res.append(node[\"nodeValue\"])\n",
    "    \n",
    "#     for x in res:\n",
    "#         print(x)\n",
    "    #use anchor text \"by \"  \n",
    "    anchor = res.index(\"by \")\n",
    "    author = res[anchor+1]\n",
    "    likes = res[anchor+2]\n",
    "    dislikes = res[anchor+3]\n",
    "    #use anchor text \"games\" \n",
    "    anchor = res.index(\"games\")\n",
    "    category = res[anchor+1]\n",
    "    name = res[anchor+2]\n",
    "    stars = res[anchor+4]\n",
    "    votes = res[anchor+5]\n",
    "    description = res[anchor+7]\n",
    "    \n",
    "    google_play = \"not_found\"\n",
    "    apple_store = \"not_found\"\n",
    "    \n",
    "    #get google-play, apple link (if any)\n",
    "    for node in flattendom:\n",
    "        if \"attributes\" in node and \"href\" in node[\"attributes\"]:\n",
    "            for att in node[\"attributes\"]:\n",
    "                if \"play.google\" in att:\n",
    "                    google_play = att\n",
    "                if \"apps.apple.com\" in att:\n",
    "                    apple_store = att\n",
    "                    \n",
    "    \n",
    "    return {'game': name, 'url':url, 'author':author, 'category':category, \n",
    "            'votes':votes, 'likes':likes, 'dislikes':dislikes, \n",
    "            'stars':stars, 'description':description, \n",
    "            'google_play':google_play, 'apple_store':apple_store}\n",
    "    \n",
    "    \n",
    "def extract_games_from_dom(devtools_dom):\n",
    "    with open(devtools_dom) as fin:\n",
    "        jsondata = json.load(fin)\n",
    "\n",
    "    flattendom = nodes_from_tree(jsondata, jsondata['root'])\n",
    "    games = []\n",
    "\n",
    "    for node in flattendom:\n",
    "        game = False\n",
    "        if \"attributes\" in node:\n",
    "            for x in node['attributes']:\n",
    "                if \"/en/g/\" in x:\n",
    "                    game = True\n",
    "                    break\n",
    "        if game == True:\n",
    "            #collect game url\n",
    "            if \"http://\" in x or \"https://\" in x:\n",
    "                game_url = x.split(\"://\")[1]\n",
    "            else:\n",
    "                game_url = \"poki.com\" + x\n",
    "            #collect game name:\n",
    "            game_name = game_url.split(\"/\")[-1].replace(\"-\", \" \")\n",
    "            games.append({\"game\":game_name, \"game_url\":game_url})\n",
    "    return games\n",
    "\n",
    "# extract_games_from_dom(\"/home/gioacchino/Desktop/iogames/static_analysis/PATH_DOM_GAMEPLATFORMS/poki.com-1594858908882.flatteneddom\")\n"
   ]
  },
  {
   "cell_type": "code",
   "execution_count": 128,
   "metadata": {},
   "outputs": [],
   "source": [
    "results = extract_poki_game_info(\"/home/gioacchino/Desktop/iogames/static_analysis/PATH_DOM_GAMEPLATFORMS/poki.com__en__g__screw-factory-1595230788878.flatteneddom\", \"gg\")\n"
   ]
  },
  {
   "cell_type": "code",
   "execution_count": 129,
   "metadata": {},
   "outputs": [
    {
     "data": {
      "text/plain": [
       "{'apple_store': 'https://apps.apple.com/us/app/screw-factory/id1488302065',\n",
       " 'author': 'Fomo Games',\n",
       " 'category': 'Simulation Games',\n",
       " 'description': 'Screw Factory is a simulation game where you unleash your handyman or a handywoman. Use one of the tools inside your toolkit to assemble various objects and machines. There are loads of objects to choose from, such as toys, furniture, cars, electronics and many more! As you progress through the game, you will unlock upgrades, new tools and new objects. Be careful not to tighten the screws too hard, otherwise you will lose earnings. Can you assemble every object this addictive game has to offer?',\n",
       " 'dislikes': '2.7K',\n",
       " 'game': 'Screw Factory',\n",
       " 'google_play': 'https://play.google.com/store/apps/details?id=jp.bap.game.screwfactory&hl=en_US',\n",
       " 'likes': '17.8K',\n",
       " 'stars': '4.5',\n",
       " 'url': 'gg',\n",
       " 'votes': '20,527'}"
      ]
     },
     "execution_count": 129,
     "metadata": {},
     "output_type": "execute_result"
    }
   ],
   "source": [
    "results"
   ]
  },
  {
   "cell_type": "code",
   "execution_count": 78,
   "metadata": {},
   "outputs": [
    {
     "data": {
      "text/plain": [
       "['by ']"
      ]
     },
     "execution_count": 78,
     "metadata": {},
     "output_type": "execute_result"
    }
   ],
   "source": [
    "[x for x in results if x==\"by \"]"
   ]
  },
  {
   "cell_type": "code",
   "execution_count": 79,
   "metadata": {},
   "outputs": [
    {
     "data": {
      "text/plain": [
       "10"
      ]
     },
     "execution_count": 79,
     "metadata": {},
     "output_type": "execute_result"
    }
   ],
   "source": [
    "results.index(\"by \")"
   ]
  },
  {
   "cell_type": "code",
   "execution_count": 81,
   "metadata": {},
   "outputs": [
    {
     "data": {
      "text/plain": [
       "'Destruction Crew'"
      ]
     },
     "execution_count": 81,
     "metadata": {},
     "output_type": "execute_result"
    }
   ],
   "source": [
    "results[11]"
   ]
  },
  {
   "cell_type": "code",
   "execution_count": 91,
   "metadata": {},
   "outputs": [
    {
     "data": {
      "text/plain": [
       "'285.8K'"
      ]
     },
     "execution_count": 91,
     "metadata": {},
     "output_type": "execute_result"
    }
   ],
   "source": [
    "results[12]"
   ]
  },
  {
   "cell_type": "code",
   "execution_count": 92,
   "metadata": {},
   "outputs": [
    {
     "data": {
      "text/plain": [
       "'35.9K'"
      ]
     },
     "execution_count": 92,
     "metadata": {},
     "output_type": "execute_result"
    }
   ],
   "source": [
    "results[13]"
   ]
  },
  {
   "cell_type": "code",
   "execution_count": 82,
   "metadata": {},
   "outputs": [
    {
     "data": {
      "text/plain": [
       "24"
      ]
     },
     "execution_count": 82,
     "metadata": {},
     "output_type": "execute_result"
    }
   ],
   "source": [
    "results.index(\"games\")"
   ]
  },
  {
   "cell_type": "code",
   "execution_count": 83,
   "metadata": {},
   "outputs": [
    {
     "data": {
      "text/plain": [
       "'Car Games'"
      ]
     },
     "execution_count": 83,
     "metadata": {},
     "output_type": "execute_result"
    }
   ],
   "source": [
    "results[25]"
   ]
  },
  {
   "cell_type": "code",
   "execution_count": 84,
   "metadata": {},
   "outputs": [
    {
     "data": {
      "text/plain": [
       "'Rocket Soccer Derby'"
      ]
     },
     "execution_count": 84,
     "metadata": {},
     "output_type": "execute_result"
    }
   ],
   "source": [
    "results[26]"
   ]
  },
  {
   "cell_type": "code",
   "execution_count": 85,
   "metadata": {},
   "outputs": [
    {
     "data": {
      "text/plain": [
       "'Destruction Crew'"
      ]
     },
     "execution_count": 85,
     "metadata": {},
     "output_type": "execute_result"
    }
   ],
   "source": [
    "results[27]"
   ]
  },
  {
   "cell_type": "code",
   "execution_count": 86,
   "metadata": {},
   "outputs": [
    {
     "data": {
      "text/plain": [
       "'4.5'"
      ]
     },
     "execution_count": 86,
     "metadata": {},
     "output_type": "execute_result"
    }
   ],
   "source": [
    "results[28]"
   ]
  },
  {
   "cell_type": "code",
   "execution_count": 87,
   "metadata": {},
   "outputs": [
    {
     "data": {
      "text/plain": [
       "'321,636'"
      ]
     },
     "execution_count": 87,
     "metadata": {},
     "output_type": "execute_result"
    }
   ],
   "source": [
    "results[29]"
   ]
  },
  {
   "cell_type": "code",
   "execution_count": 88,
   "metadata": {},
   "outputs": [
    {
     "data": {
      "text/plain": [
       "'votes'"
      ]
     },
     "execution_count": 88,
     "metadata": {},
     "output_type": "execute_result"
    }
   ],
   "source": [
    "results[30]"
   ]
  },
  {
   "cell_type": "code",
   "execution_count": 89,
   "metadata": {},
   "outputs": [
    {
     "data": {
      "text/plain": [
       "\"Rocket Soccer Derby is a frantic mixture of a soccer game, a car game and a simulation game in all-in-one. You have to drive around a football pitch and try to score goals against your opponent. You can choose to play a quick game or you can choose to enter the Rocket League. By entering the Rocket League you are joing the competition and you can earn in-game money and cogs to upgrade your car! You start in the Beginners League, but once you've got the hang of it you can quickly promote to the Intermediate League and maybe you can even reach the Expert League. Give it all and win the league!\""
      ]
     },
     "execution_count": 89,
     "metadata": {},
     "output_type": "execute_result"
    }
   ],
   "source": [
    "results[31]"
   ]
  },
  {
   "cell_type": "code",
   "execution_count": 90,
   "metadata": {},
   "outputs": [
    {
     "data": {
      "text/plain": [
       "'How to play:'"
      ]
     },
     "execution_count": 90,
     "metadata": {},
     "output_type": "execute_result"
    }
   ],
   "source": [
    "results[32]"
   ]
  },
  {
   "cell_type": "code",
   "execution_count": null,
   "metadata": {},
   "outputs": [],
   "source": []
  }
 ],
 "metadata": {
  "kernelspec": {
   "display_name": "Python 3",
   "language": "python",
   "name": "python3"
  },
  "language_info": {
   "codemirror_mode": {
    "name": "ipython",
    "version": 3
   },
   "file_extension": ".py",
   "mimetype": "text/x-python",
   "name": "python",
   "nbconvert_exporter": "python",
   "pygments_lexer": "ipython3",
   "version": "3.6.9"
  }
 },
 "nbformat": 4,
 "nbformat_minor": 2
}
