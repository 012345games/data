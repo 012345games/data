{
 "cells": [
  {
   "cell_type": "code",
   "execution_count": 1,
   "metadata": {},
   "outputs": [],
   "source": [
    "import pandas as pd\n",
    "import os\n",
    "\n",
    "import requests\n",
    "import re\n",
    "import time\n",
    "import numpy as np\n",
    "import subprocess\n",
    "import random\n",
    "\n",
    "from bs4 import BeautifulSoup"
   ]
  },
  {
   "cell_type": "markdown",
   "metadata": {},
   "source": [
    "### addictinggames.com"
   ]
  },
  {
   "cell_type": "code",
   "execution_count": 7,
   "metadata": {},
   "outputs": [
    {
     "name": "stdout",
     "output_type": "stream",
     "text": [
      "https://www.addictinggames.com/clicker-games/index.jsp Clicker\n",
      "https://www.addictinggames.com/puzzle-games/index.jsp Puzzle\n",
      "https://www.addictinggames.com/action-games/index.jsp Action\n",
      "https://www.addictinggames.com/shooting-games/index.jsp Shooting\n",
      "https://www.addictinggames.com/zombie-games/index.jsp Zombie\n",
      "https://www.addictinggames.com/funny-games/index.jsp Funny\n",
      "https://www.addictinggames.com/car-games/index.jsp Car\n",
      "https://www.addictinggames.com/card-games/index.jsp Card\n",
      "https://www.addictinggames.com/strategy-games/index.jsp Strategy\n",
      "https://www.addictinggames.com/sports-games/index.jsp Sports\n",
      "https://www.addictinggames.com/io-games IO Games\n",
      "https://www.addictinggames.com/girl-games/index.jsp Girl Games\n",
      "https://www.addictinggames.com/download-games/index.jsp Downloads\n",
      "https://www.addictinggames.com/mmo-games MMO\n",
      "https://www.addictinggames.com/shooting-games/index.jsp Shooting\n",
      "https://www.addictinggames.com/action-games/index.jsp Action\n",
      "https://www.addictinggames.com/puzzle-games/index.jsp Puzzle\n",
      "https://www.addictinggames.com/sports-games/index.jsp Sports\n",
      "https://www.addictinggames.com/strategy-games/index.jsp Strategy\n",
      "https://www.addictinggames.com/download-games/index.jsp Downloads\n",
      "https://www.addictinggames.com/funny-games/index.jsp Funny\n",
      "https://www.addictinggames.com/girl-games/index.jsp Girl Games\n",
      "https://www.addictinggames.com/car-games/index.jsp Car\n",
      "https://www.addictinggames.com/zombie-games/index.jsp Zombie\n",
      "https://www.addictinggames.com/mmo-games MMO\n",
      "https://www.addictinggames.com/io-games IO Games\n",
      "https://www.addictinggames.com/card-games/index.jsp Card\n",
      "https://www.addictinggames.com/clicker-games/index.jsp Clicker\n"
     ]
    }
   ],
   "source": [
    "response = requests.get(\"https://www.addictinggames.com/all-categories\")\n",
    "soup = BeautifulSoup(response.text, 'html.parser')\n",
    "\n",
    "cat_containers = soup.find_all('li', class_=\"hvr-float-shadow\")\n",
    "categories = [x.find('a').text.lstrip().rstrip() for x in cat_containers]\n",
    "cat_urls = [\"https://www.addictinggames.com\" + x.find('a')['href'] for x in cat_containers]\n",
    "\n",
    "for x,y in zip(cat_urls, categories):\n",
    "    print(x,y)\n"
   ]
  },
  {
   "cell_type": "markdown",
   "metadata": {},
   "source": [
    "**problem: requires more complex crawler**"
   ]
  },
  {
   "cell_type": "code",
   "execution_count": 8,
   "metadata": {},
   "outputs": [],
   "source": [
    "# #crawling logic here -- \"breadth search first\" / random\n",
    "\n",
    "# #init\n",
    "# url = \"poki.com\" #default\n",
    "# pokigames_urls = set()\n",
    "\n",
    "# visited_urls = set()\n",
    "# #load alrady visited (from previous crawls)\n",
    "# for line in open(\"/home/gioacchino/Desktop/iogames/static_analysis/poki_game_info2.txt\"):\n",
    "#     visited_urls.add(line.split(\"'url': '\")[1].split(\"'\")[0])\n",
    "# if visited_urls!=set():\n",
    "#     url = random.sample(visited_urls, 1)[0]\n",
    "    \n",
    "# #start searching\n",
    "# while True:\n",
    "#     print(\"\\n\\nscraping\", url)\n",
    "    \n",
    "#     crawled_games, info = run_crawler(url)\n",
    "#     #annotate info on visited game\n",
    "#     if info!=None:\n",
    "#         with open(INFO,'a') as fout:\n",
    "#             fout.write(str(info)+'\\n')\n",
    "\n",
    "#     if crawled_games!=[]:\n",
    "#         #add games to set\n",
    "#         pokigames_urls.update([g[\"game_url\"] for g in crawled_games])\n",
    "#         #log to file\n",
    "#         with open(LOG,'a') as fout:\n",
    "#             for x in crawled_games:\n",
    "#                 fout.write(x['game'] + '\\t' + x['game_url'] + '\\n')\n",
    "#         #add game to visited\n",
    "#         visited_urls.add(url)\n",
    "#     else:\n",
    "#         print(\"No result from\", url)\n",
    "    \n",
    "#     #pick random url and restart\n",
    "#     if pokigames_urls - visited_urls != set():\n",
    "#         url = random.sample(pokigames_urls - visited_urls, 1)[0]\n",
    "#     else:\n",
    "#         #saturated\n",
    "#         print(\"crawler is saturated\")\n",
    "#         #pick a random visited one and restart\n",
    "#         url = random.sample(visited_urls, 1)[0]\n",
    "# #         break"
   ]
  },
  {
   "cell_type": "code",
   "execution_count": null,
   "metadata": {},
   "outputs": [],
   "source": []
  }
 ],
 "metadata": {
  "kernelspec": {
   "display_name": "Python 3",
   "language": "python",
   "name": "python3"
  },
  "language_info": {
   "codemirror_mode": {
    "name": "ipython",
    "version": 3
   },
   "file_extension": ".py",
   "mimetype": "text/x-python",
   "name": "python",
   "nbconvert_exporter": "python",
   "pygments_lexer": "ipython3",
   "version": "3.6.9"
  }
 },
 "nbformat": 4,
 "nbformat_minor": 2
}
