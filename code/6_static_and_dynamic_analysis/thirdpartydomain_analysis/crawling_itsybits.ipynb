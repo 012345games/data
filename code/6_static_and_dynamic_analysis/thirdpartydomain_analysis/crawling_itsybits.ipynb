{
 "cells": [
  {
   "cell_type": "code",
   "execution_count": 3,
   "id": "cdfe7b23",
   "metadata": {
    "ExecuteTime": {
     "end_time": "2022-02-23T03:05:56.662066Z",
     "start_time": "2022-02-23T03:05:56.659627Z"
    }
   },
   "outputs": [],
   "source": [
    "import pandas as pd"
   ]
  },
  {
   "cell_type": "markdown",
   "id": "626c689f",
   "metadata": {},
   "source": [
    "yupi.io"
   ]
  },
  {
   "cell_type": "code",
   "execution_count": 131,
   "id": "f7a22575",
   "metadata": {
    "ExecuteTime": {
     "end_time": "2022-02-23T04:29:12.280908Z",
     "start_time": "2022-02-23T04:29:12.204084Z"
    }
   },
   "outputs": [
    {
     "name": "stdout",
     "output_type": "stream",
     "text": [
      "Total links are: 63\n",
      "Unique links are: 20\n",
      "\n",
      "NLOW = 0, NHIGH = 19Expected time to crawl = 0.3hrs\n"
     ]
    }
   ],
   "source": [
    "with open(\"all_gamelinks.txt\") as f:\n",
    "    lines = f.readlines()\n",
    "    lines = [l for l in lines if \"yupi.io\" in l]\n",
    "    print(\"Total links are: \"+str(len(lines)))\n",
    "    print(\"Unique links are: \"+str(len(set(lines))))\n",
    "    print(\"\")\n",
    "    print(\"NLOW = \"+str(\"0\")+\", NHIGH = \"+str(len(set(lines))-1)+\"Expected time to crawl = \"+ str(float(\"{0:.1f}\".format(len(set(lines))/60))) + \"hrs\")\n",
    "    with open(\"yupi_links.txt\", \"w\") as f1:\n",
    "        f1.writelines(set(lines))"
   ]
  },
  {
   "cell_type": "markdown",
   "id": "131ccf94",
   "metadata": {},
   "source": [
    "yourgames.io"
   ]
  },
  {
   "cell_type": "code",
   "execution_count": 133,
   "id": "32e499b7",
   "metadata": {
    "ExecuteTime": {
     "end_time": "2022-02-23T04:48:53.419267Z",
     "start_time": "2022-02-23T04:48:53.342866Z"
    }
   },
   "outputs": [
    {
     "name": "stdout",
     "output_type": "stream",
     "text": [
      "Total links are: 68\n",
      "Unique links are: 34\n",
      "\n",
      "NLOW = 0, NHIGH = 33, Expected time to crawl = 0.6hrs\n"
     ]
    }
   ],
   "source": [
    "with open(\"all_gamelinks.txt\") as f:\n",
    "    lines = f.readlines()\n",
    "    lines = [l for l in lines if \"yourgames.io\" in l]\n",
    "    print(\"Total links are: \"+str(len(lines)))\n",
    "    print(\"Unique links are: \"+str(len(set(lines))))\n",
    "    print(\"\")\n",
    "    print(\"NLOW = \"+str(\"0\")+\", NHIGH = \"+str(len(set(lines))-1)+\", Expected time to crawl = \"+ str(float(\"{0:.1f}\".format(len(set(lines))/60))) + \"hrs\")\n",
    "    with open(\"yourgames_links.txt\", \"w\") as f1:\n",
    "        f1.writelines(set(lines))"
   ]
  },
  {
   "cell_type": "markdown",
   "id": "37c5284e",
   "metadata": {},
   "source": [
    "mousebreaker.com"
   ]
  },
  {
   "cell_type": "code",
   "execution_count": 134,
   "id": "ae0387f0",
   "metadata": {
    "ExecuteTime": {
     "end_time": "2022-02-23T04:48:58.607017Z",
     "start_time": "2022-02-23T04:48:58.529933Z"
    }
   },
   "outputs": [
    {
     "name": "stdout",
     "output_type": "stream",
     "text": [
      "Total links are: 300\n",
      "Unique links are: 81\n",
      "\n",
      "NLOW = 0, NHIGH = 80, Expected time to crawl = 1.4hrs\n"
     ]
    }
   ],
   "source": [
    "with open(\"all_gamelinks.txt\") as f:\n",
    "    lines = f.readlines()\n",
    "    lines = [l for l in lines if \"mousebreaker.com\" in l]\n",
    "    print(\"Total links are: \"+str(len(lines)))\n",
    "    print(\"Unique links are: \"+str(len(set(lines))))\n",
    "    print(\"\")\n",
    "    print(\"NLOW = \"+str(\"0\")+\", NHIGH = \"+str(len(set(lines))-1)+\", Expected time to crawl = \"+ str(float(\"{0:.1f}\".format(len(set(lines))/60))) + \"hrs\")\n",
    "    with open(\"mousebreaker_links.txt\", \"w\") as f1:\n",
    "        f1.writelines(set(lines))"
   ]
  },
  {
   "cell_type": "markdown",
   "id": "588495c1",
   "metadata": {},
   "source": [
    "bestgames.com"
   ]
  },
  {
   "cell_type": "code",
   "execution_count": 135,
   "id": "bf539b44",
   "metadata": {
    "ExecuteTime": {
     "end_time": "2022-02-23T04:50:01.788552Z",
     "start_time": "2022-02-23T04:50:01.710364Z"
    }
   },
   "outputs": [
    {
     "name": "stdout",
     "output_type": "stream",
     "text": [
      "Total links are: 88\n",
      "Unique links are: 88\n",
      "\n",
      "NLOW = 0, NHIGH = 87, Expected time to crawl = 1.5hrs\n"
     ]
    }
   ],
   "source": [
    "with open(\"all_gamelinks.txt\") as f:\n",
    "    lines = f.readlines()\n",
    "    lines = [l for l in lines if \"bestgames.com\" in l]\n",
    "    print(\"Total links are: \"+str(len(lines)))\n",
    "    print(\"Unique links are: \"+str(len(set(lines))))\n",
    "    print(\"\")\n",
    "    print(\"NLOW = \"+str(\"0\")+\", NHIGH = \"+str(len(set(lines))-1)+\", Expected time to crawl = \"+ str(float(\"{0:.1f}\".format(len(set(lines))/60))) + \"hrs\")\n",
    "    with open(\"bestgames_links.txt\", \"w\") as f1:\n",
    "        f1.writelines(set(lines))"
   ]
  },
  {
   "cell_type": "markdown",
   "id": "227741fc",
   "metadata": {},
   "source": [
    "yad.com"
   ]
  },
  {
   "cell_type": "code",
   "execution_count": 136,
   "id": "8ebd9d32",
   "metadata": {
    "ExecuteTime": {
     "end_time": "2022-02-23T04:50:43.211037Z",
     "start_time": "2022-02-23T04:50:43.136527Z"
    }
   },
   "outputs": [
    {
     "name": "stdout",
     "output_type": "stream",
     "text": [
      "Total links are: 1642\n",
      "Unique links are: 88\n",
      "\n",
      "NLOW = 0, NHIGH = 87, Expected time to crawl = 1.5hrs\n"
     ]
    }
   ],
   "source": [
    "with open(\"all_gamelinks.txt\") as f:\n",
    "    lines = f.readlines()\n",
    "    lines = [l for l in lines if \"yad.com\" in l]\n",
    "    print(\"Total links are: \"+str(len(lines)))\n",
    "    print(\"Unique links are: \"+str(len(set(lines))))\n",
    "    print(\"\")\n",
    "    print(\"NLOW = \"+str(\"0\")+\", NHIGH = \"+str(len(set(lines))-1)+\", Expected time to crawl = \"+ str(float(\"{0:.1f}\".format(len(set(lines))/60))) + \"hrs\")\n",
    "    with open(\"yad_links.txt\", \"w\") as f1:\n",
    "        f1.writelines(set(lines))"
   ]
  },
  {
   "cell_type": "markdown",
   "id": "cf7032b5",
   "metadata": {},
   "source": [
    "babygames.com"
   ]
  },
  {
   "cell_type": "code",
   "execution_count": 138,
   "id": "c8e17f2e",
   "metadata": {
    "ExecuteTime": {
     "end_time": "2022-02-23T04:52:26.146369Z",
     "start_time": "2022-02-23T04:52:26.068962Z"
    }
   },
   "outputs": [
    {
     "name": "stdout",
     "output_type": "stream",
     "text": [
      "Total links are: 63692\n",
      "Unique links are: 88\n",
      "\n",
      "NLOW = 0, NHIGH = 87, Expected time to crawl = 1.5hrs\n"
     ]
    }
   ],
   "source": [
    "with open(\"all_gamelinks.txt\") as f:\n",
    "    lines = f.readlines()\n",
    "    lines = [l for l in lines if \"babygames.com\" in l]\n",
    "    print(\"Total links are: \"+str(len(lines)))\n",
    "    print(\"Unique links are: \"+str(len(set(lines))))\n",
    "    print(\"\")\n",
    "    print(\"NLOW = \"+str(\"0\")+\", NHIGH = \"+str(len(set(lines))-1)+\", Expected time to crawl = \"+ str(float(\"{0:.1f}\".format(len(set(lines))/60))) + \"hrs\")\n",
    "    with open(\"babygames_links.txt\", \"w\") as f1:\n",
    "        f1.writelines(set(lines))"
   ]
  },
  {
   "cell_type": "markdown",
   "id": "6a920d57",
   "metadata": {},
   "source": [
    "iogame.app"
   ]
  },
  {
   "cell_type": "code",
   "execution_count": 137,
   "id": "b0331431",
   "metadata": {
    "ExecuteTime": {
     "end_time": "2022-02-23T04:51:17.484966Z",
     "start_time": "2022-02-23T04:51:17.408963Z"
    }
   },
   "outputs": [
    {
     "name": "stdout",
     "output_type": "stream",
     "text": [
      "Total links are: 496\n",
      "Unique links are: 239\n",
      "\n",
      "NLOW = 0, NHIGH = 238, Expected time to crawl = 4.0hrs\n"
     ]
    }
   ],
   "source": [
    "with open(\"all_gamelinks.txt\") as f:\n",
    "    lines = f.readlines()\n",
    "    lines = [l for l in lines if \"iogame.app\" in l]\n",
    "    print(\"Total links are: \"+str(len(lines)))\n",
    "    print(\"Unique links are: \"+str(len(set(lines))))\n",
    "    print(\"\")\n",
    "    print(\"NLOW = \"+str(\"0\")+\", NHIGH = \"+str(len(set(lines))-1)+\", Expected time to crawl = \"+ str(float(\"{0:.1f}\".format(len(set(lines))/60))) + \"hrs\")\n",
    "    with open(\"iogame_links.txt\", \"w\") as f1:\n",
    "        f1.writelines(set(lines))"
   ]
  },
  {
   "cell_type": "markdown",
   "id": "551163f7",
   "metadata": {},
   "source": [
    "friv.com"
   ]
  },
  {
   "cell_type": "code",
   "execution_count": 107,
   "id": "99e37e22",
   "metadata": {
    "ExecuteTime": {
     "end_time": "2022-02-23T04:02:46.498147Z",
     "start_time": "2022-02-23T04:02:46.417715Z"
    }
   },
   "outputs": [
    {
     "name": "stdout",
     "output_type": "stream",
     "text": [
      "Total links are: 345\n",
      "Unique links are: 345\n",
      "\n",
      "NLOW = 0, NHIGH = 344, Expected time to crawl = 5.8hrs\n"
     ]
    }
   ],
   "source": [
    "with open(\"all_gamelinks.txt\") as f:\n",
    "    lines = f.readlines()\n",
    "    lines = [l for l in lines if \"friv.com\" in l]\n",
    "    print(\"Total links are: \"+str(len(lines)))\n",
    "    print(\"Unique links are: \"+str(len(set(lines))))\n",
    "    print(\"\")\n",
    "    print(\"NLOW = \"+str(\"0\")+\", NHIGH = \"+str(len(set(lines))-1)+\", Expected time to crawl = \"+ str(float(\"{0:.1f}\".format(len(set(lines))/60))) + \"hrs\")\n",
    "    with open(\"friv_links.txt\", \"w\") as f1:\n",
    "        f1.writelines(set(lines))"
   ]
  },
  {
   "cell_type": "markdown",
   "id": "772f9c28",
   "metadata": {},
   "source": [
    "webgameapp.com"
   ]
  },
  {
   "cell_type": "code",
   "execution_count": 108,
   "id": "79507b6d",
   "metadata": {
    "ExecuteTime": {
     "end_time": "2022-02-23T04:02:54.869410Z",
     "start_time": "2022-02-23T04:02:54.792281Z"
    }
   },
   "outputs": [
    {
     "name": "stdout",
     "output_type": "stream",
     "text": [
      "Total links are: 368\n",
      "Unique links are: 368\n",
      "\n",
      "NLOW = 0, NHIGH = 367, Expected time to crawl = 6.1hrs\n"
     ]
    }
   ],
   "source": [
    "with open(\"all_gamelinks.txt\") as f:\n",
    "    lines = f.readlines()\n",
    "    lines = [l for l in lines if \"webgameapp.com\" in l]\n",
    "    print(\"Total links are: \"+str(len(lines)))\n",
    "    print(\"Unique links are: \"+str(len(set(lines))))\n",
    "    print(\"\")\n",
    "    print(\"NLOW = \"+str(\"0\")+\", NHIGH = \"+str(len(set(lines))-1)+\", Expected time to crawl = \"+ str(float(\"{0:.1f}\".format(len(set(lines))/60))) + \"hrs\")\n",
    "    with open(\"webgameapp_links.txt\", \"w\") as f1:\n",
    "        f1.writelines(set(lines))"
   ]
  },
  {
   "cell_type": "markdown",
   "id": "bb484d01",
   "metadata": {},
   "source": [
    "poki"
   ]
  },
  {
   "cell_type": "code",
   "execution_count": 109,
   "id": "203548e0",
   "metadata": {
    "ExecuteTime": {
     "end_time": "2022-02-23T04:03:02.884130Z",
     "start_time": "2022-02-23T04:03:02.805599Z"
    }
   },
   "outputs": [
    {
     "name": "stdout",
     "output_type": "stream",
     "text": [
      "Total links are: 1507\n",
      "Unique links are: 601\n",
      "\n",
      "NLOW = 0, NHIGH = 600, Expected time to crawl = 10.0hrs\n"
     ]
    }
   ],
   "source": [
    "with open(\"all_gamelinks.txt\") as f:\n",
    "    lines = f.readlines()\n",
    "    lines = [l for l in lines if \"poki.com\" in l]\n",
    "    print(\"Total links are: \"+str(len(lines)))\n",
    "    print(\"Unique links are: \"+str(len(set(lines))))\n",
    "    print(\"\")\n",
    "    print(\"NLOW = \"+str(\"0\")+\", NHIGH = \"+str(len(set(lines))-1)+\", Expected time to crawl = \"+ str(float(\"{0:.1f}\".format(len(set(lines))/60))) + \"hrs\")\n",
    "    with open(\"poki_links.txt\", \"w\") as f1:\n",
    "        f1.writelines(set(lines))"
   ]
  },
  {
   "cell_type": "markdown",
   "id": "56c71964",
   "metadata": {},
   "source": [
    "gameflare.com"
   ]
  },
  {
   "cell_type": "code",
   "execution_count": 110,
   "id": "719228cd",
   "metadata": {
    "ExecuteTime": {
     "end_time": "2022-02-23T04:03:12.473571Z",
     "start_time": "2022-02-23T04:03:12.394080Z"
    }
   },
   "outputs": [
    {
     "name": "stdout",
     "output_type": "stream",
     "text": [
      "Total links are: 2439\n",
      "Unique links are: 943\n",
      "\n",
      "NLOW = 0, NHIGH = 942, Expected time to crawl = 15.7hrs\n"
     ]
    }
   ],
   "source": [
    "with open(\"all_gamelinks.txt\") as f:\n",
    "    lines = f.readlines()\n",
    "    lines = [l for l in lines if \"gameflare.com\" in l]\n",
    "    print(\"Total links are: \"+str(len(lines)))\n",
    "    print(\"Unique links are: \"+str(len(set(lines))))\n",
    "    print(\"\")\n",
    "    print(\"NLOW = \"+str(\"0\")+\", NHIGH = \"+str(len(set(lines))-1)+\", Expected time to crawl = \"+ str(float(\"{0:.1f}\".format(len(set(lines))/60))) + \"hrs\")\n",
    "    with open(\"gameflare_links.txt\", \"w\") as f1:\n",
    "        f1.writelines(set(lines))"
   ]
  },
  {
   "cell_type": "markdown",
   "id": "251b008e",
   "metadata": {},
   "source": [
    "ufreegames.com"
   ]
  },
  {
   "cell_type": "code",
   "execution_count": 111,
   "id": "798bfcba",
   "metadata": {
    "ExecuteTime": {
     "end_time": "2022-02-23T04:03:20.142682Z",
     "start_time": "2022-02-23T04:03:20.071835Z"
    }
   },
   "outputs": [
    {
     "name": "stdout",
     "output_type": "stream",
     "text": [
      "Total links are: 1033\n",
      "Unique links are: 1033\n",
      "\n",
      "NLOW = 0, NHIGH = 1032, Expected time to crawl = 17.2hrs\n"
     ]
    }
   ],
   "source": [
    "with open(\"all_gamelinks.txt\") as f:\n",
    "    lines = f.readlines()\n",
    "    lines = [l for l in lines if \"ufreegames.com\" in l]\n",
    "    print(\"Total links are: \"+str(len(lines)))\n",
    "    print(\"Unique links are: \"+str(len(set(lines))))\n",
    "    print(\"\")\n",
    "    print(\"NLOW = \"+str(\"0\")+\", NHIGH = \"+str(len(set(lines))-1)+\", Expected time to crawl = \"+ str(float(\"{0:.1f}\".format(len(set(lines))/60))) + \"hrs\")\n",
    "    with open(\"ufreegames_links.txt\", \"w\") as f1:\n",
    "        f1.writelines(set(lines))"
   ]
  },
  {
   "cell_type": "markdown",
   "id": "13183278",
   "metadata": {},
   "source": [
    "miniclip.com"
   ]
  },
  {
   "cell_type": "code",
   "execution_count": 112,
   "id": "5a384ad6",
   "metadata": {
    "ExecuteTime": {
     "end_time": "2022-02-23T04:03:27.078109Z",
     "start_time": "2022-02-23T04:03:27.001081Z"
    }
   },
   "outputs": [
    {
     "name": "stdout",
     "output_type": "stream",
     "text": [
      "Total links are: 4190\n",
      "Unique links are: 1139\n",
      "\n",
      "NLOW = 0, NHIGH = 1138, Expected time to crawl = 19.0hrs\n"
     ]
    }
   ],
   "source": [
    "with open(\"all_gamelinks.txt\") as f:\n",
    "    lines = f.readlines()\n",
    "    lines = [l for l in lines if \"miniclip.com\" in l]\n",
    "    print(\"Total links are: \"+str(len(lines)))\n",
    "    print(\"Unique links are: \"+str(len(set(lines))))\n",
    "    print(\"\")\n",
    "    print(\"NLOW = \"+str(\"0\")+\", NHIGH = \"+str(len(set(lines))-1)+\", Expected time to crawl = \"+ str(float(\"{0:.1f}\".format(len(set(lines))/60))) + \"hrs\")\n",
    "    with open(\"miniclip_links.txt\", \"w\") as f1:\n",
    "        f1.writelines(set(lines))"
   ]
  },
  {
   "cell_type": "markdown",
   "id": "1a3bebe4",
   "metadata": {},
   "source": [
    "coolmathgames.com"
   ]
  },
  {
   "cell_type": "code",
   "execution_count": 116,
   "id": "343d258b",
   "metadata": {
    "ExecuteTime": {
     "end_time": "2022-02-23T04:04:06.867724Z",
     "start_time": "2022-02-23T04:04:06.786722Z"
    }
   },
   "outputs": [
    {
     "name": "stdout",
     "output_type": "stream",
     "text": [
      "Total links are: 1328\n",
      "Unique links are: 1328\n",
      "\n",
      "NLOW = 0, NHIGH = 1327, Expected time to crawl = 22.1hrs\n"
     ]
    }
   ],
   "source": [
    "with open(\"all_gamelinks.txt\") as f:\n",
    "    lines = f.readlines()\n",
    "    lines = [l for l in lines if \"coolmathgames.com\" in l]\n",
    "    print(\"Total links are: \"+str(len(lines)))\n",
    "    print(\"Unique links are: \"+str(len(set(lines))))\n",
    "    print(\"\")\n",
    "    print(\"NLOW = \"+str(\"0\")+\", NHIGH = \"+str(len(set(lines))-1)+\", Expected time to crawl = \"+ str(float(\"{0:.1f}\".format(len(set(lines))/60))) + \"hrs\")\n",
    "    with open(\"coolmathgames_links.txt\", \"w\") as f1:\n",
    "        f1.writelines(set(lines))"
   ]
  },
  {
   "cell_type": "markdown",
   "id": "369d0a41",
   "metadata": {},
   "source": [
    "kibagames.com"
   ]
  },
  {
   "cell_type": "code",
   "execution_count": 117,
   "id": "795c140a",
   "metadata": {
    "ExecuteTime": {
     "end_time": "2022-02-23T04:04:26.781211Z",
     "start_time": "2022-02-23T04:04:26.699599Z"
    }
   },
   "outputs": [
    {
     "name": "stdout",
     "output_type": "stream",
     "text": [
      "Total links are: 4138\n",
      "Unique links are: 2211\n",
      "\n",
      "NLOW = 0, NHIGH = 2210, Expected time to crawl = 36.9hrs\n"
     ]
    }
   ],
   "source": [
    "with open(\"all_gamelinks.txt\") as f:\n",
    "    lines = f.readlines()\n",
    "    lines = [l for l in lines if \"kibagames.com\" in l]\n",
    "    print(\"Total links are: \"+str(len(lines)))\n",
    "    print(\"Unique links are: \"+str(len(set(lines))))\n",
    "    print(\"\")\n",
    "    print(\"NLOW = \"+str(\"0\")+\", NHIGH = \"+str(len(set(lines))-1)+\", Expected time to crawl = \"+ str(float(\"{0:.1f}\".format(len(set(lines))/60))) + \"hrs\")\n",
    "    with open(\"kibagames_links.txt\", \"w\") as f1:\n",
    "        f1.writelines(set(lines))"
   ]
  },
  {
   "cell_type": "markdown",
   "id": "ffcc0496",
   "metadata": {},
   "source": [
    "spiels.at"
   ]
  },
  {
   "cell_type": "code",
   "execution_count": 119,
   "id": "31097b75",
   "metadata": {
    "ExecuteTime": {
     "end_time": "2022-02-23T04:04:43.071532Z",
     "start_time": "2022-02-23T04:04:42.989917Z"
    }
   },
   "outputs": [
    {
     "name": "stdout",
     "output_type": "stream",
     "text": [
      "Total links are: 5354\n",
      "Unique links are: 2673\n",
      "\n",
      "NLOW = 0, NHIGH = 2672, Expected time to crawl = 44.5hrs\n"
     ]
    }
   ],
   "source": [
    "with open(\"all_gamelinks.txt\") as f:\n",
    "    lines = f.readlines()\n",
    "    lines = [l for l in lines if \"spiels.at\" in l]\n",
    "    print(\"Total links are: \"+str(len(lines)))\n",
    "    print(\"Unique links are: \"+str(len(set(lines))))\n",
    "    print(\"\")\n",
    "    print(\"NLOW = \"+str(\"0\")+\", NHIGH = \"+str(len(set(lines))-1)+\", Expected time to crawl = \"+ str(float(\"{0:.1f}\".format(len(set(lines))/60))) + \"hrs\")\n",
    "    with open(\"spiels_links.txt\", \"w\") as f1:\n",
    "        f1.writelines(set(lines))"
   ]
  },
  {
   "cell_type": "markdown",
   "id": "0082b4a8",
   "metadata": {},
   "source": [
    "addictinggames.com"
   ]
  },
  {
   "cell_type": "code",
   "execution_count": 121,
   "id": "8241b5f5",
   "metadata": {
    "ExecuteTime": {
     "end_time": "2022-02-23T04:04:57.205829Z",
     "start_time": "2022-02-23T04:04:57.124850Z"
    }
   },
   "outputs": [
    {
     "name": "stdout",
     "output_type": "stream",
     "text": [
      "Total links are: 3560\n",
      "Unique links are: 3506\n",
      "\n",
      "NLOW = 0, NHIGH = 3505, Expected time to crawl = 58.4hrs\n"
     ]
    }
   ],
   "source": [
    "with open(\"all_gamelinks.txt\") as f:\n",
    "    lines = f.readlines()\n",
    "    lines = [l for l in lines if \"addictinggames.com\" in l]\n",
    "    print(\"Total links are: \"+str(len(lines)))\n",
    "    print(\"Unique links are: \"+str(len(set(lines))))\n",
    "    print(\"\")\n",
    "    print(\"NLOW = \"+str(\"0\")+\", NHIGH = \"+str(len(set(lines))-1)+\", Expected time to crawl = \"+ str(float(\"{0:.1f}\".format(len(set(lines))/60))) + \"hrs\")\n",
    "    with open(\"addictinggames_links.txt\", \"w\") as f1:\n",
    "        f1.writelines(set(lines))"
   ]
  },
  {
   "cell_type": "markdown",
   "id": "df9b9ac9",
   "metadata": {},
   "source": [
    "crazygames.com"
   ]
  },
  {
   "cell_type": "code",
   "execution_count": 123,
   "id": "7bc17060",
   "metadata": {
    "ExecuteTime": {
     "end_time": "2022-02-23T04:05:12.759338Z",
     "start_time": "2022-02-23T04:05:12.676802Z"
    }
   },
   "outputs": [
    {
     "name": "stdout",
     "output_type": "stream",
     "text": [
      "Total links are: 7699\n",
      "Unique links are: 7678\n",
      "\n",
      "NLOW = 0, NHIGH = 7677, Expected time to crawl = 128.0hrs\n"
     ]
    }
   ],
   "source": [
    "with open(\"all_gamelinks.txt\") as f:\n",
    "    lines = f.readlines()\n",
    "    lines = [l for l in lines if \"crazygames.com\" in l]\n",
    "    print(\"Total links are: \"+str(len(lines)))\n",
    "    print(\"Unique links are: \"+str(len(set(lines))))\n",
    "    print(\"\")\n",
    "    print(\"NLOW = \"+str(\"0\")+\", NHIGH = \"+str(len(set(lines))-1)+\", Expected time to crawl = \"+ str(float(\"{0:.1f}\".format(len(set(lines))/60))) + \"hrs\")\n",
    "    with open(\"crazygames_links.txt\", \"w\") as f1:\n",
    "        f1.writelines(set(lines))"
   ]
  },
  {
   "cell_type": "markdown",
   "id": "71840fe1",
   "metadata": {},
   "source": [
    "vseigru.net"
   ]
  },
  {
   "cell_type": "code",
   "execution_count": 125,
   "id": "f4a5c401",
   "metadata": {
    "ExecuteTime": {
     "end_time": "2022-02-23T04:05:28.010559Z",
     "start_time": "2022-02-23T04:05:27.936182Z"
    }
   },
   "outputs": [
    {
     "name": "stdout",
     "output_type": "stream",
     "text": [
      "Total links are: 10465\n",
      "Unique links are: 9967\n",
      "\n",
      "NLOW = 0, NHIGH = 9966, Expected time to crawl = 166.1hrs\n"
     ]
    }
   ],
   "source": [
    "with open(\"all_gamelinks.txt\") as f:\n",
    "    lines = f.readlines()\n",
    "    lines = [l for l in lines if \"vseigru.net\" in l]\n",
    "    print(\"Total links are: \"+str(len(lines)))\n",
    "    print(\"Unique links are: \"+str(len(set(lines))))\n",
    "    print(\"\")\n",
    "    print(\"NLOW = \"+str(\"0\")+\", NHIGH = \"+str(len(set(lines))-1)+\", Expected time to crawl = \"+ str(float(\"{0:.1f}\".format(len(set(lines))/60))) + \"hrs\")\n",
    "    with open(\"vseigru_links.txt\", \"w\") as f1:\n",
    "        f1.writelines(set(lines))"
   ]
  },
  {
   "cell_type": "markdown",
   "id": "03726e68",
   "metadata": {},
   "source": [
    "fukgames.com"
   ]
  },
  {
   "cell_type": "code",
   "execution_count": 126,
   "id": "f2ccb5f9",
   "metadata": {
    "ExecuteTime": {
     "end_time": "2022-02-23T04:05:44.084057Z",
     "start_time": "2022-02-23T04:05:43.993218Z"
    }
   },
   "outputs": [
    {
     "name": "stdout",
     "output_type": "stream",
     "text": [
      "Total links are: 25496\n",
      "Unique links are: 25496\n",
      "\n",
      "NLOW = 0, NHIGH = 25495, Expected time to crawl = 424.9hrs\n"
     ]
    }
   ],
   "source": [
    "with open(\"all_gamelinks.txt\") as f:\n",
    "    lines = f.readlines()\n",
    "    lines = [l for l in lines if \"fukgames.com\" in l]\n",
    "    print(\"Total links are: \"+str(len(lines)))\n",
    "    print(\"Unique links are: \"+str(len(set(lines))))\n",
    "    print(\"\")\n",
    "    print(\"NLOW = \"+str(\"0\")+\", NHIGH = \"+str(len(set(lines))-1)+\", Expected time to crawl = \"+ str(float(\"{0:.1f}\".format(len(set(lines))/60))) + \"hrs\")\n",
    "    with open(\"fukgames_links.txt\", \"w\") as f1:\n",
    "        f1.writelines(set(lines))"
   ]
  },
  {
   "cell_type": "markdown",
   "id": "4ceb1d8a",
   "metadata": {},
   "source": [
    "y8.com"
   ]
  },
  {
   "cell_type": "code",
   "execution_count": 128,
   "id": "f21a66f4",
   "metadata": {
    "ExecuteTime": {
     "end_time": "2022-02-23T04:06:18.541237Z",
     "start_time": "2022-02-23T04:06:18.370440Z"
    }
   },
   "outputs": [
    {
     "name": "stdout",
     "output_type": "stream",
     "text": [
      "Total links are: 82397\n",
      "Unique links are: 64029\n",
      "\n",
      "NLOW = 0, NHIGH = 64028, Expected time to crawl = 1067.2hrs\n"
     ]
    }
   ],
   "source": [
    "with open(\"all_gamelinks.txt\") as f:\n",
    "    lines = f.readlines()\n",
    "    lines = [l for l in lines if \"y8.com\" in l]\n",
    "    print(\"Total links are: \"+str(len(lines)))\n",
    "    print(\"Unique links are: \"+str(len(set(lines))))\n",
    "    print(\"\")\n",
    "    print(\"NLOW = \"+str(\"0\")+\", NHIGH = \"+str(len(set(lines))-1)+\", Expected time to crawl = \"+ str(float(\"{0:.1f}\".format(len(set(lines))/60))) + \"hrs\")\n",
    "    with open(\"y8_links.txt\", \"w\") as f1:\n",
    "        f1.writelines(set(lines))"
   ]
  },
  {
   "cell_type": "markdown",
   "id": "07dcae7e",
   "metadata": {},
   "source": [
    "itch.io"
   ]
  },
  {
   "cell_type": "code",
   "execution_count": 130,
   "id": "4688a497",
   "metadata": {
    "ExecuteTime": {
     "end_time": "2022-02-23T04:06:42.947945Z",
     "start_time": "2022-02-23T04:06:42.816991Z"
    }
   },
   "outputs": [
    {
     "name": "stdout",
     "output_type": "stream",
     "text": [
      "Total links are: 96608\n",
      "Unique links are: 96605\n",
      "\n",
      "NLOW = 0, NHIGH = 96604, Expected time to crawl = 1610.1hrs\n"
     ]
    }
   ],
   "source": [
    "with open(\"all_gamelinks.txt\") as f:\n",
    "    lines = f.readlines()\n",
    "    lines = [l for l in lines if \"itch.io\" in l]\n",
    "    print(\"Total links are: \"+str(len(lines)))\n",
    "    print(\"Unique links are: \"+str(len(set(lines))))\n",
    "    print(\"\")\n",
    "    print(\"NLOW = \"+str(\"0\")+\", NHIGH = \"+str(len(set(lines))-1)+\", Expected time to crawl = \"+ str(float(\"{0:.1f}\".format(len(set(lines))/60))) + \"hrs\")\n",
    "    with open(\"itch_links.txt\", \"w\") as f1:\n",
    "        f1.writelines(set(lines))"
   ]
  },
  {
   "cell_type": "code",
   "execution_count": 139,
   "id": "d2a8c55e",
   "metadata": {
    "ExecuteTime": {
     "end_time": "2022-02-23T05:10:31.868066Z",
     "start_time": "2022-02-23T05:10:31.863707Z"
    }
   },
   "outputs": [
    {
     "data": {
      "text/plain": [
       "'/home/xyz/iogames/iogames_gitrepo/static_analysis'"
      ]
     },
     "execution_count": 139,
     "metadata": {},
     "output_type": "execute_result"
    }
   ],
   "source": [
    "pwd"
   ]
  },
  {
   "cell_type": "code",
   "execution_count": null,
   "id": "d5ff8518",
   "metadata": {},
   "outputs": [],
   "source": []
  }
 ],
 "metadata": {
  "kernelspec": {
   "display_name": "Python 3",
   "language": "python",
   "name": "python3"
  },
  "language_info": {
   "codemirror_mode": {
    "name": "ipython",
    "version": 3
   },
   "file_extension": ".py",
   "mimetype": "text/x-python",
   "name": "python",
   "nbconvert_exporter": "python",
   "pygments_lexer": "ipython3",
   "version": "3.8.10"
  }
 },
 "nbformat": 4,
 "nbformat_minor": 5
}
