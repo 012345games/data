{
 "cells": [
  {
   "cell_type": "markdown",
   "metadata": {},
   "source": [
    "# Extracting free level domain SLD from PATH_DOM(logic)"
   ]
  },
  {
   "cell_type": "code",
   "execution_count": 1,
   "metadata": {
    "ExecuteTime": {
     "end_time": "2022-03-08T23:20:25.011062Z",
     "start_time": "2022-03-08T23:20:24.923430Z"
    }
   },
   "outputs": [
    {
     "data": {
      "text/plain": [
       "'/home/xyz/iogames/iogames_codebase/Task17 iogames: DOM analysis'"
      ]
     },
     "execution_count": 1,
     "metadata": {},
     "output_type": "execute_result"
    }
   ],
   "source": [
    "pwd"
   ]
  },
  {
   "cell_type": "code",
   "execution_count": 8,
   "metadata": {},
   "outputs": [],
   "source": [
    "from bs4 import BeautifulSoup\n",
    "import glob\n",
    "from tld import get_tld, get_fld\n",
    "import pandas as pd"
   ]
  },
  {
   "cell_type": "code",
   "execution_count": null,
   "metadata": {},
   "outputs": [],
   "source": [
    "txtfiles = []\n",
    "wrong_urllist=[]\n",
    "lst=[]\n",
    "dic={}\n",
    "for file in glob.glob(\"/home/xyzqayyum/Downloads/PATH_DOM/*flatteneddom\"):\n",
    "    try:\n",
    "        MP=file.split('_',2)[2].split('.',1)[0]\n",
    "        with open(file) as fp:\n",
    "            print(file)\n",
    "            soup = BeautifulSoup(fp, 'html.parser')\n",
    "            for link in soup.find_all('a'):\n",
    "                url=link.get('href')\n",
    "                print(url)\n",
    "                turl=url.lstrip('\"')[2:-1]\n",
    "                print(turl)\n",
    "                tld=get_fld(turl)\n",
    "                print(tld)\n",
    "                dic={\"MP\":MP,\"game_url\":turl,\"sld\":tld}\n",
    "                lst.append(dic)\n",
    "                break\n",
    "              \n",
    "    except:\n",
    "        print('This url has wrong format : ' +url)\n",
    "        wrong_urllist.append(url)\n",
    "df=pd.DataFrame(lst)\n",
    "df.to_csv(\"sldtest12apr.csv\",index=False)\n",
    "df2=pd.DataFrame(wrong_urllist)\n",
    "df2.to_csv(\"urls cannot be resolved12apr.txt\",index=False)"
   ]
  },
  {
   "cell_type": "markdown",
   "metadata": {},
   "source": [
    "testing!!!"
   ]
  },
  {
   "cell_type": "code",
   "execution_count": 11,
   "metadata": {},
   "outputs": [
    {
     "name": "stdout",
     "output_type": "stream",
     "text": [
      "/home/xyzqayyum/Downloads/PATH_DOM/Ariel-Double-Eyelid-Cosmetic-Surgery_babygames.flatteneddom\n",
      "True\n",
      "['http://www.w3.org/TR/html4/loose.dtd', 'https://www.babygames.com/Ariel-Double-Eyelid-Cosmetic-Surgery', 'https://pagead2.googlesyndication.com/pagead/js/r20210222/r20190131/reactive_library.js', 'https://s0.2mdn.net/instream/video/client.js', 'https://www.googleadservices.com/pagead/conversion_async.js', 'https://www.googletagmanager.com/gtag/js?id=AW-707583667&l=dataLayer&cx=c', 'https://www.googleadservices.com/pagead/conversion_async.js', 'https://www.googletagservices.com/activeview/js/current/osd.js?cb=%2Fr20100101', 'https://partner.googleadservices.com/gampad/cookie.js?domain=www.babygames.com&callback=_gfp_s_&client=ca-pub-8878716159434368', 'www.google-analytics.com/analytics.js', 'https://pagead2.googlesyndication.com/pagead/js/r20210222/r20190131/show_ads_impl.js', 'pagead2.googlesyndication.com/pagead/js/adsbygoogle.js', 'https://adservice.google.com.au/adsid/integrator.js?domain=www.babygames.com', 'https://adservice.google.com.au/adsid/integrator.js?domain=www.babygames.com', 'https://adservice.google.com/adsid/integrator.js?domain=www.babygames.com', 'https://adservice.google.com/adsid/integrator.js?domain=www.babygames.com', 'https://googleads.g.doubleclick.net/pagead/viewthroughconversion/873505311/?random=1614163914869&cv=9&fst=1614163914869&num=1&bg=ffffff&guid=ON&resp=GooglemKTybQhCsO&u_h=600&u_w=800&u_ah=600&u_aw=800&u_cd=24&u_his=2&u_tz=0&u_java=false&u_nplug=0&u_nmime=0&gtm=2oa2h0&sendb=1&ig=1&data=event%3Dgtag.config&frm=0&url=https%3A%2F%2Fwww.babygames.com%2F%2FAriel-Double-Eyelid-Cosmetic-Surgery&tiba=Ariel%20Double%20Eyelid%20Cosmetic%20Surgery%20-%20Play%20Ariel%20Double%20Eyelid%20Cosmetic%20Surgery%20Online&hn=www.googleadservices.com&async=1&rfmt=3&fmt=4', 'https://www.googleadservices.com/pagead/conversion/873505311/?random=1614163914919&cv=9&fst=1614163914919&num=1&label=xysCCJ74umoQn8TCoAM&bg=ffffff&guid=ON&resp=GooglemKTybQhCsO&u_h=600&u_w=800&u_ah=600&u_aw=800&u_cd=24&u_his=2&u_tz=0&u_java=false&u_nplug=0&u_nmime=0&gtm=2oa2h0&sendb=1&ig=1&data=event%3Dconversion&frm=0&url=https%3A%2F%2Fwww.babygames.com%2F%2FAriel-Double-Eyelid-Cosmetic-Surgery&tiba=Ariel%20Double%20Eyelid%20Cosmetic%20Surgery%20-%20Play%20Ariel%20Double%20Eyelid%20Cosmetic%20Surgery%20Online&hn=www.googleadservices.com&async=1&rfmt=3&fmt=4', 'https://www.googleadservices.com/pagead/conversion/873505311/?random=1614163914961&cv=9&fst=1614163914961&num=1&label=PDI5CJT6umoQn8TCoAM&bg=ffffff&guid=ON&resp=GooglemKTybQhCsO&u_h=600&u_w=800&u_ah=600&u_aw=800&u_cd=24&u_his=2&u_tz=0&u_java=false&u_nplug=0&u_nmime=0&gtm=2oa2h0&sendb=1&ig=1&data=event%3Dconversion&frm=0&url=https%3A%2F%2Fwww.babygames.com%2F%2FAriel-Double-Eyelid-Cosmetic-Surgery&tiba=Ariel%20Double%20Eyelid%20Cosmetic%20Surgery%20-%20Play%20Ariel%20Double%20Eyelid%20Cosmetic%20Surgery%20Online&hn=www.googleadservices.com&async=1&rfmt=3&fmt=4', 'https://adservice.google.com.au/adsid/integrator.js?domain=www.babygames.com', 'https://adservice.google.com.au/adsid/integrator.js?domain=www.babygames.com', 'https://adservice.google.com/adsid/integrator.js?domain=www.babygames.com', 'https://adservice.google.com/adsid/integrator.js?domain=www.babygames.com', 'https://googleads.g.doubleclick.net/pagead/viewthroughconversion/707583667/?random=1614163961271&cv=9&fst=1614163961271&num=1&bg=ffffff&guid=ON&resp=GooglemKTybQhCsO&u_h=600&u_w=800&u_ah=600&u_aw=800&u_cd=24&u_his=2&u_tz=0&u_java=false&u_nplug=0&u_nmime=0&gtm=2oa2h0&sendb=1&ig=1&data=event%3Dgtag.config&frm=0&url=https%3A%2F%2Fwww.babygames.com%2F%2FAriel-Double-Eyelid-Cosmetic-Surgery&tiba=Ariel%20Double%20Eyelid%20Cosmetic%20Surgery%20-%20Play%20Ariel%20Double%20Eyelid%20Cosmetic%20Surgery%20Online&tc=x&hn=www.googleadservices.com&async=1&rfmt=3&fmt=4', 'https://www.googleadservices.com/pagead/conversion/707583667/?random=1614163961278&cv=9&fst=1614163961278&num=1&label=cYLzCKLl5asBELO9s9EC&bg=ffffff&guid=ON&resp=GooglemKTybQhCsO&u_h=600&u_w=800&u_ah=600&u_aw=800&u_cd=24&u_his=2&u_tz=0&u_java=false&u_nplug=0&u_nmime=0&gtm=2oa2h0&sendb=1&ig=1&data=event%3Dconversion&frm=0&url=https%3A%2F%2Fwww.babygames.com%2F%2FAriel-Double-Eyelid-Cosmetic-Surgery&tiba=Ariel%20Double%20Eyelid%20Cosmetic%20Surgery%20-%20Play%20Ariel%20Double%20Eyelid%20Cosmetic%20Surgery%20Online&tc=x&hn=www.googleadservices.com&async=1&rfmt=3&fmt=4', 'https://www.googleadservices.com/pagead/conversion/707583667/?random=1614163961304&cv=9&fst=1614163961304&num=1&label=K94bCIWh5qsBELO9s9EC&bg=ffffff&guid=ON&resp=GooglemKTybQhCsO&u_h=600&u_w=800&u_ah=600&u_aw=800&u_cd=24&u_his=2&u_tz=0&u_java=false&u_nplug=0&u_nmime=0&gtm=2oa2h0&sendb=1&ig=1&data=event%3Dconversion&frm=0&url=https%3A%2F%2Fwww.babygames.com%2F%2FAriel-Double-Eyelid-Cosmetic-Surgery&tiba=Ariel%20Double%20Eyelid%20Cosmetic%20Surgery%20-%20Play%20Ariel%20Double%20Eyelid%20Cosmetic%20Surgery%20Online&tc=x&hn=www.googleadservices.com&async=1&rfmt=3&fmt=4', 'https://adservice.google.com.au/adsid/integrator.js?domain=www.babygames.com', 'https://adservice.google.com.au/adsid/integrator.js?domain=www.babygames.com', 'https://adservice.google.com/adsid/integrator.js?domain=www.babygames.com', 'https://adservice.google.com/adsid/integrator.js?domain=www.babygames.com', 'BabyGames.Com', 'https://www.babygames.com/Ariel-Double-Eyelid-Cosmetic-Surgery\\\\', 'https://googleads.g.doubleclick.net/pagead/ads?ad_type=standardvideo_image&client=ca-games-pub-8878716159434368&channel=6592302629&videoad_start_delay=0&hl=en&max_ad_duration=30000&description_url=\\\\', 'imasdk.googleapis.com/js/sdkloader/ima3.js', 'http://schema.org/\\\\', 'https://pagead2.googlesyndication.com/pagead/js/adsbygoogle.js', 'https://googleads.g.doubleclick.net/pagead/ads?guci=2.2.0.0.2.2.0.0&client=ca-pub-8878716159434368&output=html&h=600&slotname=2287555090&adk=1923095311&adf=1846774598π=t.ma~as.2287555090&w=160&fwrn=4&fwrnh=100&lmt=1614163913&rafmt=1&psa=1&format=160x600&url=https%3A%2F%2Fwww.babygames.com%2F%2FAriel-Double-Eyelid-Cosmetic-Surgery&flash=0&fwr=0&fwrattr=true&rpe=1&resp_fmts=4&wgl=1&dt=1614163912241&bpp=65&bdt=1135&idt=1341&shv=r20210222&cbv=r20190131&ptt=9&saldr=aa&abxe=1&prev_fmts=0x0&nras=1&correlator=4982498674507&frm=20&pv=1&ga_vid=1959585702.1614163913&ga_sid=1614163913&ga_hid=2098316278&ga_fc=0&u_tz=0&u_his=2&u_java=0&u_h=600&u_w=800&u_ah=600&u_aw=800&u_cd=24&u_nplug=0&u_nmime=0&adx=-12245933&ady=-12245933&biw=785&bih=585&scr_x=0&scr_y=60&eid=21068769%2C21068893%2C21066973&oid=3&pvsid=3666870084897742&pem=739&rx=0&eae=0&fc=1920&brdim=0%2C0%2C0%2C0%2C800%2C0%2C800%2C600%2C800%2C600&vis=1&rsz=%7C%7CleEr%7C&abl=CS&pfx=0&fu=9344&bc=31&ifi=2&uci=a!2&fsb=1&xpc=W1akq0CakL&p=https%3A//www.babygames.com&dtd=1408', 'https://googleads.g.doubleclick.net/pagead/ads?guci=2.2.0.0.2.2.0.0&client=ca-pub-8878716159434368&output=html&h=600&slotname=2287555090&adk=1923095311&adf=1846774598π=t.ma~as.2287555090&w=160&fwrn=4&fwrnh=100&lmt=1614163913&rafmt=1&psa=1&format=160x600&url=https%3A%2F%2Fwww.babygames.com%2F%2FAriel-Double-Eyelid-Cosmetic-Surgery&flash=0&fwr=0&fwrattr=true&rpe=1&resp_fmts=4&wgl=1&dt=1614163912241&bpp=65&bdt=1135&idt=1341&shv=r20210222&cbv=r20190131&ptt=9&saldr=aa&abxe=1&prev_fmts=0x0&nras=1&correlator=4982498674507&frm=20&pv=1&ga_vid=1959585702.1614163913&ga_sid=1614163913&ga_hid=2098316278&ga_fc=0&u_tz=0&u_his=2&u_java=0&u_h=600&u_w=800&u_ah=600&u_aw=800&u_cd=24&u_nplug=0&u_nmime=0&adx=-12245933&ady=-12245933&biw=785&bih=585&scr_x=0&scr_y=60&eid=21068769%2C21068893%2C21066973&oid=3&pvsid=3666870084897742&pem=739&rx=0&eae=0&fc=1920&brdim=0%2C0%2C0%2C0%2C800%2C0%2C800%2C600%2C800%2C600&vis=1&rsz=%7C%7CleEr%7C&abl=CS&pfx=0&fu=9344&bc=31&ifi=2&uci=a!2&fsb=1&xpc=W1akq0CakL&p=https%3A//www.babygames.com&dtd=1408', 'https://googleads.g.doubleclick.net/pagead/ads?guci=2.2.0.0.2.2.0.0&client=ca-pub-8878716159434368&output=html&h=600&slotname=2287555090&adk=1923095311&adf=1846774598π=t.ma~as.2287555090&w=160&fwrn=4&fwrnh=100&lmt=1614163913&rafmt=1&psa=1&format=160x600&url=https%3A%2F%2Fwww.babygames.com%2F%2FAriel-Double-Eyelid-Cosmetic-Surgery&flash=0&fwr=0&fwrattr=true&rpe=1&resp_fmts=4&wgl=1&dt=1614163912241&bpp=65&bdt=1135&idt=1341&shv=r20210222&cbv=r20190131&ptt=9&saldr=aa&abxe=1&prev_fmts=0x0&nras=1&correlator=4982498674507&frm=20&pv=1&ga_vid=1959585702.1614163913&ga_sid=1614163913&ga_hid=2098316278&ga_fc=0&u_tz=0&u_his=2&u_java=0&u_h=600&u_w=800&u_ah=600&u_aw=800&u_cd=24&u_nplug=0&u_nmime=0&adx=-12245933&ady=-12245933&biw=785&bih=585&scr_x=0&scr_y=60&eid=21068769%2C21068893%2C21066973&oid=3&pvsid=3666870084897742&pem=739&rx=0&eae=0&fc=1920&brdim=0%2C0%2C0%2C0%2C800%2C0%2C800%2C600%2C800%2C600&vis=1&rsz=%7C%7CleEr%7C&abl=CS&pfx=0&fu=9344&bc=31&ifi=2&uci=a!2&fsb=1&xpc=W1akq0CakL&p=https%3A//www.babygames.com&dtd=1408', 'https://imasdk.googleapis.com/js/core/bridge3.443.0_en.html#goog_1313620061', 'https://googleads.g.doubleclick.net/pagead/images/gmob/google_play_icon_white.svg', 'https://googleads.g.doubleclick.net/pagead/images/gmob/app_store_icon_white.svg', 'https://imasdk.googleapis.com/js/core/bridge3.443.0_en.html#goog_1313620061', 'https://imasdk.googleapis.com/js/core/bridge3.443.0_en.html#goog_1313620061', 'https://pagead2.googlesyndication.com/omsdk/releases/live/omweb-v1.js', 'https://www.babygames.com//Ariel-Double-Eyelid-Cosmetic-Surgery', 'https://www.babygames.com//Ariel-Double-Eyelid-Cosmetic-Surgery', 'https://s0.2mdn.net/instream/video/client.js', 'https://h5gamessdk.yyggames.com/sdk/YYGSDK.js?1575597009', 'www.babygames.com/Ariel-Double-Eyelid-Cosmetic-Surgery', 'https://imasdk.googleapis.com/js/sdkloader/ima3.js', 'www.babygames.com/forgame/relatedgames.js', 'www.babygames.com/forgame/functions.js', 'https://imasdk.googleapis.com/js/core/bridge3.443.0_en.html#goog_1910856834', 'https://googleads.g.doubleclick.net/pagead/images/gmob/google_play_icon_white.svg', 'https://googleads.g.doubleclick.net/pagead/images/gmob/app_store_icon_white.svg', 'https://imasdk.googleapis.com/js/core/bridge3.443.0_en.html#goog_1910856834', 'https://imasdk.googleapis.com/js/core/bridge3.443.0_en.html#goog_1910856834', 'https://pagead2.googlesyndication.com/omsdk/releases/live/omweb-v1.js', 'https://www.babygames.com/games/Ariel-Double-Eyelid-Cosmetic-Surgery/index.html', 'https://www.babygames.com/games/Ariel-Double-Eyelid-Cosmetic-Surgery/index.html', 'https://www.babygames.com/games/Ariel-Double-Eyelid-Cosmetic-Surgery/index.html', 'https://www.babygames.com/games/Ariel-Double-Eyelid-Cosmetic-Surgery/index.html', 'https://pagead2.googlesyndication.com/pagead/js/adsbygoogle.js', 'https://googleads.g.doubleclick.net/pagead/ads?guci=2.2.0.0.2.2.0.0&client=ca-pub-8878716159434368&output=html&h=600&slotname=2597217299&adk=2978108269&adf=1683899826π=t.ma~as.2597217299&w=160&fwrn=4&fwrnh=100&lmt=1614163914&rafmt=1&psa=1&format=160x600&url=https%3A%2F%2Fwww.babygames.com%2F%2FAriel-Double-Eyelid-Cosmetic-Surgery&flash=0&fwr=0&fwrattr=true&rpe=1&resp_fmts=4&wgl=1&dt=1614163912804&bpp=89&bdt=1698&idt=1158&shv=r20210222&cbv=r20190131&ptt=9&saldr=aa&abxe=1&prev_fmts=0x0%2C160x600&nras=1&correlator=4982498674507&frm=20&pv=1&ga_vid=1959585702.1614163913&ga_sid=1614163913&ga_hid=2098316278&ga_fc=0&u_tz=0&u_his=2&u_java=0&u_h=600&u_w=800&u_ah=600&u_aw=800&u_cd=24&u_nplug=0&u_nmime=0&adx=723&ady=67&biw=785&bih=585&scr_x=0&scr_y=60&eid=21068769%2C21068893%2C21066973&oid=3&pvsid=3666870084897742&pem=739&rx=0&eae=0&fc=1920&brdim=0%2C0%2C0%2C0%2C800%2C0%2C800%2C600%2C800%2C600&vis=1&rsz=d%7C%7CaoeE%7C&abl=CA&pfx=0&fu=9344&bc=31&ifi=3&uci=a!3&fsb=1&xpc=t8eP31eM3g&p=https%3A//www.babygames.com&dtd=1220', 'https://fonts.googleapis.com/css?family=Roboto%3A400%2C500', 'https://googleads.g.doubleclick.net/aclk?sa=l&ai=CVM1Cyi82YKDgCK2FssUPjeSTuAjI8qyLYcjmvuvvC8CNtwEQASCYgZ1JYKX4kYCQAaABta6f4gPIAQGpAr54HaVek6o-qAMByAPDBKoE5AFP0PgjTXl16NophIfFSNPUUXRL4Iqh1yNJqrDWHAM5CEre2G_Xh7OQZCazLsg6mRgLNjagtVy1H38cpTtAen-p4fyXgmrn1ripp90kDMA4bwRfYLjKCNouY8QEyHbGxoa6jbjoXfrMrSflEBSTHhSYotfR7Rvfq09SvMfUEq142KA-P_-SkQ2iMezxUeDS46HYSgs_1Yyz9wEjltgZLg9ej6xmP78hKhdMtU9MiM84cvT14gzPvwp_Bi_p8qmNrdiW9mznGgy5pXCDxWGAPO8qgRafYklKF07YW1upu-lXUneKqJbABNrxvfziAaAGZoAHs9HgHagH1ckbqAfw2RuoB_LZG6gHjs4bqAeT2BuoB7oGqAfulrECqAemvhuoB-zVG6gH89EbqAfs1RuoB5bYG9gHAdIIBwiAYRABGB-xCX1dUAkoIFYkgAoBmAsByAsBuAwB2BMNiBQC&ae=1&num=1&sig=AOD64_207n58eKG20iKJasmeZf7LJqL7sQ&client=ca-pub-8878716159434368&nb=0&adurl=http://drting.com.au/eye-bag-removal/%3Fgclid%3DEAIaIQobChMIoO3Yla2C7wIVrYKsAh0N8gSHEAEYASAAEgIsyfD_BwE', 'drting.com.au', 'drting.com.au', 'https://googleads.g.doubleclick.net/aclk?sa=l&ai=CVM1Cyi82YKDgCK2FssUPjeSTuAjI8qyLYcjmvuvvC8CNtwEQASCYgZ1JYKX4kYCQAaABta6f4gPIAQGpAr54HaVek6o-qAMByAPDBKoE5AFP0PgjTXl16NophIfFSNPUUXRL4Iqh1yNJqrDWHAM5CEre2G_Xh7OQZCazLsg6mRgLNjagtVy1H38cpTtAen-p4fyXgmrn1ripp90kDMA4bwRfYLjKCNouY8QEyHbGxoa6jbjoXfrMrSflEBSTHhSYotfR7Rvfq09SvMfUEq142KA-P_-SkQ2iMezxUeDS46HYSgs_1Yyz9wEjltgZLg9ej6xmP78hKhdMtU9MiM84cvT14gzPvwp_Bi_p8qmNrdiW9mznGgy5pXCDxWGAPO8qgRafYklKF07YW1upu-lXUneKqJbABNrxvfziAaAGZoAHs9HgHagH1ckbqAfw2RuoB_LZG6gHjs4bqAeT2BuoB7oGqAfulrECqAemvhuoB-zVG6gH89EbqAfs1RuoB5bYG9gHAdIIBwiAYRABGB-xCX1dUAkoIFYkgAoBmAsByAsBuAwB2BMNiBQC&ae=1&num=1&sig=AOD64_207n58eKG20iKJasmeZf7LJqL7sQ&client=ca-pub-8878716159434368&nb=1&adurl=http://drting.com.au/eye-bag-removal/%3Fgclid%3DEAIaIQobChMIoO3Yla2C7wIVrYKsAh0N8gSHEAEYASAAEgIsyfD_BwE', 'drting.com.au', 'https://googleads.g.doubleclick.net/aclk?sa=l&ai=CVM1Cyi82YKDgCK2FssUPjeSTuAjI8qyLYcjmvuvvC8CNtwEQASCYgZ1JYKX4kYCQAaABta6f4gPIAQGpAr54HaVek6o-qAMByAPDBKoE5AFP0PgjTXl16NophIfFSNPUUXRL4Iqh1yNJqrDWHAM5CEre2G_Xh7OQZCazLsg6mRgLNjagtVy1H38cpTtAen-p4fyXgmrn1ripp90kDMA4bwRfYLjKCNouY8QEyHbGxoa6jbjoXfrMrSflEBSTHhSYotfR7Rvfq09SvMfUEq142KA-P_-SkQ2iMezxUeDS46HYSgs_1Yyz9wEjltgZLg9ej6xmP78hKhdMtU9MiM84cvT14gzPvwp_Bi_p8qmNrdiW9mznGgy5pXCDxWGAPO8qgRafYklKF07YW1upu-lXUneKqJbABNrxvfziAaAGZoAHs9HgHagH1ckbqAfw2RuoB_LZG6gHjs4bqAeT2BuoB7oGqAfulrECqAemvhuoB-zVG6gH89EbqAfs1RuoB5bYG9gHAdIIBwiAYRABGB-xCX1dUAkoIFYkgAoBmAsByAsBuAwB2BMNiBQC&ae=1&num=1&sig=AOD64_207n58eKG20iKJasmeZf7LJqL7sQ&client=ca-pub-8878716159434368&nb=0&adurl=http://drting.com.au/eye-bag-removal/%3Fgclid%3DEAIaIQobChMIoO3Yla2C7wIVrYKsAh0N8gSHEAEYASAAEgIsyfD_BwE', 'drting.com.au', 'https://googleads.g.doubleclick.net/aclk?sa=l&ai=CVM1Cyi82YKDgCK2FssUPjeSTuAjI8qyLYcjmvuvvC8CNtwEQASCYgZ1JYKX4kYCQAaABta6f4gPIAQGpAr54HaVek6o-qAMByAPDBKoE5AFP0PgjTXl16NophIfFSNPUUXRL4Iqh1yNJqrDWHAM5CEre2G_Xh7OQZCazLsg6mRgLNjagtVy1H38cpTtAen-p4fyXgmrn1ripp90kDMA4bwRfYLjKCNouY8QEyHbGxoa6jbjoXfrMrSflEBSTHhSYotfR7Rvfq09SvMfUEq142KA-P_-SkQ2iMezxUeDS46HYSgs_1Yyz9wEjltgZLg9ej6xmP78hKhdMtU9MiM84cvT14gzPvwp_Bi_p8qmNrdiW9mznGgy5pXCDxWGAPO8qgRafYklKF07YW1upu-lXUneKqJbABNrxvfziAaAGZoAHs9HgHagH1ckbqAfw2RuoB_LZG6gHjs4bqAeT2BuoB7oGqAfulrECqAemvhuoB-zVG6gH89EbqAfs1RuoB5bYG9gHAdIIBwiAYRABGB-xCX1dUAkoIFYkgAoBmAsByAsBuAwB2BMNiBQC&ae=1&num=1&sig=AOD64_207n58eKG20iKJasmeZf7LJqL7sQ&client=ca-pub-8878716159434368&nb=7&adurl=http://drting.com.au/eye-bag-removal/%3Fgclid%3DEAIaIQobChMIoO3Yla2C7wIVrYKsAh0N8gSHEAEYASAAEgIsyfD_BwE', 'https://googleads.g.doubleclick.net/aclk?sa=l&ai=CVM1Cyi82YKDgCK2FssUPjeSTuAjI8qyLYcjmvuvvC8CNtwEQASCYgZ1JYKX4kYCQAaABta6f4gPIAQGpAr54HaVek6o-qAMByAPDBKoE5AFP0PgjTXl16NophIfFSNPUUXRL4Iqh1yNJqrDWHAM5CEre2G_Xh7OQZCazLsg6mRgLNjagtVy1H38cpTtAen-p4fyXgmrn1ripp90kDMA4bwRfYLjKCNouY8QEyHbGxoa6jbjoXfrMrSflEBSTHhSYotfR7Rvfq09SvMfUEq142KA-P_-SkQ2iMezxUeDS46HYSgs_1Yyz9wEjltgZLg9ej6xmP78hKhdMtU9MiM84cvT14gzPvwp_Bi_p8qmNrdiW9mznGgy5pXCDxWGAPO8qgRafYklKF07YW1upu-lXUneKqJbABNrxvfziAaAGZoAHs9HgHagH1ckbqAfw2RuoB_LZG6gHjs4bqAeT2BuoB7oGqAfulrECqAemvhuoB-zVG6gH89EbqAfs1RuoB5bYG9gHAdIIBwiAYRABGB-xCX1dUAkoIFYkgAoBmAsByAsBuAwB2BMNiBQC&ae=1&num=1&sig=AOD64_207n58eKG20iKJasmeZf7LJqL7sQ&client=ca-pub-8878716159434368&nb=8&adurl=http://drting.com.au/eye-bag-removal/%3Fgclid%3DEAIaIQobChMIoO3Yla2C7wIVrYKsAh0N8gSHEAEYASAAEgIsyfD_BwE', 'drting.com.au', 'https://pagead2.googlesyndication.com/pcs/activeview?xai=AKAOjss8Qt_o4jEe9VbPYoHQrW1DG6jRuHIlGZU9lVNB8wzSYPIei7zF2WkFuHsxOgy_aLNmWf-_ezJrEQlSGd4jflHNgCKYfwiXfeNjxpnRipGbnq9bCUmOLUjC1wk&sai=AMfl-YShQXbEr1kJxmRsVmX0LZc0y-e4Z8i7023mS2NsRAaUk3XUOY4lea8hJkraxJtzCphcMhhz3bda3WuypiuYmBd7TMqx3AkOjAU&sig=Cg0ArKJSzI_pq2HVSxMhEAE&cid=CAASFeRo74-DCsUGjfo97zB7N7tiWzQ4Yg', 'https://googleads.g.doubleclick.net/aclk?sa=l&ai=CVM1Cyi82YKDgCK2FssUPjeSTuAjI8qyLYcjmvuvvC8CNtwEQASCYgZ1JYKX4kYCQAaABta6f4gPIAQGpAr54HaVek6o-qAMByAPDBKoE5AFP0PgjTXl16NophIfFSNPUUXRL4Iqh1yNJqrDWHAM5CEre2G_Xh7OQZCazLsg6mRgLNjagtVy1H38cpTtAen-p4fyXgmrn1ripp90kDMA4bwRfYLjKCNouY8QEyHbGxoa6jbjoXfrMrSflEBSTHhSYotfR7Rvfq09SvMfUEq142KA-P_-SkQ2iMezxUeDS46HYSgs_1Yyz9wEjltgZLg9ej6xmP78hKhdMtU9MiM84cvT14gzPvwp_Bi_p8qmNrdiW9mznGgy5pXCDxWGAPO8qgRafYklKF07YW1upu-lXUneKqJbABNrxvfziAaAGZoAHs9HgHagH1ckbqAfw2RuoB_LZG6gHjs4bqAeT2BuoB7oGqAfulrECqAemvhuoB-zVG6gH89EbqAfs1RuoB5bYG9gHAdIIBwiAYRABGB-xCX1dUAkoIFYkgAoBmAsByAsBuAwB2BMNiBQC&ae=1&num=1&sig=AOD64_207n58eKG20iKJasmeZf7LJqL7sQ&client=ca-pub-8878716159434368&adurl=http://drting.com.au/eye-bag-removal/%3Fgclid%3DEAIaIQobChMIoO3Yla2C7wIVrYKsAh0N8gSHEAEYASAAEgIsyfD_BwE\\\\', 'https://googleads.g.doubleclick.net/pagead/interaction/?ai=CVM1Cyi82YKDgCK2FssUPjeSTuAjI8qyLYcjmvuvvC8CNtwEQASCYgZ1JYKX4kYCQAaABta6f4gPIAQGpAr54HaVek6o-qAMByAPDBKoE5AFP0PgjTXl16NophIfFSNPUUXRL4Iqh1yNJqrDWHAM5CEre2G_Xh7OQZCazLsg6mRgLNjagtVy1H38cpTtAen-p4fyXgmrn1ripp90kDMA4bwRfYLjKCNouY8QEyHbGxoa6jbjoXfrMrSflEBSTHhSYotfR7Rvfq09SvMfUEq142KA-P_-SkQ2iMezxUeDS46HYSgs_1Yyz9wEjltgZLg9ej6xmP78hKhdMtU9MiM84cvT14gzPvwp_Bi_p8qmNrdiW9mznGgy5pXCDxWGAPO8qgRafYklKF07YW1upu-lXUneKqJbABNrxvfziAaAGZoAHs9HgHagH1ckbqAfw2RuoB_LZG6gHjs4bqAeT2BuoB7oGqAfulrECqAemvhuoB-zVG6gH89EbqAfs1RuoB5bYG9gHAdIIBwiAYRABGB-xCX1dUAkoIFYkgAoBmAsByAsBuAwB2BMNiBQC&sigh=6V3Up2IEKX8&cid=CAQSKQCNIrLM0htX2b6cHpGQfSgtg4MY9Ed2iv9RtAEc7i9Gaae-_hA1WwZK\\\\', 'https://tpc.googlesyndication.com/pagead/js/r20210222/r20110914/client/load_preloaded_resource.js', 'https://googleads.g.doubleclick.net/pagead/adview?ai\\\\\\\\x3dC3IM8yi82YKDgCK2FssUPjeSTuAjI8qyLYcjmvuvvC8CNtwEQASCYgZ1JYKX4kYCQAaABta6f4gPIAQGpAr54HaVek6o-qAMByAPDBKoE4QFP0PgjTXl16NophIfFSNPUUXRL4Iqh1yNJqrDWHAM5CEre2G_Xh7OQZCazLsg6mRgLNjagtVy1H38cpTtAen-p4fyXgmrn1ripp90kDMA4bwRfYLjKCNouY8QEyHbGxoa6jbjoXfrMrSflEBSTHhSYotfR7Rvfq09SvMfUEq142KA-P_-SkQ2iMezxUeDS46HYSgs_1Yyz9wEjltgZLg9ej6xmP78hKhdMtU9MiM84cvT14gzPvwp_Bi_p8qmNrdiW9mznGgy5pXDBx3YSrUDAlr51ev2nff81TJhIySSeVmzABNrxvfziAZIFBAgEGAGSBQQIBRgEoAZmgAez0eAdqAfVyRuoB_DZG6gH8tkbqAeOzhuoB5PYG6gHugaoB-6WsQKoB6a-G6gH7NUb2AcB8gcFEITp4QLSCAcIgGEQARgfgAoByAsB2BMNiBQCshcaChgIABIUcHViLTg4Nzg3MTYxNTk0MzQzNjg\\\\\\\\x26sigh\\\\\\\\x3dDwNwaYBVXmg\\\\\\\\x26tpd\\\\\\\\x3dAGWhJmvDNtH_ip1Z0VWBgvXB9riVz-c0Xhv9rJzUiBqH-7xUiw\\\\', 'http://www.w3.org/2000/svg', 'http://www.w3.org/1999/xlink', 'http://www.w3.org/2000/svg', 'http://www.w3.org/1999/xlink', 'http://www.w3.org/2000/svg', 'http://www.w3.org/1999/xlink', 'https://adssettings.google.com/whythisad?reasons=AB3afGEAAATIW1tbW251bGwsWzIsOV1dLFtudWxsLCJodHRwczovL2dvb2dsZWFkcy5nLmRvdWJsZWNsaWNrLm5ldC9wYWdlYWQvaW50ZXJhY3Rpb24vP2FpPUNWTTFDeWk4MllLRGdDSzJGc3NVUGplU1R1QWpJOHF5TFljam12dXZ2QzhDTnR3RVFBU0NZZ1oxSllLWDRrWUNRQWFBQnRhNmY0Z1BJQVFHcEFyNTRIYVZlazZvLXFBTUJ5QVBEQktvRTVBRlAwUGdqVFhsMTZOb3BoSWZGU05QVVVYUkw0SXFoMXlOSnFyRFdIQU01Q0VyZTJHX1hoN09RWkNhekxzZzZtUmdMTmphZ3RWeTFIMzhjcFR0QWVuLXA0ZnlYZ21ybjFyaXBwOTBrRE1BNGJ3UmZZTGpLQ05vdVk4UUV5SGJHeG9hNmpiam9YZnJNclNmbEVCU1RIaFNZb3RmUjdSdmZxMDlTdk1mVUVxMTQyS0EtUF8tU2tRMmlNZXp4VWVEUzQ2SFlTZ3NfMVl5ejl3RWpsdGdaTGc5ZWo2eG1QNzhoS2hkTXRVOU1pTTg0Y3ZUMTRnelB2d3BfQmlfcDhxbU5yZGlXOW16bkdneTVwWENEeFdHQVBPOHFnUmFmWWtsS0YwN1lXMXVwdS1sWFVuZUtxSmJBQk5yeHZmemlBYUFHWm9BSHM5SGdIYWdIMWNrYnFBZncyUnVvQl9MWkc2Z0hqczRicUFlVDJCdW9CN29HcUFmdWxyRUNxQWVtdmh1b0ItelZHNmdIODlFYnFBZnMxUnVvQjViWUc5Z0hBZElJQndpQVlSQUJHQi14Q1gxZFVBa29JRllrZ0FvQm1Bc0J5QXNCdUF3QjJCTU5pQlFDXHUwMDI2c2lnaD02VjNVcDJJRUtYOFx1MDAyNmNpZD1DQVFTS1FDTklyTE0waHRYMmI2Y0hwR1FmU2d0ZzRNWTlFZDJpdjlSdEFFYzdpOUdhYWUtX2hBMVd3WksiLFtudWxsLG51bGwsbnVsbCwiaHR0cHM6Ly9kaXNwbGF5YWRzLWZvcm1hdHMuZ29vZ2xldXNlcmNvbnRlbnQuY29tL2Fkcy9wcmV2aWV3L2NvbnRlbnQuanM_Y2xpZW50PXd0YVx1MDAyNm9iZnVzY2F0ZWRDdXN0b21lcklkPTc5MDQ0NDg2OTlcdTAwMjZjcmVhdGl2ZUlkPTQ1Mzg5OTY3NzYzNFx1MDAyNnZlcnNpb25JZD0yXHUwMDI2YWRHcm91cENyZWF0aXZlSWQ9NDA3OTc4ODgxODY0XHUwMDI2aHRtbFBhcmVudElkPXByZXYtMFx1MDAyNmhlaWdodD02MDBcdTAwMjZ3aWR0aD0xNjBcdTAwMjZzaWc9QUNpVkJfenlIRHJCamd0Qmk5Nkd2NVhZbWlONkhIQko0ZyJdLG51bGwsbnVsbCwxLCJaLUduWWpMRmZRWUl5T2EtNi04TEVJamN4ZWtGR0pPVDFSNGlEV1J5ZEdsdVp5NWpiMjB1WVhVeUNBZ0ZFeGlHNndnVVFoZGpZUzF3ZFdJdE9EZzNPRGN4TmpFMU9UUXpORE0yT0VnQVdHWndBWG9GQ0FRU0FSTSIsIjE1NjM1MjA1MjAiXV1dLFsxLDEsMV1dlUX1UucPWJO2PjNl_15Ax-35z6_WhdhmLJ6GVl204zHPj8Qo8zU8HIrbhJFyhRZFreyOTdoGHgzkHm95TFLbC5hobp1Ei29CkkIh4mz2nwb-1x6koaSmkKMOkY33Y6krQudHJOTLz4hAZM7AJ6ObTqQy-2fIJbI8hylFDNdGzT8Nqq9ujr52a3mJJ8_aSQM7OcUySrkaNCKS_QdZcAi2z8H76_aTpC1vUTVSb7zIfP_j5ri1gy6KeqhrXG4e8ER0KMeJ3D7rdqGeDktxz9HEo7FZ-EBwAQy_eWMEqJTxYK2o9i8dQPQxVUhYFyn9L2DBQAcTQZVgQIt1LDGSt_OH3Q,7W-PlqB4TzL5M2akSxhcZA&source=display', 'http://www.w3.org/2000/svg', 'http://www.w3.org/1999/xlink', 'https://tpc.googlesyndication.com/pagead/js/r20210222/r20110914/abg_lite.js', 'https://googleads.g.doubleclick.net/pagead/images/mtad/x_blue.png\\\\', 'https://googleads.g.doubleclick.net/pagead/images/mtad/x_blue.png\\\\', 'https://googleads.g.doubleclick.net/pagead/interaction/?ai=CVM1Cyi82YKDgCK2FssUPjeSTuAjI8qyLYcjmvuvvC8CNtwEQASCYgZ1JYKX4kYCQAaABta6f4gPIAQGpAr54HaVek6o-qAMByAPDBKoE5AFP0PgjTXl16NophIfFSNPUUXRL4Iqh1yNJqrDWHAM5CEre2G_Xh7OQZCazLsg6mRgLNjagtVy1H38cpTtAen-p4fyXgmrn1ripp90kDMA4bwRfYLjKCNouY8QEyHbGxoa6jbjoXfrMrSflEBSTHhSYotfR7Rvfq09SvMfUEq142KA-P_-SkQ2iMezxUeDS46HYSgs_1Yyz9wEjltgZLg9ej6xmP78hKhdMtU9MiM84cvT14gzPvwp_Bi_p8qmNrdiW9mznGgy5pXCDxWGAPO8qgRafYklKF07YW1upu-lXUneKqJbABNrxvfziAaAGZoAHs9HgHagH1ckbqAfw2RuoB_LZG6gHjs4bqAeT2BuoB7oGqAfulrECqAemvhuoB-zVG6gH89EbqAfs1RuoB5bYG9gHAdIIBwiAYRABGB-xCX1dUAkoIFYkgAoBmAsByAsBuAwB2BMNiBQC\\\\\\\\u0026sigh=6V3Up2IEKX8\\\\\\\\u0026cid=CAQSKQCNIrLM0htX2b6cHpGQfSgtg4MY9Ed2iv9RtAEc7i9Gaae-_hA1WwZK\\\\', 'https://googleads.g.doubleclick.net/pagead/images/mtad/back_blue.png\\\\', 'https://googleads.g.doubleclick.net/pagead/images/mtad/abg_blue.png\\\\', 'https://www.google.com/url?ct=abg\\\\\\\\u0026q=https://www.google.com/adsense/support/bin/request.py%3Fcontact%3Dabg_afc%26url%3Dhttps://www.babygames.com/Ariel-Double-Eyelid-Cosmetic-Surgery%26gl%3DAU%26hl%3Den%26client%3Dca-pub-8878716159434368%26ai0%3DCVM1Cyi82YKDgCK2FssUPjeSTuAjI8qyLYcjmvuvvC8CNtwEQASCYgZ1JYKX4kYCQAaABta6f4gPIAQGpAr54HaVek6o-qAMByAPDBKoE5AFP0PgjTXl16NophIfFSNPUUXRL4Iqh1yNJqrDWHAM5CEre2G_Xh7OQZCazLsg6mRgLNjagtVy1H38cpTtAen-p4fyXgmrn1ripp90kDMA4bwRfYLjKCNouY8QEyHbGxoa6jbjoXfrMrSflEBSTHhSYotfR7Rvfq09SvMfUEq142KA-P_-SkQ2iMezxUeDS46HYSgs_1Yyz9wEjltgZLg9ej6xmP78hKhdMtU9MiM84cvT14gzPvwp_Bi_p8qmNrdiW9mznGgy5pXCDxWGAPO8qgRafYklKF07YW1upu-lXUneKqJbABNrxvfziAaAGZoAHs9HgHagH1ckbqAfw2RuoB_LZG6gHjs4bqAeT2BuoB7oGqAfulrECqAemvhuoB-zVG6gH89EbqAfs1RuoB5bYG9gHAdIIBwiAYRABGB-xCX1dUAkoIFYkgAoBmAsByAsBuAwB2BMNiBQC\\\\\\\\u0026usg=AFQjCNEea0W0I1JeC98eHLpx1xJqd6x4bg\\\\', 'https://googleads.g.doubleclick.net/pagead/images/mtad/x_blue.png\\\\', 'https://googleads.g.doubleclick.net/pagead/images/adchoices/iconx2-000000.png\\\\', 'https://www.gstatic.com/images/branding/googlelogo/2x/googlelogo_dark_color_84x28dp.png\\\\', 'https://googleads.g.doubleclick.net/pagead/images/abg/iconx2-000000.png\\\\', 'https://www.gstatic.com', 'https://adssettings.google.com', 'https://adssettings.google.com/whythisad?reasons=AB3afGEAAATIW1tbW251bGwsWzIsOV1dLFtudWxsLCJodHRwczovL2dvb2dsZWFkcy5nLmRvdWJsZWNsaWNrLm5ldC9wYWdlYWQvaW50ZXJhY3Rpb24vP2FpPUNWTTFDeWk4MllLRGdDSzJGc3NVUGplU1R1QWpJOHF5TFljam12dXZ2QzhDTnR3RVFBU0NZZ1oxSllLWDRrWUNRQWFBQnRhNmY0Z1BJQVFHcEFyNTRIYVZlazZvLXFBTUJ5QVBEQktvRTVBRlAwUGdqVFhsMTZOb3BoSWZGU05QVVVYUkw0SXFoMXlOSnFyRFdIQU01Q0VyZTJHX1hoN09RWkNhekxzZzZtUmdMTmphZ3RWeTFIMzhjcFR0QWVuLXA0ZnlYZ21ybjFyaXBwOTBrRE1BNGJ3UmZZTGpLQ05vdVk4UUV5SGJHeG9hNmpiam9YZnJNclNmbEVCU1RIaFNZb3RmUjdSdmZxMDlTdk1mVUVxMTQyS0EtUF8tU2tRMmlNZXp4VWVEUzQ2SFlTZ3NfMVl5ejl3RWpsdGdaTGc5ZWo2eG1QNzhoS2hkTXRVOU1pTTg0Y3ZUMTRnelB2d3BfQmlfcDhxbU5yZGlXOW16bkdneTVwWENEeFdHQVBPOHFnUmFmWWtsS0YwN1lXMXVwdS1sWFVuZUtxSmJBQk5yeHZmemlBYUFHWm9BSHM5SGdIYWdIMWNrYnFBZncyUnVvQl9MWkc2Z0hqczRicUFlVDJCdW9CN29HcUFmdWxyRUNxQWVtdmh1b0ItelZHNmdIODlFYnFBZnMxUnVvQjViWUc5Z0hBZElJQndpQVlSQUJHQi14Q1gxZFVBa29JRllrZ0FvQm1Bc0J5QXNCdUF3QjJCTU5pQlFDXHUwMDI2c2lnaD02VjNVcDJJRUtYOFx1MDAyNmNpZD1DQVFTS1FDTklyTE0waHRYMmI2Y0hwR1FmU2d0ZzRNWTlFZDJpdjlSdEFFYzdpOUdhYWUtX2hBMVd3WksiLFtudWxsLG51bGwsbnVsbCwiaHR0cHM6Ly9kaXNwbGF5YWRzLWZvcm1hdHMuZ29vZ2xldXNlcmNvbnRlbnQuY29tL2Fkcy9wcmV2aWV3L2NvbnRlbnQuanM_Y2xpZW50PXd0YVx1MDAyNm9iZnVzY2F0ZWRDdXN0b21lcklkPTc5MDQ0NDg2OTlcdTAwMjZjcmVhdGl2ZUlkPTQ1Mzg5OTY3NzYzNFx1MDAyNnZlcnNpb25JZD0yXHUwMDI2YWRHcm91cENyZWF0aXZlSWQ9NDA3OTc4ODgxODY0XHUwMDI2aHRtbFBhcmVudElkPXByZXYtMFx1MDAyNmhlaWdodD02MDBcdTAwMjZ3aWR0aD0xNjBcdTAwMjZzaWc9QUNpVkJfenlIRHJCamd0Qmk5Nkd2NVhZbWlONkhIQko0ZyJdLG51bGwsbnVsbCwxLCJaLUduWWpMRmZRWUl5T2EtNi04TEVJamN4ZWtGR0pPVDFSNGlEV1J5ZEdsdVp5NWpiMjB1WVhVeUNBZ0ZFeGlHNndnVVFoZGpZUzF3ZFdJdE9EZzNPRGN4TmpFMU9UUXpORE0yT0VnQVdHWndBWG9GQ0FRU0FSTSIsIjE1NjM1MjA1MjAiXV1dLFsxLDEsMV1dlUX1UucPWJO2PjNl_15Ax-35z6_WhdhmLJ6GVl204zHPj8Qo8zU8HIrbhJFyhRZFreyOTdoGHgzkHm95TFLbC5hobp1Ei29CkkIh4mz2nwb-1x6koaSmkKMOkY33Y6krQudHJOTLz4hAZM7AJ6ObTqQy-2fIJbI8hylFDNdGzT8Nqq9ujr52a3mJJ8_aSQM7OcUySrkaNCKS_QdZcAi2z8H76_aTpC1vUTVSb7zIfP_j5ri1gy6KeqhrXG4e8ER0KMeJ3D7rdqGeDktxz9HEo7FZ-EBwAQy_eWMEqJTxYK2o9i8dQPQxVUhYFyn9L2DBQAcTQZVgQIt1LDGSt_OH3Q,7W-PlqB4TzL5M2akSxhcZA\\\\\\\\u0026source=display\\\\', 'https://googleads.g.doubleclick.net/pagead/drt/s?v=r20120211', 'https://googleads.g.doubleclick.net/pagead/drt/s?v=r20120211', 'https://googleads.g.doubleclick.net/pagead/drt/s?v=r20120211', 'https://tpc.googlesyndication.com/pagead/js/r20210222/r20110914/client/window_focus.js', 'https://googleads.g.doubleclick.net/pagead/interaction/?ai=CVM1Cyi82YKDgCK2FssUPjeSTuAjI8qyLYcjmvuvvC8CNtwEQASCYgZ1JYKX4kYCQAaABta6f4gPIAQGpAr54HaVek6o-qAMByAPDBKoE5AFP0PgjTXl16NophIfFSNPUUXRL4Iqh1yNJqrDWHAM5CEre2G_Xh7OQZCazLsg6mRgLNjagtVy1H38cpTtAen-p4fyXgmrn1ripp90kDMA4bwRfYLjKCNouY8QEyHbGxoa6jbjoXfrMrSflEBSTHhSYotfR7Rvfq09SvMfUEq142KA-P_-SkQ2iMezxUeDS46HYSgs_1Yyz9wEjltgZLg9ej6xmP78hKhdMtU9MiM84cvT14gzPvwp_Bi_p8qmNrdiW9mznGgy5pXCDxWGAPO8qgRafYklKF07YW1upu-lXUneKqJbABNrxvfziAaAGZoAHs9HgHagH1ckbqAfw2RuoB_LZG6gHjs4bqAeT2BuoB7oGqAfulrECqAemvhuoB-zVG6gH89EbqAfs1RuoB5bYG9gHAdIIBwiAYRABGB-xCX1dUAkoIFYkgAoBmAsByAsBuAwB2BMNiBQC&sigh=6V3Up2IEKX8&cid=CAQSKQCNIrLM0htX2b6cHpGQfSgtg4MY9Ed2iv9RtAEc7i9Gaae-_hA1WwZK', 'https://pagead2.googlesyndication.com/pagead/s/cookie_push_onload.html#aHR0cHM6Ly9jbXMucXVhbnRzZXJ2ZS5jb20vZHBpeGVsP2E9cC1uNXZ2THZSZGpnMGVrJmVpZD0wJnFjX2dvb2dsZV9wdXNoPSZnb29nbGVfZ2lkPUNBRVNFSWIwWmtXSkxraGhXNWZ5aG5QMGR1MCZnb29nbGVfY3Zlcj0xJmdvb2dsZV9wdXNoPUFRdml0VUk2RWd0WnV6dktHeUxpUEJpb1hTZlVMOW5NZ0dHTEtwUzJjVExRb2FQNTZWQ2ZTbUczYS1BR0dUZ25hQVZza05kU2VzRjJJOThVNmNrN2Q1ZW5XX1VHZFNtTnVBQVB5eFd2M2dzYmIwbmJXN2Z5amRLMldmUmJpVDhGdjA3NU9JVl9KWmlCeVE=,aHR0cHM6Ly9iZWFjb24ud2FsbWFydC5jb20vZXRhcC5naWY_dGFwPWdBZHMmZ29vZ2xlX2dpZD1DQUVTRUFycUVuZkVwbnBKbnNGZ1lEQi1scHMmZ29vZ2xlX2N2ZXI9MSZnb29nbGVfcHVzaD1BUXZpdFVJdDBNUWFZTDh6Sk1ZbWRKajZyYnhuRURDRmN6cnJ1VWhhVFNPSDVDbjBoZEt5cE41UXM5QmxSajlPY3NJYlpOSzZYMndPQUI3WjBSUlRVelV2aVZsRW5rb0ZqZGczenJqU0RSNkd4eTQybkxUUGlnMHJJaE5nV1ZkeUpTTm0xeXhZX2F3RmZodw==,aHR0cHM6Ly9ydGIub3BlbngubmV0L3N5bmMvZGRzP2dvb2dsZV9naWQ9Q0FFU0VCQTlVS0VHT3o4MFlSdVJlc21yTnZrJmdvb2dsZV9jdmVyPTEmZ29vZ2xlX3B1c2g9QVF2aXRVSTREQzZTVVpPdEE1VUpySVVMMGw4LW9HbE1WQUczRFVRbVByTV96bUItcGNyczlrU25DV2gzY1hWOERaVEZXOU9DandXS2dWTE9LZGw1RmJkb05kVVY2NVMza3BGQXAySVZ3cG03UEUtUUg3eDcyeF94czRnVTNVWUhQUHJ4dUcyS1p5dktadw==,aHR0cHM6Ly9pbWFnZTYucHVibWF0aWMuY29tL0FkU2VydmVyL1VDb29raWVTZXRQdWc_b2lkPTEmcmQ9aHR0cHMlM0ElMkYlMkZjbS5nLmRvdWJsZWNsaWNrLm5ldCUyRnBpeGVsJTNGZ29vZ2xlX25pZCUzRHBtZWIlMjZnb29nbGVfc2MlM0QxJTI2Z29vZ2xlX2htJTNEJTIzJTIzQjY0XzE2Ql9QTV9VSUQlMjZnb29nbGVfcmVkaXIlM0RodHRwcyUyNTI1M0ElMjUyNTJGJTI1MjUyRmltYWdlOC5wdWJtYXRpYy5jb20lMjUyNTJGQWRTZXJ2ZXIlMjUyNTJGSW1nU3luYyUyNTI1M0ZzZWMlMjUyNTNEMSUyNTI1MjZwJTI1MjUzRDE1NjU3OCUyNTI1MjZtcGMlMjUyNTNENCUyNTI1MjZmcCUyNTI1M0QxJTI1MjUyNnB1JTI1MjUzRGh0dHBzJTI1MjUyNTNBJTI1MjUyNTJGJTI1MjUyNTJGaW1hZ2U0LnB1Ym1hdGljLmNvbSUyNTI1MjUyRkFkU2VydmVyJTI1MjUyNTJGU1B1ZyUyNTI1MjUzRnAlMjUyNTI1M0QxNTY1NzglMjUyNTI1MjZzYyUyNTI1MjUzRDEmZ29vZ2xlX2dpZD1DQUVTRUNJTFAwVU5tUVhUM1RxSU9uR1RGajgmZ29vZ2xlX2N2ZXI9MSZnb29nbGVfcHVzaD1BUXZpdFVLemtiX3lPZDFob3gzTENZVzEtdUNCSzYzUlN0V1EtY1dSb3hJaTg0ZVl4RDl1M0FPLUFZNXZoSWYtWE9SbE1kX3o1SVk3cG1QT2xta3lOT0VtUF9Ha2p1VmV0akRDRXo4bzRXTzZlX181RUpEcVJGOTc3TC1kYVBNdkx3b3NtNnphS0QxNlVYcw==,aHR0cHM6Ly9waXhlbC5ydWJpY29ucHJvamVjdC5jb20vZXhjaGFuZ2Uvc3luYy5waHA_cD1kZnAmZ29vZ2xlX2dpZD1DQUVTRVBnbDIydk5EWG5WTDhqVzFZRjFZakkmZ29vZ2xlX2N2ZXI9MSZnb29nbGVfcHVzaD1BUXZpdFVJNTlTRDExWWxDeVNHQ25ya3dOQ0tlRUUxZWcwcEVzdTZ3Z0gzSlN3aVRKZ1JoQnhvNEFoTzh1NFpoaUdwZlZGcjNncHVUSlNMc0N6MUxMRmhLdnF0YWxlTTZLTUs2ejRGSzdXSVFIajZFc2dwMEEtdEs3cl9rYWdzMWhhaXlCSHc1UXZqSW1tUQ==,aHR0cHM6Ly9zc3VtLXNlYy5jYXNhbGVtZWRpYS5jb20vdXNlcm1hdGNocmVkaXI_cz0xODQwMjMmY2I9aHR0cHMlM0ElMkYlMkZjbS5nLmRvdWJsZWNsaWNrLm5ldCUyRnBpeGVsJTNGZ29vZ2xlX25pZCUzRGluZGV4JTI2Z29vZ2xlX2htJTNEJmdvb2dsZV9naWQ9Q0FFU0VJcXl0NVdramFRNVFhWG5HNk1Wd25VJmdvb2dsZV9jdmVyPTEmZ29vZ2xlX3B1c2g9QVF2aXRVTDNWUXlPWFVqZ0dQMzZDM3R4TTJ2V21mNU1tUER2dTZ6VW9KN29Fb3k3V0VFZXQ3UWpDMWgxOXVsV1JTbVI1M1JfVl9HbTRfSHRlZVdmMFZMMGdHcG1kY05nRVpmN1ZKRjB1QmlIbzlEWkl5TjFJc1FLdDh3TnZwQWN4RXlPT0NDZy1CTllrNnc=,aHR0cHM6Ly9jYy5hZGluZ28uanAvYWR4L3B1c2gvP2dvb2dsZV9naWQ9Q0FFU0VGdldGaHdlWmY3dVBrMFBxLUV5VUs4Jmdvb2dsZV9jdmVyPTEmZ29vZ2xlX3B1c2g9QVF2aXRVSm92a0JzRlJhUjJBV2Y2X2tYa1dfTTVMOUdSRzV0OFhIQWVhMHFNaVFGSmoxeVhUTTB0dUhRekFUWVprX0FWcy1CR0stNE1UUlR2RTVNUzg5QlN2RHUyUXpSTzFmcUQyYWxiSlJWZE80TEo5Y2JDWHdnQnBVandQaHVLOS1lcWE1RzRpYjdNQQ==,aHR0cHM6Ly9jbS5nLmRvdWJsZWNsaWNrLm5ldC9waXhlbC9hdHRyP2Q9QUhORjEzSWVOYThkM3F4ay12YzJMbmNTa0tLbTlTbEszUEhwRFZkYXVENmctVmZhN0Vsc0otWkFQdmVZQ0gzTjFOdzF5UmhHMGdkMQ==', 'https://pagead2.googlesyndication.com/pagead/s/cookie_push_onload.html#aHR0cHM6Ly9jbXMucXVhbnRzZXJ2ZS5jb20vZHBpeGVsP2E9cC1uNXZ2THZSZGpnMGVrJmVpZD0wJnFjX2dvb2dsZV9wdXNoPSZnb29nbGVfZ2lkPUNBRVNFSWIwWmtXSkxraGhXNWZ5aG5QMGR1MCZnb29nbGVfY3Zlcj0xJmdvb2dsZV9wdXNoPUFRdml0VUk2RWd0WnV6dktHeUxpUEJpb1hTZlVMOW5NZ0dHTEtwUzJjVExRb2FQNTZWQ2ZTbUczYS1BR0dUZ25hQVZza05kU2VzRjJJOThVNmNrN2Q1ZW5XX1VHZFNtTnVBQVB5eFd2M2dzYmIwbmJXN2Z5amRLMldmUmJpVDhGdjA3NU9JVl9KWmlCeVE=,aHR0cHM6Ly9iZWFjb24ud2FsbWFydC5jb20vZXRhcC5naWY_dGFwPWdBZHMmZ29vZ2xlX2dpZD1DQUVTRUFycUVuZkVwbnBKbnNGZ1lEQi1scHMmZ29vZ2xlX2N2ZXI9MSZnb29nbGVfcHVzaD1BUXZpdFVJdDBNUWFZTDh6Sk1ZbWRKajZyYnhuRURDRmN6cnJ1VWhhVFNPSDVDbjBoZEt5cE41UXM5QmxSajlPY3NJYlpOSzZYMndPQUI3WjBSUlRVelV2aVZsRW5rb0ZqZGczenJqU0RSNkd4eTQybkxUUGlnMHJJaE5nV1ZkeUpTTm0xeXhZX2F3RmZodw==,aHR0cHM6Ly9ydGIub3BlbngubmV0L3N5bmMvZGRzP2dvb2dsZV9naWQ9Q0FFU0VCQTlVS0VHT3o4MFlSdVJlc21yTnZrJmdvb2dsZV9jdmVyPTEmZ29vZ2xlX3B1c2g9QVF2aXRVSTREQzZTVVpPdEE1VUpySVVMMGw4LW9HbE1WQUczRFVRbVByTV96bUItcGNyczlrU25DV2gzY1hWOERaVEZXOU9DandXS2dWTE9LZGw1RmJkb05kVVY2NVMza3BGQXAySVZ3cG03UEUtUUg3eDcyeF94czRnVTNVWUhQUHJ4dUcyS1p5dktadw==,aHR0cHM6Ly9pbWFnZTYucHVibWF0aWMuY29tL0FkU2VydmVyL1VDb29raWVTZXRQdWc_b2lkPTEmcmQ9aHR0cHMlM0ElMkYlMkZjbS5nLmRvdWJsZWNsaWNrLm5ldCUyRnBpeGVsJTNGZ29vZ2xlX25pZCUzRHBtZWIlMjZnb29nbGVfc2MlM0QxJTI2Z29vZ2xlX2htJTNEJTIzJTIzQjY0XzE2Ql9QTV9VSUQlMjZnb29nbGVfcmVkaXIlM0RodHRwcyUyNTI1M0ElMjUyNTJGJTI1MjUyRmltYWdlOC5wdWJtYXRpYy5jb20lMjUyNTJGQWRTZXJ2ZXIlMjUyNTJGSW1nU3luYyUyNTI1M0ZzZWMlMjUyNTNEMSUyNTI1MjZwJTI1MjUzRDE1NjU3OCUyNTI1MjZtcGMlMjUyNTNENCUyNTI1MjZmcCUyNTI1M0QxJTI1MjUyNnB1JTI1MjUzRGh0dHBzJTI1MjUyNTNBJTI1MjUyNTJGJTI1MjUyNTJGaW1hZ2U0LnB1Ym1hdGljLmNvbSUyNTI1MjUyRkFkU2VydmVyJTI1MjUyNTJGU1B1ZyUyNTI1MjUzRnAlMjUyNTI1M0QxNTY1NzglMjUyNTI1MjZzYyUyNTI1MjUzRDEmZ29vZ2xlX2dpZD1DQUVTRUNJTFAwVU5tUVhUM1RxSU9uR1RGajgmZ29vZ2xlX2N2ZXI9MSZnb29nbGVfcHVzaD1BUXZpdFVLemtiX3lPZDFob3gzTENZVzEtdUNCSzYzUlN0V1EtY1dSb3hJaTg0ZVl4RDl1M0FPLUFZNXZoSWYtWE9SbE1kX3o1SVk3cG1QT2xta3lOT0VtUF9Ha2p1VmV0akRDRXo4bzRXTzZlX181RUpEcVJGOTc3TC1kYVBNdkx3b3NtNnphS0QxNlVYcw==,aHR0cHM6Ly9waXhlbC5ydWJpY29ucHJvamVjdC5jb20vZXhjaGFuZ2Uvc3luYy5waHA_cD1kZnAmZ29vZ2xlX2dpZD1DQUVTRVBnbDIydk5EWG5WTDhqVzFZRjFZakkmZ29vZ2xlX2N2ZXI9MSZnb29nbGVfcHVzaD1BUXZpdFVJNTlTRDExWWxDeVNHQ25ya3dOQ0tlRUUxZWcwcEVzdTZ3Z0gzSlN3aVRKZ1JoQnhvNEFoTzh1NFpoaUdwZlZGcjNncHVUSlNMc0N6MUxMRmhLdnF0YWxlTTZLTUs2ejRGSzdXSVFIajZFc2dwMEEtdEs3cl9rYWdzMWhhaXlCSHc1UXZqSW1tUQ==,aHR0cHM6Ly9zc3VtLXNlYy5jYXNhbGVtZWRpYS5jb20vdXNlcm1hdGNocmVkaXI_cz0xODQwMjMmY2I9aHR0cHMlM0ElMkYlMkZjbS5nLmRvdWJsZWNsaWNrLm5ldCUyRnBpeGVsJTNGZ29vZ2xlX25pZCUzRGluZGV4JTI2Z29vZ2xlX2htJTNEJmdvb2dsZV9naWQ9Q0FFU0VJcXl0NVdramFRNVFhWG5HNk1Wd25VJmdvb2dsZV9jdmVyPTEmZ29vZ2xlX3B1c2g9QVF2aXRVTDNWUXlPWFVqZ0dQMzZDM3R4TTJ2V21mNU1tUER2dTZ6VW9KN29Fb3k3V0VFZXQ3UWpDMWgxOXVsV1JTbVI1M1JfVl9HbTRfSHRlZVdmMFZMMGdHcG1kY05nRVpmN1ZKRjB1QmlIbzlEWkl5TjFJc1FLdDh3TnZwQWN4RXlPT0NDZy1CTllrNnc=,aHR0cHM6Ly9jYy5hZGluZ28uanAvYWR4L3B1c2gvP2dvb2dsZV9naWQ9Q0FFU0VGdldGaHdlWmY3dVBrMFBxLUV5VUs4Jmdvb2dsZV9jdmVyPTEmZ29vZ2xlX3B1c2g9QVF2aXRVSm92a0JzRlJhUjJBV2Y2X2tYa1dfTTVMOUdSRzV0OFhIQWVhMHFNaVFGSmoxeVhUTTB0dUhRekFUWVprX0FWcy1CR0stNE1UUlR2RTVNUzg5QlN2RHUyUXpSTzFmcUQyYWxiSlJWZE80TEo5Y2JDWHdnQnBVandQaHVLOS1lcWE1RzRpYjdNQQ==,aHR0cHM6Ly9jbS5nLmRvdWJsZWNsaWNrLm5ldC9waXhlbC9hdHRyP2Q9QUhORjEzSWVOYThkM3F4ay12YzJMbmNTa0tLbTlTbEszUEhwRFZkYXVENmctVmZhN0Vsc0otWkFQdmVZQ0gzTjFOdzF5UmhHMGdkMQ==', 'https://pagead2.googlesyndication.com/pagead/s/cookie_push_onload.html#aHR0cHM6Ly9jbXMucXVhbnRzZXJ2ZS5jb20vZHBpeGVsP2E9cC1uNXZ2THZSZGpnMGVrJmVpZD0wJnFjX2dvb2dsZV9wdXNoPSZnb29nbGVfZ2lkPUNBRVNFSWIwWmtXSkxraGhXNWZ5aG5QMGR1MCZnb29nbGVfY3Zlcj0xJmdvb2dsZV9wdXNoPUFRdml0VUk2RWd0WnV6dktHeUxpUEJpb1hTZlVMOW5NZ0dHTEtwUzJjVExRb2FQNTZWQ2ZTbUczYS1BR0dUZ25hQVZza05kU2VzRjJJOThVNmNrN2Q1ZW5XX1VHZFNtTnVBQVB5eFd2M2dzYmIwbmJXN2Z5amRLMldmUmJpVDhGdjA3NU9JVl9KWmlCeVE=,aHR0cHM6Ly9iZWFjb24ud2FsbWFydC5jb20vZXRhcC5naWY_dGFwPWdBZHMmZ29vZ2xlX2dpZD1DQUVTRUFycUVuZkVwbnBKbnNGZ1lEQi1scHMmZ29vZ2xlX2N2ZXI9MSZnb29nbGVfcHVzaD1BUXZpdFVJdDBNUWFZTDh6Sk1ZbWRKajZyYnhuRURDRmN6cnJ1VWhhVFNPSDVDbjBoZEt5cE41UXM5QmxSajlPY3NJYlpOSzZYMndPQUI3WjBSUlRVelV2aVZsRW5rb0ZqZGczenJqU0RSNkd4eTQybkxUUGlnMHJJaE5nV1ZkeUpTTm0xeXhZX2F3RmZodw==,aHR0cHM6Ly9ydGIub3BlbngubmV0L3N5bmMvZGRzP2dvb2dsZV9naWQ9Q0FFU0VCQTlVS0VHT3o4MFlSdVJlc21yTnZrJmdvb2dsZV9jdmVyPTEmZ29vZ2xlX3B1c2g9QVF2aXRVSTREQzZTVVpPdEE1VUpySVVMMGw4LW9HbE1WQUczRFVRbVByTV96bUItcGNyczlrU25DV2gzY1hWOERaVEZXOU9DandXS2dWTE9LZGw1RmJkb05kVVY2NVMza3BGQXAySVZ3cG03UEUtUUg3eDcyeF94czRnVTNVWUhQUHJ4dUcyS1p5dktadw==,aHR0cHM6Ly9pbWFnZTYucHVibWF0aWMuY29tL0FkU2VydmVyL1VDb29raWVTZXRQdWc_b2lkPTEmcmQ9aHR0cHMlM0ElMkYlMkZjbS5nLmRvdWJsZWNsaWNrLm5ldCUyRnBpeGVsJTNGZ29vZ2xlX25pZCUzRHBtZWIlMjZnb29nbGVfc2MlM0QxJTI2Z29vZ2xlX2htJTNEJTIzJTIzQjY0XzE2Ql9QTV9VSUQlMjZnb29nbGVfcmVkaXIlM0RodHRwcyUyNTI1M0ElMjUyNTJGJTI1MjUyRmltYWdlOC5wdWJtYXRpYy5jb20lMjUyNTJGQWRTZXJ2ZXIlMjUyNTJGSW1nU3luYyUyNTI1M0ZzZWMlMjUyNTNEMSUyNTI1MjZwJTI1MjUzRDE1NjU3OCUyNTI1MjZtcGMlMjUyNTNENCUyNTI1MjZmcCUyNTI1M0QxJTI1MjUyNnB1JTI1MjUzRGh0dHBzJTI1MjUyNTNBJTI1MjUyNTJGJTI1MjUyNTJGaW1hZ2U0LnB1Ym1hdGljLmNvbSUyNTI1MjUyRkFkU2VydmVyJTI1MjUyNTJGU1B1ZyUyNTI1MjUzRnAlMjUyNTI1M0QxNTY1NzglMjUyNTI1MjZzYyUyNTI1MjUzRDEmZ29vZ2xlX2dpZD1DQUVTRUNJTFAwVU5tUVhUM1RxSU9uR1RGajgmZ29vZ2xlX2N2ZXI9MSZnb29nbGVfcHVzaD1BUXZpdFVLemtiX3lPZDFob3gzTENZVzEtdUNCSzYzUlN0V1EtY1dSb3hJaTg0ZVl4RDl1M0FPLUFZNXZoSWYtWE9SbE1kX3o1SVk3cG1QT2xta3lOT0VtUF9Ha2p1VmV0akRDRXo4bzRXTzZlX181RUpEcVJGOTc3TC1kYVBNdkx3b3NtNnphS0QxNlVYcw==,aHR0cHM6Ly9waXhlbC5ydWJpY29ucHJvamVjdC5jb20vZXhjaGFuZ2Uvc3luYy5waHA_cD1kZnAmZ29vZ2xlX2dpZD1DQUVTRVBnbDIydk5EWG5WTDhqVzFZRjFZakkmZ29vZ2xlX2N2ZXI9MSZnb29nbGVfcHVzaD1BUXZpdFVJNTlTRDExWWxDeVNHQ25ya3dOQ0tlRUUxZWcwcEVzdTZ3Z0gzSlN3aVRKZ1JoQnhvNEFoTzh1NFpoaUdwZlZGcjNncHVUSlNMc0N6MUxMRmhLdnF0YWxlTTZLTUs2ejRGSzdXSVFIajZFc2dwMEEtdEs3cl9rYWdzMWhhaXlCSHc1UXZqSW1tUQ==,aHR0cHM6Ly9zc3VtLXNlYy5jYXNhbGVtZWRpYS5jb20vdXNlcm1hdGNocmVkaXI_cz0xODQwMjMmY2I9aHR0cHMlM0ElMkYlMkZjbS5nLmRvdWJsZWNsaWNrLm5ldCUyRnBpeGVsJTNGZ29vZ2xlX25pZCUzRGluZGV4JTI2Z29vZ2xlX2htJTNEJmdvb2dsZV9naWQ9Q0FFU0VJcXl0NVdramFRNVFhWG5HNk1Wd25VJmdvb2dsZV9jdmVyPTEmZ29vZ2xlX3B1c2g9QVF2aXRVTDNWUXlPWFVqZ0dQMzZDM3R4TTJ2V21mNU1tUER2dTZ6VW9KN29Fb3k3V0VFZXQ3UWpDMWgxOXVsV1JTbVI1M1JfVl9HbTRfSHRlZVdmMFZMMGdHcG1kY05nRVpmN1ZKRjB1QmlIbzlEWkl5TjFJc1FLdDh3TnZwQWN4RXlPT0NDZy1CTllrNnc=,aHR0cHM6Ly9jYy5hZGluZ28uanAvYWR4L3B1c2gvP2dvb2dsZV9naWQ9Q0FFU0VGdldGaHdlWmY3dVBrMFBxLUV5VUs4Jmdvb2dsZV9jdmVyPTEmZ29vZ2xlX3B1c2g9QVF2aXRVSm92a0JzRlJhUjJBV2Y2X2tYa1dfTTVMOUdSRzV0OFhIQWVhMHFNaVFGSmoxeVhUTTB0dUhRekFUWVprX0FWcy1CR0stNE1UUlR2RTVNUzg5QlN2RHUyUXpSTzFmcUQyYWxiSlJWZE80TEo5Y2JDWHdnQnBVandQaHVLOS1lcWE1RzRpYjdNQQ==,aHR0cHM6Ly9jbS5nLmRvdWJsZWNsaWNrLm5ldC9waXhlbC9hdHRyP2Q9QUhORjEzSWVOYThkM3F4ay12YzJMbmNTa0tLbTlTbEszUEhwRFZkYXVENmctVmZhN0Vsc0otWkFQdmVZQ0gzTjFOdzF5UmhHMGdkMQ==', 'https://www.googletagservices.com/activeview/js/current/rx_lidar.js?cache=r20110914', 'https://tpc.googlesyndication.com/pagead/js/r20210222/r20110914/client/qs_click_protection.js', 'https://www.gstatic.com/mysidia/22c62d8db0cfb31feea36981882f88ea.js?tag=mysidia_one_click_handler_one_afma', 'https://googleads.g.doubleclick.net/pagead/ads?guci=2.2.0.0.2.2.0.0&client=ca-pub-8878716159434368&output=html&h=600&slotname=2597217299&adk=2978108269&adf=1683899826π=t.ma~as.2597217299&w=160&fwrn=4&fwrnh=100&lmt=1614163914&rafmt=1&psa=1&format=160x600&url=https%3A%2F%2Fwww.babygames.com%2F%2FAriel-Double-Eyelid-Cosmetic-Surgery&flash=0&fwr=0&fwrattr=true&rpe=1&resp_fmts=4&wgl=1&dt=1614163912804&bpp=89&bdt=1698&idt=1158&shv=r20210222&cbv=r20190131&ptt=9&saldr=aa&abxe=1&prev_fmts=0x0%2C160x600&nras=1&correlator=4982498674507&frm=20&pv=1&ga_vid=1959585702.1614163913&ga_sid=1614163913&ga_hid=2098316278&ga_fc=0&u_tz=0&u_his=2&u_java=0&u_h=600&u_w=800&u_ah=600&u_aw=800&u_cd=24&u_nplug=0&u_nmime=0&adx=723&ady=67&biw=785&bih=585&scr_x=0&scr_y=60&eid=21068769%2C21068893%2C21066973&oid=3&pvsid=3666870084897742&pem=739&rx=0&eae=0&fc=1920&brdim=0%2C0%2C0%2C0%2C800%2C0%2C800%2C600%2C800%2C600&vis=1&rsz=d%7C%7CaoeE%7C&abl=CA&pfx=0&fu=9344&bc=31&ifi=3&uci=a!3&fsb=1&xpc=t8eP31eM3g&p=https%3A//www.babygames.com&dtd=1220', 'https://googleads.g.doubleclick.net/pagead/ads?guci=2.2.0.0.2.2.0.0&client=ca-pub-8878716159434368&output=html&h=600&slotname=2597217299&adk=2978108269&adf=1683899826π=t.ma~as.2597217299&w=160&fwrn=4&fwrnh=100&lmt=1614163914&rafmt=1&psa=1&format=160x600&url=https%3A%2F%2Fwww.babygames.com%2F%2FAriel-Double-Eyelid-Cosmetic-Surgery&flash=0&fwr=0&fwrattr=true&rpe=1&resp_fmts=4&wgl=1&dt=1614163912804&bpp=89&bdt=1698&idt=1158&shv=r20210222&cbv=r20190131&ptt=9&saldr=aa&abxe=1&prev_fmts=0x0%2C160x600&nras=1&correlator=4982498674507&frm=20&pv=1&ga_vid=1959585702.1614163913&ga_sid=1614163913&ga_hid=2098316278&ga_fc=0&u_tz=0&u_his=2&u_java=0&u_h=600&u_w=800&u_ah=600&u_aw=800&u_cd=24&u_nplug=0&u_nmime=0&adx=723&ady=67&biw=785&bih=585&scr_x=0&scr_y=60&eid=21068769%2C21068893%2C21066973&oid=3&pvsid=3666870084897742&pem=739&rx=0&eae=0&fc=1920&brdim=0%2C0%2C0%2C0%2C800%2C0%2C800%2C600%2C800%2C600&vis=1&rsz=d%7C%7CaoeE%7C&abl=CA&pfx=0&fu=9344&bc=31&ifi=3&uci=a!3&fsb=1&xpc=t8eP31eM3g&p=https%3A//www.babygames.com&dtd=1220', 'https://pagead2.googlesyndication.com/pagead/js/adsbygoogle.js', 'https://googleads.g.doubleclick.net/pagead/ads?guci=2.2.0.0.2.2.0.0&client=ca-pub-8878716159434368&output=html&h=250&twa=1&slotname=8054408164&adk=489807932&adf=3251599671π=t.ma~as.8054408164&w=770&fwrn=4&fwrnh=100&lmt=1614163914&psa=1&format=770x250&url=https%3A%2F%2Fwww.babygames.com%2F%2FAriel-Double-Eyelid-Cosmetic-Surgery&flash=0&fwr=0&rh=250&rw=770&wgl=1&dt=1614163912894&bpp=3&bdt=1788&idt=1197&shv=r20210222&cbv=r20190131&ptt=9&saldr=aa&abxe=1&prev_fmts=0x0%2C160x600%2C160x600&nras=1&correlator=4982498674507&frm=20&pv=1&ga_vid=1959585702.1614163913&ga_sid=1614163913&ga_hid=2098316278&ga_fc=0&u_tz=0&u_his=2&u_java=0&u_h=600&u_w=800&u_ah=600&u_aw=800&u_cd=24&u_nplug=0&u_nmime=0&adx=8&ady=698&biw=785&bih=585&scr_x=0&scr_y=60&eid=21068769%2C21068893%2C21066973&oid=3&pvsid=3666870084897742&pem=739&rx=0&eae=0&fc=1920&brdim=0%2C0%2C0%2C0%2C800%2C0%2C800%2C600%2C800%2C600&vis=1&rsz=od%7C%7CpeEbr%7C&abl=CS&pfx=0&fu=9216&bc=31&ifi=4&uci=a!4&btvi=1&fsb=1&xpc=vsVTFYfrge&p=https%3A//www.babygames.com&dtd=1278', 'https://tpc.googlesyndication.com/pagead/js/r20210222/r20110914/client/window_focus.js', 'https://googleads.g.doubleclick.net/pagead/interaction/?ai=CLFU2yi82YJfFD4e2oAP7saS4Ac3slKVgzf2pqLYLwZXoxZ8VEAEgmIGdSWCl-JGAkAGgAbWhqP8DyAECqAMByAPJBKoE6QFP0Obiw63fulCT27DlEpVUxw1K18Mm9Njjp0bM5vay3Rx0V97outP2fcyDvBuk7ZnwkNFiDHhXGvrPUUQioNyx8V3_yTfD3y9A_3eGJXmuCQZIjYgdUSjVpH-N1oB5tP2RaPoDy5YkkxqizR5Rpld8W-dMXoIckBJwPDjr1eRs8BFoIa6VQ8joAn3PvB6kreP8RSSiHxwctngbpn0HeFcRt4HWMYz-Bt7GO6zzGBpUddi87-u-yJv_9gGis9saAXsUgPQ47oCt5SB-Nb1RmK5igCKrKylF4Qr6qehRzN1MK0THnO73c_45l8AE_4qtuv8BoAYCgAez3leoB9XJG6gH8NkbqAfy2RuoB47OG6gHk9gbqAe6BqgH7paxAqgHpr4bqAfs1RuoB_PRG6gH7NUbqAeW2BvYBwHSCAcIgGEQARgfsQmZcdDkEHJ6A4AKAZgLAcgLAbgMAdgTDA&sigh=jAv5QZFCMD0&cid=CAQSKQCNIrLM1cAoYsp8sSXWgp3USoplPOwprVetKYXSZWN3NAEKkA0RFLxU', 'https://pagead2.googlesyndication.com/pagead/s/cookie_push_onload.html#aHR0cHM6Ly9jbXMucXVhbnRzZXJ2ZS5jb20vZHBpeGVsP2E9cC1uNXZ2THZSZGpnMGVrJmVpZD0wJnFjX2dvb2dsZV9wdXNoPSZnb29nbGVfZ2lkPUNBRVNFRC1WSzc3V0t3ZXFVVWE2RlBsempVVSZnb29nbGVfY3Zlcj0xJmdvb2dsZV9wdXNoPUFRdml0VUxXTkloNXluZ1ZZS01UNUZiM0FTOTNaLWFMb0t3ZVFtTk54WmJISWFNZVNNOThaSm91UFR5RXVNaVFyZ00zT0k0azFXUER1V29zYWFxb0s3Z0dfZC1NT1l3cmZHSUttdmVFTXlwOFVHcWtDUkNoRlhzcWtBemRfdVNPQ2xTd2o4VzlJN0g4TWFVRA==,aHR0cHM6Ly9vZHIubW9va2llMS5jb20vdC92Mi9zeW5jP3RhZ2lkPVYyXzQ1MzEmc3JjLnZpc2l0b3JpZD1DQUVTRUQxRG9CSnZtMDJWMThuNVoySEhfSEkmZ29vZ2xlX3B1c2g9QVF2aXRVS0VVUWFuWmxTZFBYZElFV0VGdmJZMlJsdUZkbmFnWk5mSmg0V09wOEliaVlHaXV4dkFzSUtxck42aVNwSXZvRjR4dFhJN1c0VFZHNzQ3TXlCc20xRFBNS1hhZk9QU0VDV2EwTkRJZjVGUkdIUEtPVHBvRHpsQTlSR21EWFkydXJPMThLcFJrMDNDJmdvb2dsZV9jdmVyPTE=,aHR0cHM6Ly9vZHIubW9va2llMS5jb20vdC92Mi9zeW5jP3RhZ2lkPVYyXzQ1MzAmc3JjLnZpc2l0b3JpZD1DQUVTRURFQXpqQjltMmp3WndXQnhSd09QREkmZ29vZ2xlX2N2ZXI9MSZnb29nbGVfcHVzaD1BUXZpdFVJMXVUdGtjWTk5RURNaFhVVTFtcXhQOEFfakJja0JXVkpXTC0wOXhmZmxQU2JWNVVSWGM0SFVya1pma2NVbWs2azdmNHp2WXBZa0M4N0dYcTFfODFoZGViX0NlbkpHazFYX0pwSzJFR01admpEd0JpRS1NWDg1Q2ZyVW5LY0Y2Q2Q2QVNFY0VGRzc=,aHR0cHM6Ly9ydGIub3BlbngubmV0L3N5bmMvZGRzP2dvb2dsZV9naWQ9Q0FFU0VPcVd6azB5Z2Mxbm9rUE5nYmJhSDVRJmdvb2dsZV9jdmVyPTEmZ29vZ2xlX3B1c2g9QVF2aXRVSThCU181dVNpMzNhbkpUZXZWT2R4UUE0YTF6SmExWXhsZHk5NXllUE5BQy10U2xib1JIODZQLVllYlN0c0NpY2lHVTJiQTJXRlpWd1JUdEtmUDJvTnZ6TFBhSmxtcTM0VlBXd2FiM2JPaWc0Rm9iT3dOc2tUVi02UVlGNFpjQWZNUmRKLWpweWZi,aHR0cHM6Ly9pbWFnZTYucHVibWF0aWMuY29tL0FkU2VydmVyL1VDb29raWVTZXRQdWc_b2lkPTEmcmQ9aHR0cHMlM0ElMkYlMkZjbS5nLmRvdWJsZWNsaWNrLm5ldCUyRnBpeGVsJTNGZ29vZ2xlX25pZCUzRHBtZWIlMjZnb29nbGVfc2MlM0QxJTI2Z29vZ2xlX2htJTNEJTIzJTIzQjY0XzE2Ql9QTV9VSUQlMjZnb29nbGVfcmVkaXIlM0RodHRwcyUyNTI1M0ElMjUyNTJGJTI1MjUyRmltYWdlOC5wdWJtYXRpYy5jb20lMjUyNTJGQWRTZXJ2ZXIlMjUyNTJGSW1nU3luYyUyNTI1M0ZzZWMlMjUyNTNEMSUyNTI1MjZwJTI1MjUzRDE1NjU3OCUyNTI1MjZtcGMlMjUyNTNENCUyNTI1MjZmcCUyNTI1M0QxJTI1MjUyNnB1JTI1MjUzRGh0dHBzJTI1MjUyNTNBJTI1MjUyNTJGJTI1MjUyNTJGaW1hZ2U0LnB1Ym1hdGljLmNvbSUyNTI1MjUyRkFkU2VydmVyJTI1MjUyNTJGU1B1ZyUyNTI1MjUzRnAlMjUyNTI1M0QxNTY1NzglMjUyNTI1MjZzYyUyNTI1MjUzRDEmZ29vZ2xlX2dpZD1DQUVTRUx6WFJsbUgyc3dHaXFBQUVvYXUyVEkmZ29vZ2xlX2N2ZXI9MSZnb29nbGVfcHVzaD1BUXZpdFVJRm42YW5fUlpCbWNadngtRC1PalgyaTBEU2tlRk4wSGo3YldTQ21uTHBpTU8yemwxc2kwZWNwM3VWd3BYQ29MWEZqX0d1akxoV3A5elVnNW1tdWRDbTJoU2pKMzNKWWFXeVlTXy1tc0NZZ29TLTZPUmtIeGpwcGNDMTVIcENmQ0xlMFhDYkFQb1c=,aHR0cHM6Ly9zc3VtLXNlYy5jYXNhbGVtZWRpYS5jb20vdXNlcm1hdGNocmVkaXI_cz0xODQwMjMmY2I9aHR0cHMlM0ElMkYlMkZjbS5nLmRvdWJsZWNsaWNrLm5ldCUyRnBpeGVsJTNGZ29vZ2xlX25pZCUzRGluZGV4JTI2Z29vZ2xlX2htJTNEJmdvb2dsZV9naWQ9Q0FFU0VHVXRmQ1BfM3BaOGhjSGdxakw2cVRZJmdvb2dsZV9jdmVyPTEmZ29vZ2xlX3B1c2g9QVF2aXRVTHVDOWNrZ0xhbnpPTFI1WEsyckdSckN1RTBpLWt0MWdISHBObktudUhNdEE0eXYxUml5OUYwMjllZUtyWmVJQ25HeTBmb2R0cnNqbjN5RmpXNHVGOGk1TjBITGRLY2FQNGpxSnJ4M1MzbFBnT2loenNpdzVKSDZocWR5OFdlOURTRmVYakl5UzFi,aHR0cHM6Ly9jYy5hZGluZ28uanAvYWR4L3B1c2gvP2dvb2dsZV9naWQ9Q0FFU0VDZjBNN1JvdzVGcjY1OTZCYVFtcm9ZJmdvb2dsZV9jdmVyPTEmZ29vZ2xlX3B1c2g9QVF2aXRVS1UxdHZVQTFnaWppU2xoV05XeXNVeXFfOWdZY08wQ29OSFhaVTltenVKbXdRaGlOZ0F6cFpKZjF1R2UwSEtNbnNLRWFBOGJ0Y2tWeWFDOUxna2Z5Z2U2cm1Talg1azJkTUcxdTZnbVZLaDduT2p2MXg3MV9xQm5Vcm9ndnZoUDhNX3lCU2hHejRJ,aHR0cHM6Ly9jbS5nLmRvdWJsZWNsaWNrLm5ldC9waXhlbC9hdHRyP2Q9QUhORjEzSUxERmJyY3lDVmw5ZjMyd0RiMm9GOW14Z1JHcDRjN2NBR05oVkNhZWRmclJZTHBxTVcxeDV4SGlEal82WVR1V2d2enFoOA==', 'https://pagead2.googlesyndication.com/pagead/s/cookie_push_onload.html#aHR0cHM6Ly9jbXMucXVhbnRzZXJ2ZS5jb20vZHBpeGVsP2E9cC1uNXZ2THZSZGpnMGVrJmVpZD0wJnFjX2dvb2dsZV9wdXNoPSZnb29nbGVfZ2lkPUNBRVNFRC1WSzc3V0t3ZXFVVWE2RlBsempVVSZnb29nbGVfY3Zlcj0xJmdvb2dsZV9wdXNoPUFRdml0VUxXTkloNXluZ1ZZS01UNUZiM0FTOTNaLWFMb0t3ZVFtTk54WmJISWFNZVNNOThaSm91UFR5RXVNaVFyZ00zT0k0azFXUER1V29zYWFxb0s3Z0dfZC1NT1l3cmZHSUttdmVFTXlwOFVHcWtDUkNoRlhzcWtBemRfdVNPQ2xTd2o4VzlJN0g4TWFVRA==,aHR0cHM6Ly9vZHIubW9va2llMS5jb20vdC92Mi9zeW5jP3RhZ2lkPVYyXzQ1MzEmc3JjLnZpc2l0b3JpZD1DQUVTRUQxRG9CSnZtMDJWMThuNVoySEhfSEkmZ29vZ2xlX3B1c2g9QVF2aXRVS0VVUWFuWmxTZFBYZElFV0VGdmJZMlJsdUZkbmFnWk5mSmg0V09wOEliaVlHaXV4dkFzSUtxck42aVNwSXZvRjR4dFhJN1c0VFZHNzQ3TXlCc20xRFBNS1hhZk9QU0VDV2EwTkRJZjVGUkdIUEtPVHBvRHpsQTlSR21EWFkydXJPMThLcFJrMDNDJmdvb2dsZV9jdmVyPTE=,aHR0cHM6Ly9vZHIubW9va2llMS5jb20vdC92Mi9zeW5jP3RhZ2lkPVYyXzQ1MzAmc3JjLnZpc2l0b3JpZD1DQUVTRURFQXpqQjltMmp3WndXQnhSd09QREkmZ29vZ2xlX2N2ZXI9MSZnb29nbGVfcHVzaD1BUXZpdFVJMXVUdGtjWTk5RURNaFhVVTFtcXhQOEFfakJja0JXVkpXTC0wOXhmZmxQU2JWNVVSWGM0SFVya1pma2NVbWs2azdmNHp2WXBZa0M4N0dYcTFfODFoZGViX0NlbkpHazFYX0pwSzJFR01admpEd0JpRS1NWDg1Q2ZyVW5LY0Y2Q2Q2QVNFY0VGRzc=,aHR0cHM6Ly9ydGIub3BlbngubmV0L3N5bmMvZGRzP2dvb2dsZV9naWQ9Q0FFU0VPcVd6azB5Z2Mxbm9rUE5nYmJhSDVRJmdvb2dsZV9jdmVyPTEmZ29vZ2xlX3B1c2g9QVF2aXRVSThCU181dVNpMzNhbkpUZXZWT2R4UUE0YTF6SmExWXhsZHk5NXllUE5BQy10U2xib1JIODZQLVllYlN0c0NpY2lHVTJiQTJXRlpWd1JUdEtmUDJvTnZ6TFBhSmxtcTM0VlBXd2FiM2JPaWc0Rm9iT3dOc2tUVi02UVlGNFpjQWZNUmRKLWpweWZi,aHR0cHM6Ly9pbWFnZTYucHVibWF0aWMuY29tL0FkU2VydmVyL1VDb29raWVTZXRQdWc_b2lkPTEmcmQ9aHR0cHMlM0ElMkYlMkZjbS5nLmRvdWJsZWNsaWNrLm5ldCUyRnBpeGVsJTNGZ29vZ2xlX25pZCUzRHBtZWIlMjZnb29nbGVfc2MlM0QxJTI2Z29vZ2xlX2htJTNEJTIzJTIzQjY0XzE2Ql9QTV9VSUQlMjZnb29nbGVfcmVkaXIlM0RodHRwcyUyNTI1M0ElMjUyNTJGJTI1MjUyRmltYWdlOC5wdWJtYXRpYy5jb20lMjUyNTJGQWRTZXJ2ZXIlMjUyNTJGSW1nU3luYyUyNTI1M0ZzZWMlMjUyNTNEMSUyNTI1MjZwJTI1MjUzRDE1NjU3OCUyNTI1MjZtcGMlMjUyNTNENCUyNTI1MjZmcCUyNTI1M0QxJTI1MjUyNnB1JTI1MjUzRGh0dHBzJTI1MjUyNTNBJTI1MjUyNTJGJTI1MjUyNTJGaW1hZ2U0LnB1Ym1hdGljLmNvbSUyNTI1MjUyRkFkU2VydmVyJTI1MjUyNTJGU1B1ZyUyNTI1MjUzRnAlMjUyNTI1M0QxNTY1NzglMjUyNTI1MjZzYyUyNTI1MjUzRDEmZ29vZ2xlX2dpZD1DQUVTRUx6WFJsbUgyc3dHaXFBQUVvYXUyVEkmZ29vZ2xlX2N2ZXI9MSZnb29nbGVfcHVzaD1BUXZpdFVJRm42YW5fUlpCbWNadngtRC1PalgyaTBEU2tlRk4wSGo3YldTQ21uTHBpTU8yemwxc2kwZWNwM3VWd3BYQ29MWEZqX0d1akxoV3A5elVnNW1tdWRDbTJoU2pKMzNKWWFXeVlTXy1tc0NZZ29TLTZPUmtIeGpwcGNDMTVIcENmQ0xlMFhDYkFQb1c=,aHR0cHM6Ly9zc3VtLXNlYy5jYXNhbGVtZWRpYS5jb20vdXNlcm1hdGNocmVkaXI_cz0xODQwMjMmY2I9aHR0cHMlM0ElMkYlMkZjbS5nLmRvdWJsZWNsaWNrLm5ldCUyRnBpeGVsJTNGZ29vZ2xlX25pZCUzRGluZGV4JTI2Z29vZ2xlX2htJTNEJmdvb2dsZV9naWQ9Q0FFU0VHVXRmQ1BfM3BaOGhjSGdxakw2cVRZJmdvb2dsZV9jdmVyPTEmZ29vZ2xlX3B1c2g9QVF2aXRVTHVDOWNrZ0xhbnpPTFI1WEsyckdSckN1RTBpLWt0MWdISHBObktudUhNdEE0eXYxUml5OUYwMjllZUtyWmVJQ25HeTBmb2R0cnNqbjN5RmpXNHVGOGk1TjBITGRLY2FQNGpxSnJ4M1MzbFBnT2loenNpdzVKSDZocWR5OFdlOURTRmVYakl5UzFi,aHR0cHM6Ly9jYy5hZGluZ28uanAvYWR4L3B1c2gvP2dvb2dsZV9naWQ9Q0FFU0VDZjBNN1JvdzVGcjY1OTZCYVFtcm9ZJmdvb2dsZV9jdmVyPTEmZ29vZ2xlX3B1c2g9QVF2aXRVS1UxdHZVQTFnaWppU2xoV05XeXNVeXFfOWdZY08wQ29OSFhaVTltenVKbXdRaGlOZ0F6cFpKZjF1R2UwSEtNbnNLRWFBOGJ0Y2tWeWFDOUxna2Z5Z2U2cm1Talg1azJkTUcxdTZnbVZLaDduT2p2MXg3MV9xQm5Vcm9ndnZoUDhNX3lCU2hHejRJ,aHR0cHM6Ly9jbS5nLmRvdWJsZWNsaWNrLm5ldC9waXhlbC9hdHRyP2Q9QUhORjEzSUxERmJyY3lDVmw5ZjMyd0RiMm9GOW14Z1JHcDRjN2NBR05oVkNhZWRmclJZTHBxTVcxeDV4SGlEal82WVR1V2d2enFoOA==', 'https://pagead2.googlesyndication.com/pagead/s/cookie_push_onload.html#aHR0cHM6Ly9jbXMucXVhbnRzZXJ2ZS5jb20vZHBpeGVsP2E9cC1uNXZ2THZSZGpnMGVrJmVpZD0wJnFjX2dvb2dsZV9wdXNoPSZnb29nbGVfZ2lkPUNBRVNFRC1WSzc3V0t3ZXFVVWE2RlBsempVVSZnb29nbGVfY3Zlcj0xJmdvb2dsZV9wdXNoPUFRdml0VUxXTkloNXluZ1ZZS01UNUZiM0FTOTNaLWFMb0t3ZVFtTk54WmJISWFNZVNNOThaSm91UFR5RXVNaVFyZ00zT0k0azFXUER1V29zYWFxb0s3Z0dfZC1NT1l3cmZHSUttdmVFTXlwOFVHcWtDUkNoRlhzcWtBemRfdVNPQ2xTd2o4VzlJN0g4TWFVRA==,aHR0cHM6Ly9vZHIubW9va2llMS5jb20vdC92Mi9zeW5jP3RhZ2lkPVYyXzQ1MzEmc3JjLnZpc2l0b3JpZD1DQUVTRUQxRG9CSnZtMDJWMThuNVoySEhfSEkmZ29vZ2xlX3B1c2g9QVF2aXRVS0VVUWFuWmxTZFBYZElFV0VGdmJZMlJsdUZkbmFnWk5mSmg0V09wOEliaVlHaXV4dkFzSUtxck42aVNwSXZvRjR4dFhJN1c0VFZHNzQ3TXlCc20xRFBNS1hhZk9QU0VDV2EwTkRJZjVGUkdIUEtPVHBvRHpsQTlSR21EWFkydXJPMThLcFJrMDNDJmdvb2dsZV9jdmVyPTE=,aHR0cHM6Ly9vZHIubW9va2llMS5jb20vdC92Mi9zeW5jP3RhZ2lkPVYyXzQ1MzAmc3JjLnZpc2l0b3JpZD1DQUVTRURFQXpqQjltMmp3WndXQnhSd09QREkmZ29vZ2xlX2N2ZXI9MSZnb29nbGVfcHVzaD1BUXZpdFVJMXVUdGtjWTk5RURNaFhVVTFtcXhQOEFfakJja0JXVkpXTC0wOXhmZmxQU2JWNVVSWGM0SFVya1pma2NVbWs2azdmNHp2WXBZa0M4N0dYcTFfODFoZGViX0NlbkpHazFYX0pwSzJFR01admpEd0JpRS1NWDg1Q2ZyVW5LY0Y2Q2Q2QVNFY0VGRzc=,aHR0cHM6Ly9ydGIub3BlbngubmV0L3N5bmMvZGRzP2dvb2dsZV9naWQ9Q0FFU0VPcVd6azB5Z2Mxbm9rUE5nYmJhSDVRJmdvb2dsZV9jdmVyPTEmZ29vZ2xlX3B1c2g9QVF2aXRVSThCU181dVNpMzNhbkpUZXZWT2R4UUE0YTF6SmExWXhsZHk5NXllUE5BQy10U2xib1JIODZQLVllYlN0c0NpY2lHVTJiQTJXRlpWd1JUdEtmUDJvTnZ6TFBhSmxtcTM0VlBXd2FiM2JPaWc0Rm9iT3dOc2tUVi02UVlGNFpjQWZNUmRKLWpweWZi,aHR0cHM6Ly9pbWFnZTYucHVibWF0aWMuY29tL0FkU2VydmVyL1VDb29raWVTZXRQdWc_b2lkPTEmcmQ9aHR0cHMlM0ElMkYlMkZjbS5nLmRvdWJsZWNsaWNrLm5ldCUyRnBpeGVsJTNGZ29vZ2xlX25pZCUzRHBtZWIlMjZnb29nbGVfc2MlM0QxJTI2Z29vZ2xlX2htJTNEJTIzJTIzQjY0XzE2Ql9QTV9VSUQlMjZnb29nbGVfcmVkaXIlM0RodHRwcyUyNTI1M0ElMjUyNTJGJTI1MjUyRmltYWdlOC5wdWJtYXRpYy5jb20lMjUyNTJGQWRTZXJ2ZXIlMjUyNTJGSW1nU3luYyUyNTI1M0ZzZWMlMjUyNTNEMSUyNTI1MjZwJTI1MjUzRDE1NjU3OCUyNTI1MjZtcGMlMjUyNTNENCUyNTI1MjZmcCUyNTI1M0QxJTI1MjUyNnB1JTI1MjUzRGh0dHBzJTI1MjUyNTNBJTI1MjUyNTJGJTI1MjUyNTJGaW1hZ2U0LnB1Ym1hdGljLmNvbSUyNTI1MjUyRkFkU2VydmVyJTI1MjUyNTJGU1B1ZyUyNTI1MjUzRnAlMjUyNTI1M0QxNTY1NzglMjUyNTI1MjZzYyUyNTI1MjUzRDEmZ29vZ2xlX2dpZD1DQUVTRUx6WFJsbUgyc3dHaXFBQUVvYXUyVEkmZ29vZ2xlX2N2ZXI9MSZnb29nbGVfcHVzaD1BUXZpdFVJRm42YW5fUlpCbWNadngtRC1PalgyaTBEU2tlRk4wSGo3YldTQ21uTHBpTU8yemwxc2kwZWNwM3VWd3BYQ29MWEZqX0d1akxoV3A5elVnNW1tdWRDbTJoU2pKMzNKWWFXeVlTXy1tc0NZZ29TLTZPUmtIeGpwcGNDMTVIcENmQ0xlMFhDYkFQb1c=,aHR0cHM6Ly9zc3VtLXNlYy5jYXNhbGVtZWRpYS5jb20vdXNlcm1hdGNocmVkaXI_cz0xODQwMjMmY2I9aHR0cHMlM0ElMkYlMkZjbS5nLmRvdWJsZWNsaWNrLm5ldCUyRnBpeGVsJTNGZ29vZ2xlX25pZCUzRGluZGV4JTI2Z29vZ2xlX2htJTNEJmdvb2dsZV9naWQ9Q0FFU0VHVXRmQ1BfM3BaOGhjSGdxakw2cVRZJmdvb2dsZV9jdmVyPTEmZ29vZ2xlX3B1c2g9QVF2aXRVTHVDOWNrZ0xhbnpPTFI1WEsyckdSckN1RTBpLWt0MWdISHBObktudUhNdEE0eXYxUml5OUYwMjllZUtyWmVJQ25HeTBmb2R0cnNqbjN5RmpXNHVGOGk1TjBITGRLY2FQNGpxSnJ4M1MzbFBnT2loenNpdzVKSDZocWR5OFdlOURTRmVYakl5UzFi,aHR0cHM6Ly9jYy5hZGluZ28uanAvYWR4L3B1c2gvP2dvb2dsZV9naWQ9Q0FFU0VDZjBNN1JvdzVGcjY1OTZCYVFtcm9ZJmdvb2dsZV9jdmVyPTEmZ29vZ2xlX3B1c2g9QVF2aXRVS1UxdHZVQTFnaWppU2xoV05XeXNVeXFfOWdZY08wQ29OSFhaVTltenVKbXdRaGlOZ0F6cFpKZjF1R2UwSEtNbnNLRWFBOGJ0Y2tWeWFDOUxna2Z5Z2U2cm1Talg1azJkTUcxdTZnbVZLaDduT2p2MXg3MV9xQm5Vcm9ndnZoUDhNX3lCU2hHejRJ,aHR0cHM6Ly9jbS5nLmRvdWJsZWNsaWNrLm5ldC9waXhlbC9hdHRyP2Q9QUhORjEzSUxERmJyY3lDVmw5ZjMyd0RiMm9GOW14Z1JHcDRjN2NBR05oVkNhZWRmclJZTHBxTVcxeDV4SGlEal82WVR1V2d2enFoOA==', 'https://www.googletagservices.com/activeview/js/current/rx_lidar.js?cache=r20110914', 'https://tpc.googlesyndication.com/pagead/js/r20210222/r20110914/client/qs_click_protection.js', 'www.google.com/ads/measurement/l?ebcid=ALh7CaRSqwo2Xf2ZYaimYBhDANzcxbqhLJQ8tr-Hd5h15FR_sSjD27w79j0ilObsIRXYri5ExdUHsXZzYgVQV4klavGhVVv7vw', 'https://tpc.googlesyndication.com/pagead/js/r20210222/r20110914/client/one_click_handler_one_afma.js', 'https://pagead2.googlesyndication.com/pagead/gen_204?id=jca&jc=39&version=\\\\', 'pagead2.googlesyndication.com', 'v.top', 'pagead2.googlesyndication.com', 'F.location.host', 'https://googleads.g.doubleclick.net/pagead/html/r20210222/r20190131/zrt_lookup.html#', 'https://googleads.g.doubleclick.net/pagead/html/r20210222/r20190131/zrt_lookup.html#', 'https://googleads.g.doubleclick.net/pagead/html/r20210222/r20190131/zrt_lookup.html?fsb=1#RS-0-&adk=1812271808&client=ca-pub-8878716159434368&fa=8&ifi=5&uci=a!5&xpc=ZgcSTeNVoD&p=https%3A//www.babygames.com', 'https://www.babygames.com//Ariel-Double-Eyelid-Cosmetic-Surgery', 'https://www.babygames.com//Ariel-Double-Eyelid-Cosmetic-Surgery', 'https://www.babygames.com//Ariel-Double-Eyelid-Cosmetic-Surgery']\n"
     ]
    }
   ],
   "source": [
    "from bs4 import BeautifulSoup\n",
    "from urllib.request import Request, urlopen\n",
    "import re\n",
    "from urlextract import URLExtract\n",
    "\n",
    "\n",
    "for file in glob.glob(\"/home/xyzqayyum/Downloads/PATH_DOM/Ariel-Double-Eyelid-Cosmetic-Surgery_babygames.flatteneddom\"):\n",
    "        with open(file) as fp:\n",
    "            print(file)\n",
    "            soup = BeautifulSoup(fp, 'html.parser')\n",
    "            extractor = URLExtract()\n",
    "            ans=extractor. has_urls(soup.text, check_dns=False)\n",
    "            print(ans)\n",
    "            urls = extractor.find_urls(soup.text)\n",
    "            print(urls) # prints: ['example.com']\n",
    "            \n",
    "            "
   ]
  },
  {
   "cell_type": "code",
   "execution_count": 20,
   "metadata": {},
   "outputs": [
    {
     "name": "stdout",
     "output_type": "stream",
     "text": [
      "w3.org\n",
      "babygames.com\n",
      "googlesyndication.com\n",
      "2mdn.net\n",
      "googleadservices.com\n",
      "googletagmanager.com\n",
      "googleadservices.com\n",
      "googletagservices.com\n",
      "googleadservices.com\n",
      "wrong url !!!!!! \n",
      "www.google-analytics.com/analytics.js\n",
      "googlesyndication.com\n",
      "wrong url !!!!!! \n",
      "pagead2.googlesyndication.com/pagead/js/adsbygoogle.js\n",
      "google.com.au\n",
      "google.com.au\n",
      "google.com\n",
      "google.com\n",
      "doubleclick.net\n",
      "googleadservices.com\n",
      "googleadservices.com\n",
      "google.com.au\n",
      "google.com.au\n",
      "google.com\n",
      "google.com\n",
      "doubleclick.net\n",
      "googleadservices.com\n",
      "googleadservices.com\n",
      "google.com.au\n",
      "google.com.au\n",
      "google.com\n",
      "google.com\n",
      "wrong url !!!!!! \n",
      "BabyGames.Com\n",
      "babygames.com\n",
      "doubleclick.net\n",
      "wrong url !!!!!! \n",
      "imasdk.googleapis.com/js/sdkloader/ima3.js\n",
      "schema.org\n",
      "googlesyndication.com\n",
      "doubleclick.net\n",
      "doubleclick.net\n",
      "doubleclick.net\n",
      "imasdk.googleapis.com\n",
      "doubleclick.net\n",
      "doubleclick.net\n",
      "imasdk.googleapis.com\n",
      "imasdk.googleapis.com\n",
      "googlesyndication.com\n",
      "babygames.com\n",
      "babygames.com\n",
      "2mdn.net\n",
      "yyggames.com\n",
      "wrong url !!!!!! \n",
      "www.babygames.com/Ariel-Double-Eyelid-Cosmetic-Surgery\n",
      "imasdk.googleapis.com\n",
      "wrong url !!!!!! \n",
      "www.babygames.com/forgame/relatedgames.js\n",
      "wrong url !!!!!! \n",
      "www.babygames.com/forgame/functions.js\n",
      "imasdk.googleapis.com\n",
      "doubleclick.net\n",
      "doubleclick.net\n",
      "imasdk.googleapis.com\n",
      "imasdk.googleapis.com\n",
      "googlesyndication.com\n",
      "babygames.com\n",
      "babygames.com\n",
      "babygames.com\n",
      "babygames.com\n",
      "googlesyndication.com\n",
      "doubleclick.net\n",
      "fonts.googleapis.com\n",
      "doubleclick.net\n",
      "wrong url !!!!!! \n",
      "drting.com.au\n",
      "wrong url !!!!!! \n",
      "drting.com.au\n",
      "doubleclick.net\n",
      "wrong url !!!!!! \n",
      "drting.com.au\n",
      "doubleclick.net\n",
      "wrong url !!!!!! \n",
      "drting.com.au\n",
      "doubleclick.net\n",
      "doubleclick.net\n",
      "wrong url !!!!!! \n",
      "drting.com.au\n",
      "googlesyndication.com\n",
      "doubleclick.net\n",
      "doubleclick.net\n",
      "googlesyndication.com\n",
      "doubleclick.net\n",
      "w3.org\n",
      "w3.org\n",
      "w3.org\n",
      "w3.org\n",
      "w3.org\n",
      "w3.org\n",
      "google.com\n",
      "w3.org\n",
      "w3.org\n",
      "googlesyndication.com\n",
      "doubleclick.net\n",
      "doubleclick.net\n",
      "doubleclick.net\n",
      "doubleclick.net\n",
      "doubleclick.net\n",
      "google.com\n",
      "doubleclick.net\n",
      "doubleclick.net\n",
      "gstatic.com\n",
      "doubleclick.net\n",
      "gstatic.com\n",
      "google.com\n",
      "google.com\n",
      "doubleclick.net\n",
      "doubleclick.net\n",
      "doubleclick.net\n",
      "googlesyndication.com\n",
      "doubleclick.net\n",
      "googlesyndication.com\n",
      "googlesyndication.com\n",
      "googlesyndication.com\n",
      "googletagservices.com\n",
      "googlesyndication.com\n",
      "gstatic.com\n",
      "doubleclick.net\n",
      "doubleclick.net\n",
      "googlesyndication.com\n",
      "doubleclick.net\n",
      "googlesyndication.com\n",
      "doubleclick.net\n",
      "googlesyndication.com\n",
      "googlesyndication.com\n",
      "googlesyndication.com\n",
      "googletagservices.com\n",
      "googlesyndication.com\n",
      "wrong url !!!!!! \n",
      "www.google.com/ads/measurement/l?ebcid=ALh7CaRSqwo2Xf2ZYaimYBhDANzcxbqhLJQ8tr-Hd5h15FR_sSjD27w79j0ilObsIRXYri5ExdUHsXZzYgVQV4klavGhVVv7vw\n",
      "googlesyndication.com\n",
      "googlesyndication.com\n",
      "wrong url !!!!!! \n",
      "pagead2.googlesyndication.com\n",
      "wrong url !!!!!! \n",
      "v.top\n",
      "wrong url !!!!!! \n",
      "pagead2.googlesyndication.com\n",
      "wrong url !!!!!! \n",
      "F.location.host\n",
      "doubleclick.net\n",
      "doubleclick.net\n",
      "doubleclick.net\n",
      "babygames.com\n",
      "babygames.com\n",
      "babygames.com\n"
     ]
    }
   ],
   "source": [
    "wrong=[]\n",
    "for i in urls:\n",
    "    try:\n",
    "        print(get_fld(i))\n",
    "    except:\n",
    "        print(\"wrong url !!!!!! \")\n",
    "        print(i)\n",
    "        wrong.append(i)\n",
    "        \n",
    "        continue"
   ]
  },
  {
   "cell_type": "code",
   "execution_count": 37,
   "metadata": {},
   "outputs": [
    {
     "data": {
      "text/plain": [
       "['www.google-analytics.com/analytics.js',\n",
       " 'pagead2.googlesyndication.com/pagead/js/adsbygoogle.js',\n",
       " 'BabyGames.Com',\n",
       " 'imasdk.googleapis.com/js/sdkloader/ima3.js',\n",
       " 'www.babygames.com/Ariel-Double-Eyelid-Cosmetic-Surgery',\n",
       " 'www.babygames.com/forgame/relatedgames.js',\n",
       " 'www.babygames.com/forgame/functions.js',\n",
       " 'drting.com.au',\n",
       " 'drting.com.au',\n",
       " 'drting.com.au',\n",
       " 'drting.com.au',\n",
       " 'drting.com.au',\n",
       " 'www.google.com/ads/measurement/l?ebcid=ALh7CaRSqwo2Xf2ZYaimYBhDANzcxbqhLJQ8tr-Hd5h15FR_sSjD27w79j0ilObsIRXYri5ExdUHsXZzYgVQV4klavGhVVv7vw',\n",
       " 'pagead2.googlesyndication.com',\n",
       " 'v.top',\n",
       " 'pagead2.googlesyndication.com',\n",
       " 'F.location.host']"
      ]
     },
     "execution_count": 37,
     "metadata": {},
     "output_type": "execute_result"
    }
   ],
   "source": [
    "wrong"
   ]
  },
  {
   "cell_type": "code",
   "execution_count": 72,
   "metadata": {},
   "outputs": [
    {
     "name": "stdout",
     "output_type": "stream",
     "text": [
      "['www.google-analytics.com/analytics.js']\n",
      "[]\n",
      "[]\n",
      "[]\n",
      "[]\n",
      "[]\n",
      "[]\n",
      "[]\n",
      "[]\n",
      "[]\n",
      "[]\n",
      "[]\n",
      "['www.babygames.com/Ariel-Double-Eyelid-Cosmetic-Surgery']\n",
      "[]\n",
      "[]\n",
      "['www.babygames.com/forgame/relatedgames.js']\n",
      "[]\n",
      "[]\n",
      "['www.babygames.com/forgame/functions.js']\n",
      "[]\n",
      "[]\n",
      "[]\n",
      "[]\n",
      "['drting.com.au']\n",
      "[]\n",
      "[]\n",
      "['drting.com.au']\n",
      "[]\n",
      "[]\n",
      "['drting.com.au']\n",
      "[]\n",
      "[]\n",
      "['drting.com.au']\n",
      "[]\n",
      "[]\n",
      "['drting.com.au']\n",
      "['www.google.com/ads/measurement/l?ebcid=ALh7CaRSqwo2Xf2ZYaimYBhDANzcxbqhLJQ8tr-Hd5h15FR_sSjD27w79j0ilObsIRXYri5ExdUHsXZzYgVQV4klavGhVVv7vw']\n",
      "[]\n",
      "[]\n",
      "[]\n",
      "['pagead2.googlesyndication.com']\n",
      "[]\n",
      "[]\n",
      "[]\n",
      "[]\n",
      "[]\n",
      "['pagead2.googlesyndication.com']\n",
      "[]\n",
      "[]\n",
      "[]\n",
      "[]\n"
     ]
    }
   ],
   "source": [
    "from string import ascii_letters\n",
    "for wr in wrong:\n",
    "#     print(wr)\n",
    "    \n",
    "    links = [x for x in wr.split() if x.strip(str(set(x) - set(ascii_letters))).startswith('www')]\n",
    "    links2 = [x for x in wr.split() if x.strip(str(set(x) - set(ascii_letters))).endswith('com')]\n",
    "    links3 = [x for x in wr.split() if x.strip(str(set(x) - set(ascii_letters))) if \"au\" in wr]\n",
    "    print(links)\n",
    "    print(links2)\n",
    "    print(links3)"
   ]
  },
  {
   "cell_type": "code",
   "execution_count": null,
   "metadata": {},
   "outputs": [],
   "source": []
  },
  {
   "cell_type": "code",
   "execution_count": null,
   "metadata": {},
   "outputs": [],
   "source": []
  },
  {
   "cell_type": "code",
   "execution_count": null,
   "metadata": {},
   "outputs": [],
   "source": []
  },
  {
   "cell_type": "code",
   "execution_count": null,
   "metadata": {},
   "outputs": [],
   "source": []
  },
  {
   "cell_type": "markdown",
   "metadata": {},
   "source": [
    "# FUNCTION"
   ]
  },
  {
   "cell_type": "code",
   "execution_count": null,
   "metadata": {},
   "outputs": [],
   "source": [
    "#path = \"/home/xyzqayyum/Downloads/new/PATH_DOM/*.flatteneddom\" \n",
    "def extract_sld(path):\n",
    "    from bs4 import BeautifulSoup\n",
    "    import glob\n",
    "    from tld import get_tld, get_fld\n",
    "    import pandas as pd\n",
    "    txtfiles = []\n",
    "    wrong_urllist=[]\n",
    "    lst=[]\n",
    "    dic={}\n",
    "    for file in glob.glob(path):\n",
    "        try:\n",
    "            MP=file.split('_',2)[2].split('.',1)[0]\n",
    "            with open(file) as fp:\n",
    "                soup = BeautifulSoup(fp, 'html.parser')\n",
    "                for link in soup.find_all('a'):\n",
    "                    url=link.get('href')\n",
    "#                     print(url)\n",
    "                    turl=url.lstrip('\"')[2:-1]\n",
    "                    print(turl)\n",
    "                    tld=get_fld(turl)\n",
    "                    print(tld)\n",
    "                    dic={\"MP\":MP,\"game_url\":turl,\"sld\":tld}\n",
    "                    lst.append(dic)\n",
    "                    \n",
    "        except:\n",
    "            print('This url has wrong format : ' +url)\n",
    "            wrong_urllist.append(url)\n",
    "    print(\"printing results !\")\n",
    "    df=pd.DataFrame(lst)\n",
    "    df.to_csv(\"sldtest.csv\",index=False)\n",
    "    df2=pd.DataFrame(wrong_urllist)\n",
    "    df2.to_csv(\"urls cannot be resolved.txt\",index=False)"
   ]
  },
  {
   "cell_type": "code",
   "execution_count": 1,
   "metadata": {},
   "outputs": [
    {
     "ename": "NameError",
     "evalue": "name 'extract_sld' is not defined",
     "output_type": "error",
     "traceback": [
      "\u001b[0;31m--------------------------------------------------------------------------\u001b[0m",
      "\u001b[0;31mNameError\u001b[0m                                Traceback (most recent call last)",
      "\u001b[0;32m<ipython-input-1-63fe59c9fa70>\u001b[0m in \u001b[0;36m<module>\u001b[0;34m\u001b[0m\n\u001b[0;32m----> 1\u001b[0;31m \u001b[0mextract_sld\u001b[0m\u001b[0;34m(\u001b[0m\u001b[0;34m\"/home/xyzqayyum/Downloads/new/PATH_DOM/*.flatteneddom\"\u001b[0m\u001b[0;34m)\u001b[0m\u001b[0;34m\u001b[0m\u001b[0;34m\u001b[0m\u001b[0m\n\u001b[0m",
      "\u001b[0;31mNameError\u001b[0m: name 'extract_sld' is not defined"
     ]
    }
   ],
   "source": [
    "extract_sld(\"/home/xyzqayyum/Downloads/new/PATH_DOM/*.flatteneddom\")"
   ]
  },
  {
   "cell_type": "code",
   "execution_count": null,
   "metadata": {},
   "outputs": [],
   "source": []
  },
  {
   "cell_type": "code",
   "execution_count": null,
   "metadata": {},
   "outputs": [],
   "source": []
  },
  {
   "cell_type": "code",
   "execution_count": null,
   "metadata": {},
   "outputs": [],
   "source": []
  },
  {
   "cell_type": "code",
   "execution_count": null,
   "metadata": {},
   "outputs": [],
   "source": []
  },
  {
   "cell_type": "code",
   "execution_count": null,
   "metadata": {},
   "outputs": [],
   "source": []
  }
 ],
 "metadata": {
  "kernelspec": {
   "display_name": "Python 3",
   "language": "python",
   "name": "python3"
  },
  "language_info": {
   "codemirror_mode": {
    "name": "ipython",
    "version": 3
   },
   "file_extension": ".py",
   "mimetype": "text/x-python",
   "name": "python",
   "nbconvert_exporter": "python",
   "pygments_lexer": "ipython3",
   "version": "3.8.10"
  }
 },
 "nbformat": 4,
 "nbformat_minor": 4
}
