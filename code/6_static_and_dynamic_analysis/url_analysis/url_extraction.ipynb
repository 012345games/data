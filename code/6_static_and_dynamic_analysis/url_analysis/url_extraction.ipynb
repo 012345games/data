{
 "cells": [
  {
   "cell_type": "code",
   "execution_count": 1,
   "id": "12b27903",
   "metadata": {
    "ExecuteTime": {
     "end_time": "2022-12-20T23:53:11.241679Z",
     "start_time": "2022-12-20T23:53:10.861455Z"
    }
   },
   "outputs": [],
   "source": [
    "import pandas as pd\n",
    "import glob\n",
    "from bs4 import BeautifulSoup\n",
    "import re\n",
    "import tqdm"
   ]
  },
  {
   "cell_type": "raw",
   "id": "db6ae597",
   "metadata": {
    "ExecuteTime": {
     "end_time": "2022-12-20T23:52:12.783946Z",
     "start_time": "2022-12-20T23:52:12.703118Z"
    }
   },
   "source": [
    "yupi.io\n",
    "yourgames.io\n",
    "mousebreaker.com\n",
    "bestgames.com\n",
    "yad.com\n",
    "babygames.com\n",
    "iogame.app\n",
    "friv.com\n",
    "webgameapp.com\n",
    "poki.com\n",
    "gameflare.com\n",
    "ufreegames.com\n",
    "miniclip.com\n",
    "coolmathgames.com\n",
    "kibagames.com\n",
    "spiels.at\n",
    "addictinggames.com\n",
    "crazygames.com\n",
    "vseigru.net\n",
    "fukgames.com\n",
    "y8.com\n",
    "itch.io"
   ]
  },
  {
   "cell_type": "code",
   "execution_count": 7,
   "id": "83c2d2b5",
   "metadata": {
    "ExecuteTime": {
     "end_time": "2022-12-21T00:05:10.869634Z",
     "start_time": "2022-12-21T00:05:10.846281Z"
    }
   },
   "outputs": [],
   "source": [
    "def gamename_checker(file_path):\n",
    "    return(file_path.split(\"PATH_DOM/\",1)[1].split(\".flatteneddom\",1)[0])\n",
    "    \n",
    "def mp_checker(file_path):\n",
    "    if \"yupi\" in file_path:\n",
    "        mp = 'yupi.io'\n",
    "    if \"yourgames\" in file_path:\n",
    "        mp = 'yourgames.io'\n",
    "    if \"mousebreaker\" in file_path:\n",
    "        mp = \"mousebreaker.com\"\n",
    "    if \"bestgames\" in file_path:\n",
    "        mp = \"bestgames.com\"\n",
    "    if \"yad\" in file_path:\n",
    "        mp = \"yad.com\"\n",
    "    if \"babygames\" in file_path:\n",
    "        mp = \"babygames.com\"\n",
    "    if  \"iogame\" in file_path:\n",
    "        mp = \"iogame.app\"\n",
    "    if \"friv\" in file_path:\n",
    "        mp = \"friv.com\"\n",
    "    if \"webgameapp\" in file_path:\n",
    "        mp = \"webgameapp.com\"\n",
    "    if \"poki\" in file_path:\n",
    "        mp = \"poki.com\"\n",
    "    if \"ufreegames\" in file_path:\n",
    "        mp = \"ufreegames.com\"\n",
    "    if \"miniclip\" in file_path:\n",
    "        mp = \"miniclip.com\"\n",
    "    if \"coolmathgames\" in file_path:\n",
    "        mp = \"coolmathgames.com\"\n",
    "    if \"kibagames\" in file_path:\n",
    "        mp = \"kibagames.com\"\n",
    "    if \"spiels\" in file_path:\n",
    "        mp = \"spiels.at\"\n",
    "    if \"addictinggames\" in file_path:\n",
    "        mp = \"addictinggames.com\"\n",
    "    if \"crazygames\" in file_path:\n",
    "        mp = \"crazygames.com\"\n",
    "    if \"vseigru\" in file_path:\n",
    "        mp = \"vseigru.net\"\n",
    "    if \"fukgames\" in file_path:\n",
    "        mp = \"fukgames.com\"\n",
    "    if \"y8\" in file_path:\n",
    "        mp = \"y8.com\"\n",
    "    if \"itch\" in file_path:\n",
    "        mp = \"itch.io\"\n",
    "    return(mp)\n",
    "\n",
    "    \n",
    "def dom_url_checker(file_path):\n",
    "    try:\n",
    "        with open(file_path) as fp:\n",
    "            game = file_path.split(\"/\",4)[4].split(\".\",1)[0]\n",
    "            raw_soup = BeautifulSoup(fp, 'html.parser')\n",
    "            soup = str(raw_soup)\n",
    "            urls = re.findall(r'(http.*?)\"', soup)\n",
    "\n",
    "        return(urls)\n",
    "    except:\n",
    "        pass\n",
    "\n",
    "\n",
    "def static_script_url_checker(file_path):\n",
    "    try:\n",
    "        game = file_path.split(\"PATH_DOM/\",1)[1].split(\".flatteneddom\",1)[0]\n",
    "        folder = glob.glob(f\"/data/iogames_data/PATH_STATIC_SCRIPT/{game}\")\n",
    "        folder = folder[0]\n",
    "        all_folders = glob.glob(f\"{folder}/*\")\n",
    "        all_folders\n",
    "        url_list = []\n",
    "        for f in all_folders:\n",
    "            with open(f) as fp:\n",
    "                raw_soup = BeautifulSoup(fp, 'html.parser')\n",
    "                soup = str(raw_soup)\n",
    "                urls = re.findall(r'(http.*?)\"', soup)\n",
    "                url_list.extend(urls)\n",
    "        return(url_list)\n",
    "    except:\n",
    "        pass\n",
    "        \n",
    "\n",
    "def dynamic_script_url_checker(file_path):\n",
    "    try:\n",
    "        urls = []\n",
    "        game = file_path.split(\"PATH_DOM/\",1)[1].split(\".flatteneddom\",1)[0]\n",
    "        folder = glob.glob(f\"/data/iogames_data/PATH_DYNAMIC_SCRIPT/{game}\")\n",
    "        folder = folder[0]\n",
    "        all_folders = glob.glob(f\"{folder}/*\")\n",
    "        all_folders\n",
    "        for f in all_folders:\n",
    "        #     print(f)\n",
    "            with open(f) as fp:\n",
    "                raw_soup = BeautifulSoup(fp, 'html.parser')\n",
    "                soup = str(raw_soup)\n",
    "                urls.extend(re.findall(r'(http.*?)\"', soup))\n",
    "        return(urls)\n",
    "    except:\n",
    "        pass\n",
    "\n",
    "def parse_reqtrace(trace):   \n",
    "    # requests sent to a server by a game through http\n",
    "    REQ_TRACE = trace\n",
    "    urls = []\n",
    "    for line in open(REQ_TRACE):\n",
    "        if '\"url\":' in line:\n",
    "            urls.append(line.split(': \"')[1].split('\"')[0]) # make set of requests\n",
    "    return(urls)\n",
    "def parse_restrace(trace):    \n",
    "    # response sent by a server by a game by \n",
    "    RES_TRACE = trace\n",
    "    urls = []\n",
    "    for line in open(RES_TRACE):\n",
    "        if '\"url\":' in line:\n",
    "            urls.append(line.split(': \"')[1].split('\"')[0]) # make set of requests\n",
    "    return(urls)\n",
    "def parse_wstrace(trace):    \n",
    "    # requests sent to a websocket server by a game\n",
    "    RES_TRACE = trace\n",
    "    urls = []\n",
    "    for line in open(RES_TRACE):\n",
    "        if '\"url\":' in line:\n",
    "            urls.append(line.split(': \"')[1].split('\"')[0]) # make set of requests\n",
    "    return(urls)\n",
    "\n",
    "def trace_url_checker(file_path):\n",
    "    try:\n",
    "        game = file_path.split(\"PATH_DOM/\",1)[1].split(\".flatteneddom\",1)[0]\n",
    "        folder = glob.glob(f\"/data/iogames_data/PATH_TRACING/{game}\")\n",
    "        folder = folder[0]\n",
    "        all_folders = glob.glob(f\"{folder}/*\")\n",
    "\n",
    "        ws_urls = []\n",
    "        req_urls = []\n",
    "        res_urls = []\n",
    "\n",
    "        for file in all_folders:\n",
    "            if \"wstrace\" in file:\n",
    "                fs = glob.glob(f\"{file}/*.*\")\n",
    "                ws_urls.extend(parse_wsqtrace(file))\n",
    "            if \"reqtrace\" in file:\n",
    "                fs = glob.glob(f\"{file}/*.*\")\n",
    "                req_urls.extend(parse_reqtrace(file))\n",
    "            if \"restrace\" in file:\n",
    "                fs = glob.glob(f\"{file}/*.*\")\n",
    "                res_urls.extend(parse_restrace(file)) \n",
    "        return(ws_urls, req_urls, res_urls)\n",
    "    except:\n",
    "        pass"
   ]
  },
  {
   "cell_type": "raw",
   "id": "c993a5a2",
   "metadata": {},
   "source": [
    "# I TOOK THE GAMES FROM DOM AND THEN CHECK ALL THE FOLDERS THE URLS FROM THE DOM IN THIS PART"
   ]
  },
  {
   "cell_type": "code",
   "execution_count": 13,
   "id": "d6a179e6",
   "metadata": {
    "ExecuteTime": {
     "end_time": "2022-12-21T00:09:04.160841Z",
     "start_time": "2022-12-21T00:09:04.158336Z"
    }
   },
   "outputs": [],
   "source": [
    "# # real code\n",
    "# file_paths = glob.glob(\"/data/iogames_data/PATH_DOM/*.*\")\n",
    "# print(\"Total games in dom:\", len(file_paths))\n",
    "# L=[]\n",
    "# for file_path in tqdm.tqdm(file_paths):\n",
    "# #     print(file_path)\n",
    "#     d= {\"mp\":mp_checker(file_path),\n",
    "#         \"game\":gamename_checker(file_path),\n",
    "#         \"dom_urls\":dom_url_checker(file_path),\n",
    "#         \"static_urls\":static_script_url_checker(file_path),\n",
    "#         \"dynamic_urls\":dynamic_script_url_checker(file_path),\n",
    "#         \"networktrace_urls\":trace_url_checker(file_path)\n",
    "#        }\n",
    "#     L.append(d)\n",
    "#     with open('url_results.csv', 'a+') as f:\n",
    "#         print(d, file=f)\n",
    "# pd.DataFrame(L).to_csv(\"url_results.csv\",index = False)"
   ]
  },
  {
   "cell_type": "markdown",
   "id": "6355cd8e",
   "metadata": {},
   "source": [
    "# read the results and proceess "
   ]
  },
  {
   "cell_type": "code",
   "execution_count": 17,
   "id": "955de49a",
   "metadata": {
    "ExecuteTime": {
     "end_time": "2022-12-21T00:11:20.082575Z",
     "start_time": "2022-12-21T00:11:20.066540Z"
    }
   },
   "outputs": [
    {
     "data": {
      "text/html": [
       "<div>\n",
       "<style scoped>\n",
       "    .dataframe tbody tr th:only-of-type {\n",
       "        vertical-align: middle;\n",
       "    }\n",
       "\n",
       "    .dataframe tbody tr th {\n",
       "        vertical-align: top;\n",
       "    }\n",
       "\n",
       "    .dataframe thead th {\n",
       "        text-align: right;\n",
       "    }\n",
       "</style>\n",
       "<table border=\"1\" class=\"dataframe\">\n",
       "  <thead>\n",
       "    <tr style=\"text-align: right;\">\n",
       "      <th></th>\n",
       "      <th>mp</th>\n",
       "      <th>game</th>\n",
       "      <th>dom_urls</th>\n",
       "      <th>static_urls</th>\n",
       "      <th>dynamic_urls</th>\n",
       "      <th>networktrace_urls</th>\n",
       "    </tr>\n",
       "  </thead>\n",
       "  <tbody>\n",
       "    <tr>\n",
       "      <th>0</th>\n",
       "      <td>itch.io</td>\n",
       "      <td>monster-garden_itch_iframe</td>\n",
       "      <td>['http-equiv', 'https://static.itch.io/htmlgam...</td>\n",
       "      <td>['https?:\\\\\\\\/\\\\\\\\/commondatastorage\\\\\\\\.googl...</td>\n",
       "      <td>['https?:\\\\\\\\/\\\\\\\\/commondatastorage\\\\\\\\.googl...</td>\n",
       "      <td>NaN</td>\n",
       "    </tr>\n",
       "    <tr>\n",
       "      <th>1</th>\n",
       "      <td>itch.io</td>\n",
       "      <td>interview-simulator_itch</td>\n",
       "      <td>['https://static.itch.io/main.css?1659724556',...</td>\n",
       "      <td>['https://www.google.com/recaptcha/api.js?onlo...</td>\n",
       "      <td>['https?|mailto|ftp):|[^:/?#]*(?:[/?#]|$))/i;/...</td>\n",
       "      <td>NaN</td>\n",
       "    </tr>\n",
       "  </tbody>\n",
       "</table>\n",
       "</div>"
      ],
      "text/plain": [
       "        mp                        game  \\\n",
       "0  itch.io  monster-garden_itch_iframe   \n",
       "1  itch.io    interview-simulator_itch   \n",
       "\n",
       "                                            dom_urls  \\\n",
       "0  ['http-equiv', 'https://static.itch.io/htmlgam...   \n",
       "1  ['https://static.itch.io/main.css?1659724556',...   \n",
       "\n",
       "                                         static_urls  \\\n",
       "0  ['https?:\\\\\\\\/\\\\\\\\/commondatastorage\\\\\\\\.googl...   \n",
       "1  ['https://www.google.com/recaptcha/api.js?onlo...   \n",
       "\n",
       "                                        dynamic_urls  networktrace_urls  \n",
       "0  ['https?:\\\\\\\\/\\\\\\\\/commondatastorage\\\\\\\\.googl...                NaN  \n",
       "1  ['https?|mailto|ftp):|[^:/?#]*(?:[/?#]|$))/i;/...                NaN  "
      ]
     },
     "execution_count": 17,
     "metadata": {},
     "output_type": "execute_result"
    }
   ],
   "source": [
    "pd.read_csv(\"url_results.csv\",nrows = 2)"
   ]
  },
  {
   "cell_type": "code",
   "execution_count": null,
   "id": "b750698b",
   "metadata": {
    "ExecuteTime": {
     "start_time": "2022-12-21T00:11:20.812Z"
    }
   },
   "outputs": [],
   "source": [
    "df = pd.read_csv(\"url_results.csv\")['mp']\n",
    "df"
   ]
  },
  {
   "cell_type": "code",
   "execution_count": null,
   "id": "4af8fb43",
   "metadata": {
    "ExecuteTime": {
     "start_time": "2022-12-21T00:11:23.669Z"
    }
   },
   "outputs": [],
   "source": [
    "set(df.to_list())"
   ]
  },
  {
   "cell_type": "code",
   "execution_count": null,
   "id": "eb8730ec",
   "metadata": {
    "ExecuteTime": {
     "end_time": "2022-12-10T14:17:06.907968Z",
     "start_time": "2022-12-10T14:17:06.895219Z"
    }
   },
   "outputs": [],
   "source": [
    "import pandas as pd\n",
    "df = pd.read_csv(\"url_results.csv\",nrows= 1)\n",
    "for index, row in df.iterrows():\n",
    "    print(row)\n",
    "#     print(row['dom_urls'])\n",
    "#     print(row['networktrace_urls'])"
   ]
  },
  {
   "cell_type": "code",
   "execution_count": null,
   "id": "2cb3a615",
   "metadata": {
    "ExecuteTime": {
     "end_time": "2022-10-31T13:19:47.543618Z",
     "start_time": "2022-10-31T13:19:47.524159Z"
    }
   },
   "outputs": [],
   "source": [
    "df"
   ]
  },
  {
   "cell_type": "markdown",
   "id": "3cf479d3",
   "metadata": {},
   "source": [
    "# Divide the bog file into marketplaces"
   ]
  },
  {
   "cell_type": "code",
   "execution_count": null,
   "id": "ab61aa60",
   "metadata": {
    "ExecuteTime": {
     "end_time": "2022-10-31T14:25:20.873801Z",
     "start_time": "2022-10-31T14:18:28.027651Z"
    }
   },
   "outputs": [],
   "source": [
    "import pandas as pd\n",
    "df = pd.read_csv(\"url_results.csv\")"
   ]
  },
  {
   "cell_type": "code",
   "execution_count": null,
   "id": "813f77b4",
   "metadata": {
    "ExecuteTime": {
     "end_time": "2022-10-31T14:25:20.921238Z",
     "start_time": "2022-10-31T14:25:20.878067Z"
    }
   },
   "outputs": [],
   "source": [
    "df"
   ]
  },
  {
   "cell_type": "code",
   "execution_count": null,
   "id": "1c5f7a5c",
   "metadata": {
    "ExecuteTime": {
     "end_time": "2022-10-31T14:26:26.882666Z",
     "start_time": "2022-10-31T14:26:26.869891Z"
    }
   },
   "outputs": [],
   "source": [
    "df['mp'].unique()"
   ]
  },
  {
   "cell_type": "code",
   "execution_count": null,
   "id": "20ef9173",
   "metadata": {
    "ExecuteTime": {
     "end_time": "2022-10-31T14:33:01.186102Z",
     "start_time": "2022-10-31T14:30:00.559123Z"
    }
   },
   "outputs": [],
   "source": [
    "df[df['mp']=='itch.io'].to_csv(\"itch.csv\",index = False)"
   ]
  },
  {
   "cell_type": "code",
   "execution_count": null,
   "id": "81ad0a41",
   "metadata": {
    "ExecuteTime": {
     "end_time": "2022-10-31T14:33:52.468929Z",
     "start_time": "2022-10-31T14:33:01.188214Z"
    }
   },
   "outputs": [],
   "source": [
    "df[df['mp']=='crazygames.com'].to_csv(\"crazygames.csv\",index = False)"
   ]
  },
  {
   "cell_type": "code",
   "execution_count": null,
   "id": "94bdd112",
   "metadata": {
    "ExecuteTime": {
     "end_time": "2022-10-31T14:40:40.258045Z",
     "start_time": "2022-10-31T14:33:52.471210Z"
    }
   },
   "outputs": [],
   "source": [
    "df[df['mp']=='y8.com'].to_csv(\"y8.csv\",index = False)"
   ]
  },
  {
   "cell_type": "code",
   "execution_count": null,
   "id": "ad087913",
   "metadata": {
    "ExecuteTime": {
     "end_time": "2022-10-31T14:41:47.802616Z",
     "start_time": "2022-10-31T14:40:40.260108Z"
    }
   },
   "outputs": [],
   "source": [
    "df[df['mp']=='kibagames.com'].to_csv(\"kibagames.csv\",index = False)"
   ]
  },
  {
   "cell_type": "code",
   "execution_count": null,
   "id": "e1d5b8df",
   "metadata": {
    "ExecuteTime": {
     "end_time": "2022-10-31T14:42:26.122184Z",
     "start_time": "2022-10-31T14:42:06.928690Z"
    }
   },
   "outputs": [],
   "source": [
    "df[df['mp']=='spiels.at'].to_csv(\"spiels.csv\",index = False)"
   ]
  },
  {
   "cell_type": "code",
   "execution_count": null,
   "id": "1229bd10",
   "metadata": {
    "ExecuteTime": {
     "end_time": "2022-10-31T14:43:10.034920Z",
     "start_time": "2022-10-31T14:42:26.123875Z"
    }
   },
   "outputs": [],
   "source": [
    "df[df['mp']=='coolmathgames.com'].to_csv(\"coolmathgames.csv\",index = False)"
   ]
  },
  {
   "cell_type": "code",
   "execution_count": null,
   "id": "e53f233c",
   "metadata": {
    "ExecuteTime": {
     "end_time": "2022-10-31T14:43:28.803428Z",
     "start_time": "2022-10-31T14:43:10.037575Z"
    }
   },
   "outputs": [],
   "source": [
    "df[df['mp']=='addictinggames.com'].to_csv(\"addictinggames.csv\",index = False)"
   ]
  },
  {
   "cell_type": "code",
   "execution_count": null,
   "id": "beb5f98a",
   "metadata": {
    "ExecuteTime": {
     "end_time": "2022-10-31T14:46:34.963510Z",
     "start_time": "2022-10-31T14:43:28.805400Z"
    }
   },
   "outputs": [],
   "source": [
    "df[df['mp']=='vseigru.net'].to_csv(\"vseigru.csv\",index = False)"
   ]
  },
  {
   "cell_type": "code",
   "execution_count": null,
   "id": "44b77c42",
   "metadata": {
    "ExecuteTime": {
     "end_time": "2022-10-31T14:46:40.478462Z",
     "start_time": "2022-10-31T14:46:34.965286Z"
    }
   },
   "outputs": [],
   "source": [
    "df[df['mp']=='fukgames.com'].to_csv(\"fukgames.csv\",index = False)"
   ]
  },
  {
   "cell_type": "code",
   "execution_count": null,
   "id": "33e36dd9",
   "metadata": {
    "ExecuteTime": {
     "end_time": "2022-10-31T14:46:43.934023Z",
     "start_time": "2022-10-31T14:46:40.480187Z"
    }
   },
   "outputs": [],
   "source": [
    "df[df['mp']=='miniclip.com'].to_csv(\"miniclip.csv\",index = False)"
   ]
  },
  {
   "cell_type": "code",
   "execution_count": null,
   "id": "7ac43a53",
   "metadata": {
    "ExecuteTime": {
     "end_time": "2022-10-31T14:46:49.759081Z",
     "start_time": "2022-10-31T14:46:43.935704Z"
    }
   },
   "outputs": [],
   "source": [
    "df[df['mp']=='webgameapp.com'].to_csv(\"webgameapp.csv\",index = False)"
   ]
  },
  {
   "cell_type": "code",
   "execution_count": null,
   "id": "e6b9e188",
   "metadata": {
    "ExecuteTime": {
     "end_time": "2022-10-31T14:47:01.169534Z",
     "start_time": "2022-10-31T14:46:49.760794Z"
    }
   },
   "outputs": [],
   "source": [
    "df[df['mp']=='poki.com'].to_csv(\"poki.csv\",index = False)"
   ]
  },
  {
   "cell_type": "code",
   "execution_count": null,
   "id": "f3ecbb6f",
   "metadata": {
    "ExecuteTime": {
     "end_time": "2022-10-31T14:47:31.396327Z",
     "start_time": "2022-10-31T14:47:01.171226Z"
    }
   },
   "outputs": [],
   "source": [
    "df[df['mp']=='ufreegames.com'].to_csv(\"ufreegames.csv\",index = False)"
   ]
  },
  {
   "cell_type": "code",
   "execution_count": null,
   "id": "013ca1b0",
   "metadata": {
    "ExecuteTime": {
     "end_time": "2022-10-31T14:47:53.515436Z",
     "start_time": "2022-10-31T14:47:31.398022Z"
    }
   },
   "outputs": [],
   "source": [
    "df[df['mp']=='iogame.app'].to_csv(\"iogame.csv\",index = False)"
   ]
  },
  {
   "cell_type": "code",
   "execution_count": null,
   "id": "34df0c3c",
   "metadata": {
    "ExecuteTime": {
     "end_time": "2022-10-31T14:48:10.314981Z",
     "start_time": "2022-10-31T14:47:53.517130Z"
    }
   },
   "outputs": [],
   "source": [
    "df[df['mp']=='friv.com'].to_csv(\"friv.csv\",index = False)"
   ]
  },
  {
   "cell_type": "code",
   "execution_count": null,
   "id": "0f62888b",
   "metadata": {},
   "outputs": [],
   "source": [
    "rsync -avz  hina@hina.science.mq.edu.au:/data/iogames_code/6_static_and_dynamic_analysis/url_analysis/crazygames.csv /Users/hinaqayyum/Desktop/VT/games_urls/\n",
    "    "
   ]
  },
  {
   "cell_type": "markdown",
   "id": "c8c13765",
   "metadata": {},
   "source": [
    "# MetaDefender "
   ]
  },
  {
   "cell_type": "code",
   "execution_count": null,
   "id": "32d7071e",
   "metadata": {},
   "outputs": [],
   "source": [
    "#loop\n",
    "import requests\n",
    "import urllib\n",
    "\n",
    "for item in lst_urls:\n",
    "\n",
    "    try:\n",
    "        print(\"******************\")\n",
    "        print(\"Looking at : \",item)\n",
    "        utf_s = urllib.parse.quote(item, safe='~')\n",
    "\n",
    "        url = f\"https://api.metadefender.com/v4/url/{utf_s}\"\n",
    "\n",
    "        headers = {\n",
    "        'apikey': \"4faa4b541792131d5d81eae2b125e3e6\"\n",
    "        }\n",
    "\n",
    "        response = requests.request(\"GET\", url, headers=headers)\n",
    "\n",
    "        # print(response.text)\n",
    "        print(eval(response.text)['lookup_results']['detected_by'])\n",
    "        print(eval(response.text)['lookup_results']['sources'][0]['assessment'])\n",
    "        print(eval(response.text)['lookup_results']['sources'][0]['category'])\n",
    "    except:\n",
    "        print(\"failed:\",item)\n",
    "        pass"
   ]
  }
 ],
 "metadata": {
  "kernelspec": {
   "display_name": "Python 3",
   "language": "python",
   "name": "python3"
  },
  "language_info": {
   "codemirror_mode": {
    "name": "ipython",
    "version": 3
   },
   "file_extension": ".py",
   "mimetype": "text/x-python",
   "name": "python",
   "nbconvert_exporter": "python",
   "pygments_lexer": "ipython3",
   "version": "3.8.10"
  }
 },
 "nbformat": 4,
 "nbformat_minor": 5
}
